{
 "cells": [
  {
   "cell_type": "code",
   "execution_count": 1,
   "id": "1885bf50",
   "metadata": {},
   "outputs": [],
   "source": [
    "import numpy as np\n",
    "import pandas as pd\n",
    "import matplotlib.pyplot as plt\n",
    "\n",
    "from sklearn.metrics import classification_report, confusion_matrix\n",
    "\n",
    "import tensorflow as tf\n",
    "import keras\n",
    "from keras.preprocessing.image import ImageDataGenerator\n",
    "from tensorflow.keras import applications\n",
    "from keras.models import Sequential, load_model\n",
    "from keras.layers import Conv2D, MaxPooling2D, GlobalAveragePooling2D, Flatten, Dense, Dropout\n",
    "from keras.preprocessing import image\n",
    "\n",
    "import warnings\n",
    "warnings.filterwarnings('ignore')"
   ]
  },
  {
   "cell_type": "code",
   "execution_count": 2,
   "id": "f676f465",
   "metadata": {},
   "outputs": [],
   "source": [
    "train_image='D:/Documents/Capstone/Project -2/Dataset/Full/train'"
   ]
  },
  {
   "cell_type": "code",
   "execution_count": 3,
   "id": "e67d7449",
   "metadata": {},
   "outputs": [],
   "source": [
    "train_datagen=ImageDataGenerator(rescale=1./255,\n",
    "                                 zoom_range=0.2,\n",
    "                                 shear_range=0.1,\n",
    "                                vertical_flip=False)"
   ]
  },
  {
   "cell_type": "code",
   "execution_count": 4,
   "id": "c1d7f68a",
   "metadata": {},
   "outputs": [
    {
     "name": "stdout",
     "output_type": "stream",
     "text": [
      "Found 1852 images belonging to 11 classes.\n"
     ]
    }
   ],
   "source": [
    "training_set=train_datagen.flow_from_directory(train_image,\n",
    "                                              target_size=(224,224),\n",
    "                                              class_mode='categorical',\n",
    "                                              batch_size=5)\n"
   ]
  },
  {
   "cell_type": "code",
   "execution_count": 10,
   "id": "28f306f3",
   "metadata": {},
   "outputs": [
    {
     "name": "stdout",
     "output_type": "stream",
     "text": [
      "Found 910 images belonging to 11 classes.\n"
     ]
    }
   ],
   "source": [
    "test_datagen = ImageDataGenerator(rescale = 1./255,\n",
    "                                 zoom_range=0.2)\n",
    "\n",
    "test_set=train_datagen.flow_from_directory('D:/Documents/Capstone/Project -2/Dataset/Full/test',\n",
    "                                              target_size=(224,224),\n",
    "                                              class_mode='categorical',\n",
    "                                              batch_size=5)"
   ]
  },
  {
   "cell_type": "code",
   "execution_count": 5,
   "id": "61a7d7d0",
   "metadata": {},
   "outputs": [],
   "source": [
    "base_model = tf.keras.applications.InceptionResNetV2(\n",
    "                     include_top=False,\n",
    "                     weights='imagenet',\n",
    "                     input_shape=(224,224,3)\n",
    "                     )\n",
    " \n",
    "base_model.trainable=False\n",
    " \n",
    "model = tf.keras.Sequential([\n",
    "        base_model,  \n",
    "        tf.keras.layers.BatchNormalization(renorm=True),\n",
    "        tf.keras.layers.GlobalAveragePooling2D(),\n",
    "        tf.keras.layers.Dense(256, activation='relu'),\n",
    "        tf.keras.layers.Dense(128, activation='relu'),\n",
    "        tf.keras.layers.Dense(11, activation='softmax')\n",
    "    ])"
   ]
  },
  {
   "cell_type": "code",
   "execution_count": 6,
   "id": "abdc1cc9",
   "metadata": {},
   "outputs": [],
   "source": [
    "model.compile(optimizer='Adam',loss='categorical_crossentropy',metrics=['accuracy', tf.keras.metrics.AUC(), tf.keras.metrics.Precision(), tf.keras.metrics.Recall(), tf.keras.metrics.TruePositives()])"
   ]
  },
  {
   "cell_type": "code",
   "execution_count": 7,
   "id": "51709e84",
   "metadata": {},
   "outputs": [
    {
     "name": "stdout",
     "output_type": "stream",
     "text": [
      "Model: \"sequential\"\n",
      "_________________________________________________________________\n",
      " Layer (type)                Output Shape              Param #   \n",
      "=================================================================\n",
      " inception_resnet_v2 (Functi  (None, 5, 5, 1536)       54336736  \n",
      " onal)                                                           \n",
      "                                                                 \n",
      " batch_normalization_203 (Ba  (None, 5, 5, 1536)       10752     \n",
      " tchNormalization)                                               \n",
      "                                                                 \n",
      " global_average_pooling2d (G  (None, 1536)             0         \n",
      " lobalAveragePooling2D)                                          \n",
      "                                                                 \n",
      " dense (Dense)               (None, 256)               393472    \n",
      "                                                                 \n",
      " dense_1 (Dense)             (None, 128)               32896     \n",
      "                                                                 \n",
      " dense_2 (Dense)             (None, 11)                1419      \n",
      "                                                                 \n",
      "=================================================================\n",
      "Total params: 54,775,275\n",
      "Trainable params: 430,859\n",
      "Non-trainable params: 54,344,416\n",
      "_________________________________________________________________\n"
     ]
    }
   ],
   "source": [
    "model.summary()"
   ]
  },
  {
   "cell_type": "code",
   "execution_count": 8,
   "id": "68ae0327",
   "metadata": {},
   "outputs": [],
   "source": [
    "early = tf.keras.callbacks.EarlyStopping(patience=10, min_delta=0.001, restore_best_weights=True)"
   ]
  },
  {
   "cell_type": "code",
   "execution_count": 11,
   "id": "84cf1f83",
   "metadata": {},
   "outputs": [
    {
     "name": "stdout",
     "output_type": "stream",
     "text": [
      "Epoch 1/8\n",
      "370/370 [==============================] - 1502s 4s/step - loss: 1.3593 - accuracy: 0.5555 - auc: 0.9037 - precision: 0.6943 - recall: 0.4218 - true_positives: 779.0000 - val_loss: 1.1736 - val_accuracy: 0.6121 - val_auc: 0.9264 - val_precision: 0.7488 - val_recall: 0.5242 - val_true_positives: 477.0000\n",
      "Epoch 2/8\n",
      "370/370 [==============================] - 1547s 4s/step - loss: 0.8456 - accuracy: 0.7195 - auc: 0.9623 - precision: 0.7983 - recall: 0.6470 - true_positives: 1195.0000 - val_loss: 1.1704 - val_accuracy: 0.6143 - val_auc: 0.9329 - val_precision: 0.7100 - val_recall: 0.5703 - val_true_positives: 519.0000\n",
      "Epoch 3/8\n",
      "370/370 [==============================] - 1598s 4s/step - loss: 0.6907 - accuracy: 0.7602 - auc: 0.9748 - precision: 0.8219 - recall: 0.7071 - true_positives: 1306.0000 - val_loss: 0.9982 - val_accuracy: 0.6901 - val_auc: 0.9466 - val_precision: 0.7629 - val_recall: 0.6330 - val_true_positives: 576.0000\n",
      "Epoch 4/8\n",
      "370/370 [==============================] - 1593s 4s/step - loss: 0.5871 - accuracy: 0.8100 - auc: 0.9792 - precision: 0.8542 - recall: 0.7645 - true_positives: 1412.0000 - val_loss: 0.9505 - val_accuracy: 0.7242 - val_auc: 0.9540 - val_precision: 0.7873 - val_recall: 0.6791 - val_true_positives: 618.0000\n",
      "Epoch 5/8\n",
      "370/370 [==============================] - 1369s 4s/step - loss: 0.5068 - accuracy: 0.8267 - auc: 0.9851 - precision: 0.8737 - recall: 0.7867 - true_positives: 1453.0000 - val_loss: 0.9635 - val_accuracy: 0.7231 - val_auc: 0.9547 - val_precision: 0.7648 - val_recall: 0.6967 - val_true_positives: 634.0000\n",
      "Epoch 6/8\n",
      "370/370 [==============================] - 1016s 3s/step - loss: 0.4771 - accuracy: 0.8273 - auc: 0.9860 - precision: 0.8694 - recall: 0.7926 - true_positives: 1464.0000 - val_loss: 0.8941 - val_accuracy: 0.7418 - val_auc: 0.9601 - val_precision: 0.7897 - val_recall: 0.7055 - val_true_positives: 642.0000\n",
      "Epoch 7/8\n",
      "370/370 [==============================] - 967s 3s/step - loss: 0.3953 - accuracy: 0.8717 - auc: 0.9902 - precision: 0.8985 - recall: 0.8343 - true_positives: 1541.0000 - val_loss: 1.0130 - val_accuracy: 0.7220 - val_auc: 0.9516 - val_precision: 0.7610 - val_recall: 0.7033 - val_true_positives: 640.0000\n",
      "Epoch 8/8\n",
      "370/370 [==============================] - 1097s 3s/step - loss: 0.3718 - accuracy: 0.8760 - auc: 0.9898 - precision: 0.9040 - recall: 0.8565 - true_positives: 1582.0000 - val_loss: 0.9808 - val_accuracy: 0.7462 - val_auc: 0.9521 - val_precision: 0.7828 - val_recall: 0.7209 - val_true_positives: 656.0000\n"
     ]
    }
   ],
   "source": [
    "batch_size=64\n",
    "STEP_SIZE_TRAIN = training_set.n//training_set.batch_size\n",
    "STEP_SIZE_VALID = test_set.n//test_set.batch_size\n",
    "\n",
    "# fit model\n",
    "history = model.fit(training_set, steps_per_epoch=STEP_SIZE_TRAIN,\n",
    "                    validation_data=test_set,\n",
    "                    validation_steps=STEP_SIZE_VALID,\n",
    "                    epochs=8,\n",
    "                    callbacks=[early])"
   ]
  },
  {
   "cell_type": "code",
   "execution_count": 12,
   "id": "2a497bb1",
   "metadata": {},
   "outputs": [
    {
     "data": {
      "image/png": "[encoded data removed]",
      "text/plain": [
       "<Figure size 432x288 with 1 Axes>"
      ]
     },
     "metadata": {
      "needs_background": "light"
     },
     "output_type": "display_data"
    }
   ],
   "source": [
    "from matplotlib import pyplot\n",
    "pyplot.plot(history.history['accuracy'])\n",
    "pyplot.show()"
   ]
  },
  {
   "cell_type": "code",
   "execution_count": null,
   "id": "46eca769",
   "metadata": {},
   "outputs": [],
   "source": []
  }
 ],
 "metadata": {
  "kernelspec": {
   "display_name": "Python 3",
   "language": "python",
   "name": "python3"
  },
  "language_info": {
   "codemirror_mode": {
    "name": "ipython",
    "version": 3
   },
   "file_extension": ".py",
   "mimetype": "text/x-python",
   "name": "python",
   "nbconvert_exporter": "python",
   "pygments_lexer": "ipython3",
   "version": "3.8.13"
  }
 },
 "nbformat": 4,
 "nbformat_minor": 5
}
