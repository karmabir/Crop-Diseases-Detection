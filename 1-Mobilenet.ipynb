{
 "cells": [
  {
   "cell_type": "code",
   "execution_count": 1,
   "id": "d4a5726c",
   "metadata": {},
   "outputs": [],
   "source": [
    "import tensorflow as tf\n",
    "from tensorflow.keras.preprocessing.image import ImageDataGenerator\n",
    "import os\n",
    "import tensorflow_hub as hub\n",
    "from tensorflow.keras.models import Sequential\n",
    "from tensorflow.keras.layers import Dense\n",
    "from tensorflow.keras.optimizers import Adam\n",
    "from tensorflow.keras.losses import CategoricalCrossentropy\n",
    "import tensorboard\n",
    "from keras.callbacks import Callback, TensorBoard\n",
    "import time\n",
    "import numpy as np\n",
    "import matplotlib.pyplot as plt"
   ]
  },
  {
   "cell_type": "code",
   "execution_count": 2,
   "id": "5857ea66",
   "metadata": {},
   "outputs": [],
   "source": [
    "# pip install tensorflow_hub"
   ]
  },
  {
   "cell_type": "code",
   "execution_count": 3,
   "id": "00cc1cf2",
   "metadata": {},
   "outputs": [],
   "source": [
    "train_image='D:/Documents/Capstone/Project -2/Dataset/Full/train'"
   ]
  },
  {
   "cell_type": "code",
   "execution_count": 4,
   "id": "e0fd6341",
   "metadata": {},
   "outputs": [],
   "source": [
    "train_datagen=ImageDataGenerator(rescale=1./255,\n",
    "                                 zoom_range=0.2,\n",
    "                                 shear_range=0.1,\n",
    "                                vertical_flip=False)"
   ]
  },
  {
   "cell_type": "code",
   "execution_count": 5,
   "id": "ab448d86",
   "metadata": {},
   "outputs": [
    {
     "name": "stdout",
     "output_type": "stream",
     "text": [
      "Found 1852 images belonging to 11 classes.\n"
     ]
    }
   ],
   "source": [
    "training_set=train_datagen.flow_from_directory(train_image,\n",
    "                                              target_size=(224,224),\n",
    "                                              class_mode='categorical',\n",
    "                                              batch_size=5)"
   ]
  },
  {
   "cell_type": "code",
   "execution_count": 6,
   "id": "9e40dddd",
   "metadata": {},
   "outputs": [
    {
     "name": "stdout",
     "output_type": "stream",
     "text": [
      "Found 910 images belonging to 11 classes.\n"
     ]
    }
   ],
   "source": [
    "test_datagen = ImageDataGenerator(rescale = 1./255,\n",
    "                                 zoom_range=0.2)\n",
    "\n",
    "test_set=test_datagen.flow_from_directory('D:/Documents/Capstone/Project -2/Dataset/Full/test',\n",
    "                                              target_size=(224,224),\n",
    "                                              class_mode='categorical',\n",
    "                                              batch_size=5)"
   ]
  },
  {
   "cell_type": "code",
   "execution_count": 7,
   "id": "5617a86b",
   "metadata": {},
   "outputs": [],
   "source": [
    "#Mobilenet\n",
    "mobileNet = \"https://tfhub.dev/google/imagenet/mobilenet_v2_050_224/classification/5\""
   ]
  },
  {
   "cell_type": "code",
   "execution_count": 8,
   "id": "452eef75",
   "metadata": {},
   "outputs": [],
   "source": [
    "# model \n",
    "model = Sequential([\n",
    "    #layer input\n",
    "    hub.KerasLayer(mobileNet, input_shape=(224, 224, 3), trainable=False),\n",
    "    #layer output\n",
    "    Dense(11, activation=\"softmax\")]\n",
    ")"
   ]
  },
  {
   "cell_type": "code",
   "execution_count": 10,
   "id": "78f15790",
   "metadata": {},
   "outputs": [
    {
     "name": "stdout",
     "output_type": "stream",
     "text": [
      "Model: \"sequential\"\n",
      "_________________________________________________________________\n",
      " Layer (type)                Output Shape              Param #   \n",
      "=================================================================\n",
      " keras_layer (KerasLayer)    (None, 1001)              1988505   \n",
      "                                                                 \n",
      " dense (Dense)               (None, 11)                11022     \n",
      "                                                                 \n",
      "=================================================================\n",
      "Total params: 1,999,527\n",
      "Trainable params: 11,022\n",
      "Non-trainable params: 1,988,505\n",
      "_________________________________________________________________\n"
     ]
    }
   ],
   "source": [
    "model.compile(optimizer=Adam(),\n",
    "              loss=CategoricalCrossentropy(),\n",
    "              metrics=[\"accuracy\", tf.keras.metrics.AUC(), tf.keras.metrics.Precision(), tf.keras.metrics.Recall(), tf.keras.metrics.TruePositives()])\n",
    "\n",
    "model.summary()"
   ]
  },
  {
   "cell_type": "code",
   "execution_count": 11,
   "id": "c00b2b45",
   "metadata": {},
   "outputs": [],
   "source": [
    "early = tf.keras.callbacks.EarlyStopping(patience=10, min_delta=0.001, restore_best_weights=True)"
   ]
  },
  {
   "cell_type": "code",
   "execution_count": 12,
   "id": "0778f196",
   "metadata": {},
   "outputs": [
    {
     "name": "stdout",
     "output_type": "stream",
     "text": [
      "Epoch 1/10\n",
      "370/370 [==============================] - 841s 2s/step - loss: 1.2613 - accuracy: 0.6037 - auc: 0.9187 - precision: 0.7167 - recall: 0.5068 - true_positives: 936.0000 - val_loss: 0.9558 - val_accuracy: 0.6989 - val_auc: 0.9524 - val_precision: 0.7649 - val_recall: 0.6077 - val_true_positives: 553.0000\n",
      "Epoch 2/10\n",
      "370/370 [==============================] - 860s 2s/step - loss: 0.8427 - accuracy: 0.7347 - auc: 0.9615 - precision: 0.7991 - recall: 0.6784 - true_positives: 1253.0000 - val_loss: 0.9516 - val_accuracy: 0.7022 - val_auc: 0.9533 - val_precision: 0.7646 - val_recall: 0.6495 - val_true_positives: 591.0000\n",
      "Epoch 3/10\n",
      "370/370 [==============================] - 1592s 4s/step - loss: 0.7299 - accuracy: 0.7520 - auc: 0.9707 - precision: 0.8064 - recall: 0.7217 - true_positives: 1333.0000 - val_loss: 0.9723 - val_accuracy: 0.7209 - val_auc: 0.9519 - val_precision: 0.7624 - val_recall: 0.6912 - val_true_positives: 629.0000\n",
      "Epoch 4/10\n",
      "370/370 [==============================] - 1621s 4s/step - loss: 0.6526 - accuracy: 0.7878 - auc: 0.9754 - precision: 0.8398 - recall: 0.7520 - true_positives: 1389.0000 - val_loss: 0.9330 - val_accuracy: 0.7264 - val_auc: 0.9550 - val_precision: 0.7775 - val_recall: 0.6989 - val_true_positives: 636.0000\n",
      "Epoch 5/10\n",
      "370/370 [==============================] - 1637s 4s/step - loss: 0.5959 - accuracy: 0.7986 - auc: 0.9795 - precision: 0.8379 - recall: 0.7666 - true_positives: 1416.0000 - val_loss: 0.9735 - val_accuracy: 0.7297 - val_auc: 0.9526 - val_precision: 0.7681 - val_recall: 0.6989 - val_true_positives: 636.0000\n",
      "Epoch 6/10\n",
      "370/370 [==============================] - 1619s 4s/step - loss: 0.6077 - accuracy: 0.7921 - auc: 0.9794 - precision: 0.8307 - recall: 0.7650 - true_positives: 1413.0000 - val_loss: 1.0874 - val_accuracy: 0.7055 - val_auc: 0.9425 - val_precision: 0.7561 - val_recall: 0.6780 - val_true_positives: 617.0000\n",
      "Epoch 7/10\n",
      "370/370 [==============================] - 1212s 3s/step - loss: 0.5187 - accuracy: 0.8257 - auc: 0.9825 - precision: 0.8581 - recall: 0.7991 - true_positives: 1476.0000 - val_loss: 1.0354 - val_accuracy: 0.7198 - val_auc: 0.9475 - val_precision: 0.7665 - val_recall: 0.6890 - val_true_positives: 627.0000\n",
      "Epoch 8/10\n",
      "370/370 [==============================] - 1066s 3s/step - loss: 0.5256 - accuracy: 0.8224 - auc: 0.9840 - precision: 0.8550 - recall: 0.7948 - true_positives: 1468.0000 - val_loss: 1.0311 - val_accuracy: 0.7385 - val_auc: 0.9476 - val_precision: 0.7725 - val_recall: 0.7165 - val_true_positives: 652.0000\n",
      "Epoch 9/10\n",
      "370/370 [==============================] - 1143s 3s/step - loss: 0.5148 - accuracy: 0.8257 - auc: 0.9826 - precision: 0.8527 - recall: 0.8024 - true_positives: 1482.0000 - val_loss: 1.2019 - val_accuracy: 0.6945 - val_auc: 0.9370 - val_precision: 0.7267 - val_recall: 0.6780 - val_true_positives: 617.0000\n",
      "Epoch 10/10\n",
      "370/370 [==============================] - 897s 2s/step - loss: 0.4987 - accuracy: 0.8354 - auc: 0.9845 - precision: 0.8569 - recall: 0.8138 - true_positives: 1503.0000 - val_loss: 1.0138 - val_accuracy: 0.7462 - val_auc: 0.9528 - val_precision: 0.7734 - val_recall: 0.7165 - val_true_positives: 652.0000\n"
     ]
    }
   ],
   "source": [
    "batch_size=512\n",
    "STEP_SIZE_TRAIN = training_set.n//training_set.batch_size\n",
    "STEP_SIZE_VALID = test_set.n//test_set.batch_size\n",
    "\n",
    "# fit model\n",
    "history = model.fit(training_set, steps_per_epoch=STEP_SIZE_TRAIN,\n",
    "                    validation_data=test_set,\n",
    "                    validation_steps=STEP_SIZE_VALID,\n",
    "                    epochs=10,\n",
    "                    callbacks=[early])"
   ]
  },
  {
   "cell_type": "code",
   "execution_count": 13,
   "id": "5e95e83f",
   "metadata": {},
   "outputs": [
    {
     "data": {
      "image/png": "[encoded data removed]",
      "text/plain": [
       "<Figure size 432x288 with 1 Axes>"
      ]
     },
     "metadata": {
      "needs_background": "light"
     },
     "output_type": "display_data"
    }
   ],
   "source": [
    "from matplotlib import pyplot\n",
    "pyplot.plot(history.history['accuracy'])\n",
    "pyplot.show()"
   ]
  },
  {
   "cell_type": "code",
   "execution_count": null,
   "id": "c39e86de",
   "metadata": {},
   "outputs": [],
   "source": []
  },
  {
   "cell_type": "code",
   "execution_count": null,
   "id": "cfd90039",
   "metadata": {},
   "outputs": [],
   "source": []
  }
 ],
 "metadata": {
  "kernelspec": {
   "display_name": "Python 3",
   "language": "python",
   "name": "python3"
  },
  "language_info": {
   "codemirror_mode": {
    "name": "ipython",
    "version": 3
   },
   "file_extension": ".py",
   "mimetype": "text/x-python",
   "name": "python",
   "nbconvert_exporter": "python",
   "pygments_lexer": "ipython3",
   "version": "3.8.13"
  }
 },
 "nbformat": 4,
 "nbformat_minor": 5
}
