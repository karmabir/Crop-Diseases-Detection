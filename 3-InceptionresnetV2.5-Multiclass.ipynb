{
 "cells": [
  {
   "cell_type": "code",
   "execution_count": 1,
   "id": "f06c7445",
   "metadata": {},
   "outputs": [],
   "source": [
    "import numpy as np\n",
    "import pandas as pd\n",
    "import matplotlib.pyplot as plt\n",
    "\n",
    "from sklearn.metrics import classification_report, confusion_matrix\n",
    "\n",
    "import tensorflow as tf\n",
    "import keras\n",
    "from keras.preprocessing.image import ImageDataGenerator\n",
    "from tensorflow.keras import applications\n",
    "from keras.models import Sequential, load_model\n",
    "from keras.layers import Conv2D, MaxPooling2D, GlobalAveragePooling2D, Flatten, Dense, Dropout\n",
    "from keras.preprocessing import image\n",
    "\n",
    "import warnings\n",
    "warnings.filterwarnings('ignore')"
   ]
  },
  {
   "cell_type": "code",
   "execution_count": 2,
   "id": "33ccc81c",
   "metadata": {},
   "outputs": [],
   "source": [
    "train_image='D:/Documents/Capstone/Project -2/New Bangladeshi/BangladeshiCrops/BangladeshiCrops/Train'"
   ]
  },
  {
   "cell_type": "code",
   "execution_count": 3,
   "id": "f110d2ef",
   "metadata": {},
   "outputs": [
    {
     "name": "stdout",
     "output_type": "stream",
     "text": [
      "Found 10554 images belonging to 14 classes.\n"
     ]
    }
   ],
   "source": [
    "train_datagen=ImageDataGenerator(rescale=1./255,\n",
    "                                 zoom_range=0.2,\n",
    "                                 shear_range=0.1,\n",
    "                                vertical_flip=False)\n",
    "training_set=train_datagen.flow_from_directory(train_image,\n",
    "                                              target_size=(224,224),\n",
    "                                              class_mode='categorical',\n",
    "                                              batch_size=512)"
   ]
  },
  {
   "cell_type": "code",
   "execution_count": 4,
   "id": "862cedb0",
   "metadata": {},
   "outputs": [
    {
     "name": "stdout",
     "output_type": "stream",
     "text": [
      "Found 2470 images belonging to 14 classes.\n"
     ]
    }
   ],
   "source": [
    "test_datagen = ImageDataGenerator(rescale = 1./255,\n",
    "                                 zoom_range=0.2)\n",
    "\n",
    "test_set=test_datagen.flow_from_directory('D:/Documents/Capstone/Project -2/New Bangladeshi/BangladeshiCrops/BangladeshiCrops/Test',\n",
    "                                              target_size=(224,224),\n",
    "                                              class_mode='categorical',\n",
    "                                              batch_size=512)"
   ]
  },
  {
   "cell_type": "code",
   "execution_count": 5,
   "id": "ed004dcd",
   "metadata": {},
   "outputs": [],
   "source": [
    "base_model = tf.keras.applications.InceptionResNetV2(\n",
    "                     include_top=False,\n",
    "                     weights='imagenet',\n",
    "                     input_shape=(224,224,3)\n",
    "                     )\n",
    " \n",
    "base_model.trainable=False\n",
    " \n",
    "model = tf.keras.Sequential([\n",
    "        base_model,  \n",
    "        tf.keras.layers.BatchNormalization(renorm=True),\n",
    "        tf.keras.layers.GlobalAveragePooling2D(),\n",
    "        tf.keras.layers.Dense(256, activation='relu'),\n",
    "        tf.keras.layers.Dense(128, activation='relu'),\n",
    "        tf.keras.layers.Dense(14, activation='softmax')\n",
    "    ])"
   ]
  },
  {
   "cell_type": "code",
   "execution_count": 6,
   "id": "e03bb59e",
   "metadata": {},
   "outputs": [],
   "source": [
    "# tf.keras.metrics.AUC(\n",
    "#     num_thresholds=200,\n",
    "#     curve=\"ROC\",\n",
    "#     summation_method=\"interpolation\",\n",
    "#     name=None,\n",
    "#     dtype=None,\n",
    "#     thresholds=None,\n",
    "#     multi_label=False,\n",
    "#     num_labels=None,\n",
    "#     label_weights=None,\n",
    "#     from_logits=False,\n",
    "# )"
   ]
  },
  {
   "cell_type": "code",
   "execution_count": 7,
   "id": "11784459",
   "metadata": {},
   "outputs": [],
   "source": [
    "# tf.keras.metrics.Precision(\n",
    "#     thresholds=None, top_k=None, class_id=None, name=None, dtype=None\n",
    "# )"
   ]
  },
  {
   "cell_type": "code",
   "execution_count": 8,
   "id": "72a5b972",
   "metadata": {},
   "outputs": [],
   "source": [
    "model.compile(optimizer='Adam',loss='categorical_crossentropy',metrics=['accuracy', tf.keras.metrics.AUC(), tf.keras.metrics.Precision(), tf.keras.metrics.Recall(), tf.keras.metrics.TruePositives()])"
   ]
  },
  {
   "cell_type": "code",
   "execution_count": 9,
   "id": "02e28dde",
   "metadata": {},
   "outputs": [
    {
     "name": "stdout",
     "output_type": "stream",
     "text": [
      "Model: \"sequential\"\n",
      "_________________________________________________________________\n",
      " Layer (type)                Output Shape              Param #   \n",
      "=================================================================\n",
      " inception_resnet_v2 (Functi  (None, 5, 5, 1536)       54336736  \n",
      " onal)                                                           \n",
      "                                                                 \n",
      " batch_normalization_203 (Ba  (None, 5, 5, 1536)       10752     \n",
      " tchNormalization)                                               \n",
      "                                                                 \n",
      " global_average_pooling2d (G  (None, 1536)             0         \n",
      " lobalAveragePooling2D)                                          \n",
      "                                                                 \n",
      " dense (Dense)               (None, 256)               393472    \n",
      "                                                                 \n",
      " dense_1 (Dense)             (None, 128)               32896     \n",
      "                                                                 \n",
      " dense_2 (Dense)             (None, 14)                1806      \n",
      "                                                                 \n",
      "=================================================================\n",
      "Total params: 54,775,662\n",
      "Trainable params: 431,246\n",
      "Non-trainable params: 54,344,416\n",
      "_________________________________________________________________\n"
     ]
    }
   ],
   "source": [
    "model.summary()"
   ]
  },
  {
   "cell_type": "code",
   "execution_count": 10,
   "id": "09ba3240",
   "metadata": {},
   "outputs": [],
   "source": [
    "early = tf.keras.callbacks.EarlyStopping(patience=10, min_delta=0.001, restore_best_weights=True)"
   ]
  },
  {
   "cell_type": "code",
   "execution_count": 11,
   "id": "ea1333d1",
   "metadata": {},
   "outputs": [
    {
     "name": "stdout",
     "output_type": "stream",
     "text": [
      "Epoch 1/8\n",
      "20/20 [==============================] - 962s 48s/step - loss: 1.0009 - accuracy: 0.6640 - auc: 0.9615 - precision: 0.8184 - recall: 0.5044 - true_positives: 5065.0000 - val_loss: 0.6146 - val_accuracy: 0.7627 - val_auc: 0.9841 - val_precision: 0.8123 - val_recall: 0.7163 - val_true_positives: 1467.0000\n",
      "Epoch 2/8\n",
      "20/20 [==============================] - 940s 47s/step - loss: 0.4118 - accuracy: 0.8447 - auc: 0.9931 - precision: 0.8715 - recall: 0.8068 - true_positives: 8102.0000 - val_loss: 0.4991 - val_accuracy: 0.8145 - val_auc: 0.9887 - val_precision: 0.8479 - val_recall: 0.7783 - val_true_positives: 1594.0000\n",
      "Epoch 3/8\n",
      "20/20 [==============================] - 955s 48s/step - loss: 0.3263 - accuracy: 0.8771 - auc: 0.9955 - precision: 0.8982 - recall: 0.8519 - true_positives: 8555.0000 - val_loss: 0.4781 - val_accuracy: 0.8237 - val_auc: 0.9892 - val_precision: 0.8610 - val_recall: 0.8047 - val_true_positives: 1648.0000\n",
      "Epoch 4/8\n",
      "20/20 [==============================] - 960s 48s/step - loss: 0.2786 - accuracy: 0.8993 - auc: 0.9969 - precision: 0.9159 - recall: 0.8786 - true_positives: 8823.0000 - val_loss: 0.4649 - val_accuracy: 0.8394 - val_auc: 0.9878 - val_precision: 0.8570 - val_recall: 0.8164 - val_true_positives: 1672.0000\n",
      "Epoch 5/8\n",
      "20/20 [==============================] - 962s 48s/step - loss: 0.2590 - accuracy: 0.9039 - auc: 0.9972 - precision: 0.9171 - recall: 0.8854 - true_positives: 8891.0000 - val_loss: 0.4818 - val_accuracy: 0.8394 - val_auc: 0.9867 - val_precision: 0.8541 - val_recall: 0.8203 - val_true_positives: 1680.0000\n",
      "Epoch 6/8\n",
      "20/20 [==============================] - 958s 48s/step - loss: 0.2324 - accuracy: 0.9114 - auc: 0.9978 - precision: 0.9224 - recall: 0.8991 - true_positives: 9029.0000 - val_loss: 0.4776 - val_accuracy: 0.8662 - val_auc: 0.9826 - val_precision: 0.8782 - val_recall: 0.8486 - val_true_positives: 1738.0000\n",
      "Epoch 7/8\n",
      "20/20 [==============================] - 954s 47s/step - loss: 0.2276 - accuracy: 0.9169 - auc: 0.9977 - precision: 0.9276 - recall: 0.9052 - true_positives: 9090.0000 - val_loss: 0.5061 - val_accuracy: 0.8477 - val_auc: 0.9834 - val_precision: 0.8598 - val_recall: 0.8354 - val_true_positives: 1711.0000\n",
      "Epoch 8/8\n",
      "20/20 [==============================] - 943s 47s/step - loss: 0.2235 - accuracy: 0.9150 - auc: 0.9978 - precision: 0.9253 - recall: 0.9048 - true_positives: 9086.0000 - val_loss: 0.4865 - val_accuracy: 0.8467 - val_auc: 0.9841 - val_precision: 0.8635 - val_recall: 0.8276 - val_true_positives: 1695.0000\n"
     ]
    }
   ],
   "source": [
    "batch_size=1024\n",
    "STEP_SIZE_TRAIN = training_set.n//training_set.batch_size\n",
    "STEP_SIZE_VALID = test_set.n//test_set.batch_size\n",
    "\n",
    "# fit model\n",
    "history = model.fit(training_set, steps_per_epoch=STEP_SIZE_TRAIN,\n",
    "                    validation_data=test_set,\n",
    "                    validation_steps=STEP_SIZE_VALID,\n",
    "                    epochs=8,\n",
    "                    callbacks=[early])"
   ]
  },
  {
   "cell_type": "code",
   "execution_count": 12,
   "id": "ed997853",
   "metadata": {},
   "outputs": [],
   "source": [
    "# predictions = model.predict_generator(test_set, steps=STEP_SIZE_VALID)"
   ]
  },
  {
   "cell_type": "code",
   "execution_count": 13,
   "id": "c376f690",
   "metadata": {},
   "outputs": [],
   "source": [
    "# predicted_classes = np.argmax(predictions, axis=1)"
   ]
  },
  {
   "cell_type": "code",
   "execution_count": 14,
   "id": "75d350f8",
   "metadata": {},
   "outputs": [],
   "source": [
    "# def predictor(test_set, test_steps):\n",
    "#     y_pred= []\n",
    "#     y_true=test_set.labels\n",
    "#     classes=list(training_set.class_indices.keys())\n",
    "#     class_count=len(classes)\n",
    "#     errors=0\n",
    "#     preds=model.predict(test_set, steps=test_steps, verbose=1)\n",
    "#     tests=len(preds)\n",
    "#     for i, p in enumerate(preds):\n",
    "#             pred_index=np.argmax(p)         \n",
    "#             true_index=test_set.labels[i]  # labels are integer values\n",
    "#             if pred_index != true_index: # a misclassification has occurred                                           \n",
    "#                 errors=errors + 1\n",
    "#             y_pred.append(pred_index)\n",
    "#     acc=( 1-errors/tests) * 100\n",
    "#     print(f'there were {errors} errors in {tests} tests for an accuracy of {acc:6.2f}')\n",
    "#     ypred=np.array(y_pred)\n",
    "#     ytrue=np.array(y_true)\n",
    "#     cm = confusion_matrix(ytrue, ypred)\n",
    "#     # plot the confusion matrix\n",
    "#     plt.figure(figsize=(12, 8))\n",
    "#     sns.heatmap(cm, annot=True, vmin=0, fmt='g', cmap='Blues', cbar=False)       \n",
    "#     plt.xticks(np.arange(class_count)+.5, classes, rotation=90)\n",
    "#     plt.yticks(np.arange(class_count)+.5, classes, rotation=0)\n",
    "#     plt.xlabel(\"Predicted\")\n",
    "#     plt.ylabel(\"Actual\")\n",
    "#     plt.title(\"Confusion Matrix\")\n",
    "#     plt.show()\n",
    "#     clr = classification_report(y_true, y_pred, target_names=classes, digits= 4) # create classification report\n",
    "#     print(\"Classification Report:\\n----------------------\\n\", clr)\n",
    "#     return errors, tests\n",
    "\n",
    "# errors, tests=predictor(test_set, STEP_SIZE_VALID)"
   ]
  },
  {
   "cell_type": "code",
   "execution_count": 15,
   "id": "0451a17d",
   "metadata": {},
   "outputs": [],
   "source": [
    "from matplotlib import pyplot"
   ]
  },
  {
   "cell_type": "code",
   "execution_count": 16,
   "id": "9b301b2a",
   "metadata": {},
   "outputs": [
    {
     "data": {
      "image/png": "[encoded data removed]",
      "text/plain": [
       "<Figure size 432x288 with 1 Axes>"
      ]
     },
     "metadata": {
      "needs_background": "light"
     },
     "output_type": "display_data"
    }
   ],
   "source": [
    "pyplot.plot(history.history['accuracy'])\n",
    "pyplot.show()"
   ]
  },
  {
   "cell_type": "code",
   "execution_count": null,
   "id": "6c1640e5",
   "metadata": {},
   "outputs": [],
   "source": []
  }
 ],
 "metadata": {
  "kernelspec": {
   "display_name": "Python 3",
   "language": "python",
   "name": "python3"
  },
  "language_info": {
   "codemirror_mode": {
    "name": "ipython",
    "version": 3
   },
   "file_extension": ".py",
   "mimetype": "text/x-python",
   "name": "python",
   "nbconvert_exporter": "python",
   "pygments_lexer": "ipython3",
   "version": "3.8.13"
  }
 },
 "nbformat": 4,
 "nbformat_minor": 5
}
