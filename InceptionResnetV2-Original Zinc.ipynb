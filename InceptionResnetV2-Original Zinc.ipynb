{
 "cells": [
  {
   "cell_type": "code",
   "execution_count": 1,
   "id": "a1e6b261",
   "metadata": {},
   "outputs": [],
   "source": [
    "import numpy as np\n",
    "import pandas as pd\n",
    "import matplotlib.pyplot as plt\n",
    "\n",
    "from sklearn.metrics import classification_report, confusion_matrix\n",
    "\n",
    "import tensorflow as tf\n",
    "import keras\n",
    "from keras.preprocessing.image import ImageDataGenerator\n",
    "from tensorflow.keras import applications\n",
    "from keras.models import Sequential, load_model\n",
    "from keras.layers import Conv2D, MaxPooling2D, GlobalAveragePooling2D, Flatten, Dense, Dropout\n",
    "from keras.preprocessing import image\n",
    "\n",
    "import warnings\n",
    "warnings.filterwarnings('ignore')"
   ]
  },
  {
   "cell_type": "code",
   "execution_count": 2,
   "id": "b8120c5d",
   "metadata": {},
   "outputs": [],
   "source": [
    "train_image='D:/Documents/Capstone/Project -2/Dataset/zinc_Vs_non-Zinc/train'"
   ]
  },
  {
   "cell_type": "code",
   "execution_count": 3,
   "id": "d22736f9",
   "metadata": {},
   "outputs": [],
   "source": [
    "train_datagen=ImageDataGenerator(rescale=1./255,\n",
    "                                 zoom_range=0.2,\n",
    "                                 shear_range=0.1,\n",
    "                                vertical_flip=False)"
   ]
  },
  {
   "cell_type": "code",
   "execution_count": 4,
   "id": "42b64ef9",
   "metadata": {},
   "outputs": [
    {
     "name": "stdout",
     "output_type": "stream",
     "text": [
      "Found 600 images belonging to 2 classes.\n"
     ]
    }
   ],
   "source": [
    "training_set=train_datagen.flow_from_directory(train_image,\n",
    "                                              target_size=(224,224),\n",
    "                                              class_mode='categorical',\n",
    "                                              batch_size=5)\n"
   ]
  },
  {
   "cell_type": "code",
   "execution_count": 5,
   "id": "7c778cc7",
   "metadata": {},
   "outputs": [
    {
     "name": "stdout",
     "output_type": "stream",
     "text": [
      "Found 60 images belonging to 2 classes.\n"
     ]
    }
   ],
   "source": [
    "test_datagen = ImageDataGenerator(rescale = 1./255,\n",
    "                                 zoom_range=0.2)\n",
    "\n",
    "test_set=train_datagen.flow_from_directory('D:/Documents/Capstone/Project -2/Dataset/zinc_Vs_non-Zinc/test',\n",
    "                                              target_size=(224,224),\n",
    "                                              class_mode='categorical',\n",
    "                                              batch_size=5)"
   ]
  },
  {
   "cell_type": "code",
   "execution_count": 6,
   "id": "f400df68",
   "metadata": {},
   "outputs": [
    {
     "name": "stdout",
     "output_type": "stream",
     "text": [
      "Model: \"sequential\"\n",
      "_________________________________________________________________\n",
      " Layer (type)                Output Shape              Param #   \n",
      "=================================================================\n",
      " inception_resnet_v2 (Functi  (None, 5, 5, 1536)       54336736  \n",
      " onal)                                                           \n",
      "                                                                 \n",
      " batch_normalization_203 (Ba  (None, 5, 5, 1536)       10752     \n",
      " tchNormalization)                                               \n",
      "                                                                 \n",
      " global_average_pooling2d (G  (None, 1536)             0         \n",
      " lobalAveragePooling2D)                                          \n",
      "                                                                 \n",
      " dense (Dense)               (None, 2)                 3074      \n",
      "                                                                 \n",
      "=================================================================\n",
      "Total params: 54,350,562\n",
      "Trainable params: 6,146\n",
      "Non-trainable params: 54,344,416\n",
      "_________________________________________________________________\n",
      "Epoch 1/10\n",
      "120/120 [==============================] - 802s 6s/step - loss: 0.4662 - accuracy: 0.7850 - val_loss: 0.2963 - val_accuracy: 0.9167\n",
      "Epoch 2/10\n",
      "120/120 [==============================] - 718s 6s/step - loss: 0.2753 - accuracy: 0.8850 - val_loss: 0.2769 - val_accuracy: 0.8667\n",
      "Epoch 3/10\n",
      "120/120 [==============================] - 774s 6s/step - loss: 0.1851 - accuracy: 0.9217 - val_loss: 0.1265 - val_accuracy: 0.9667\n",
      "Epoch 4/10\n",
      "120/120 [==============================] - 740s 6s/step - loss: 0.1861 - accuracy: 0.9200 - val_loss: 0.1133 - val_accuracy: 0.9667\n",
      "Epoch 5/10\n",
      "120/120 [==============================] - 728s 6s/step - loss: 0.1588 - accuracy: 0.9450 - val_loss: 0.1262 - val_accuracy: 0.9333\n",
      "Epoch 6/10\n",
      "120/120 [==============================] - 721s 6s/step - loss: 0.1286 - accuracy: 0.9467 - val_loss: 0.0949 - val_accuracy: 0.9667\n",
      "Epoch 7/10\n",
      "120/120 [==============================] - 685s 6s/step - loss: 0.1093 - accuracy: 0.9617 - val_loss: 0.0787 - val_accuracy: 0.9833\n",
      "Epoch 8/10\n",
      "120/120 [==============================] - 637s 5s/step - loss: 0.1035 - accuracy: 0.9633 - val_loss: 0.0667 - val_accuracy: 0.9833\n",
      "Epoch 9/10\n",
      "120/120 [==============================] - 601s 5s/step - loss: 0.1076 - accuracy: 0.9633 - val_loss: 0.0815 - val_accuracy: 0.9833\n",
      "Epoch 10/10\n",
      "120/120 [==============================] - 661s 6s/step - loss: 0.0971 - accuracy: 0.9583 - val_loss: 0.0803 - val_accuracy: 0.9500\n"
     ]
    }
   ],
   "source": [
    "base_model = tf.keras.applications.InceptionResNetV2(\n",
    "                     include_top=False,\n",
    "                     weights='imagenet',\n",
    "                     input_shape=(224,224,3)\n",
    "                     )\n",
    " \n",
    "base_model.trainable=False\n",
    " \n",
    "model = tf.keras.Sequential([\n",
    "        base_model,  \n",
    "        tf.keras.layers.BatchNormalization(renorm=True),\n",
    "        tf.keras.layers.GlobalAveragePooling2D(),\n",
    "        tf.keras.layers.Dense(2, activation='softmax')\n",
    "    ])\n",
    "model.compile(optimizer='Adam',loss='categorical_crossentropy',metrics=['accuracy'])\n",
    "model.summary()\n",
    "early = tf.keras.callbacks.EarlyStopping(patience=10, min_delta=0.001, restore_best_weights=True)\n",
    "batch_size=32\n",
    "STEP_SIZE_TRAIN = training_set.n//training_set.batch_size\n",
    "STEP_SIZE_VALID = test_set.n//test_set.batch_size\n",
    "\n",
    "# fit model\n",
    "history = model.fit(training_set, steps_per_epoch=STEP_SIZE_TRAIN,\n",
    "                    validation_data=test_set,\n",
    "                    validation_steps=STEP_SIZE_VALID,\n",
    "                    epochs=10,\n",
    "                    callbacks=[early])"
   ]
  },
  {
   "cell_type": "code",
   "execution_count": null,
   "id": "3c75c5d1",
   "metadata": {},
   "outputs": [],
   "source": [
    " "
   ]
  }
 ],
 "metadata": {
  "kernelspec": {
   "display_name": "Python 3 (ipykernel)",
   "language": "python",
   "name": "python3"
  },
  "language_info": {
   "codemirror_mode": {
    "name": "ipython",
    "version": 3
   },
   "file_extension": ".py",
   "mimetype": "text/x-python",
   "name": "python",
   "nbconvert_exporter": "python",
   "pygments_lexer": "ipython3",
   "version": "3.8.13"
  }
 },
 "nbformat": 4,
 "nbformat_minor": 5
}
