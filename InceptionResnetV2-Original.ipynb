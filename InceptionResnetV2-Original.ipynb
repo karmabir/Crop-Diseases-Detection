{
 "cells": [
  {
   "cell_type": "code",
   "execution_count": 1,
   "id": "c034495d-0aa0-4113-b332-262d5d379e15",
   "metadata": {},
   "outputs": [],
   "source": [
    "import numpy as np\n",
    "import pandas as pd\n",
    "import matplotlib.pyplot as plt\n",
    "\n",
    "from sklearn.metrics import classification_report, confusion_matrix\n",
    "\n",
    "import tensorflow as tf\n",
    "import keras\n",
    "from keras.preprocessing.image import ImageDataGenerator\n",
    "from tensorflow.keras import applications\n",
    "from keras.models import Sequential, load_model\n",
    "from keras.layers import Conv2D, MaxPooling2D, GlobalAveragePooling2D, Flatten, Dense, Dropout\n",
    "from keras.preprocessing import image\n",
    "\n",
    "import warnings\n",
    "warnings.filterwarnings('ignore')"
   ]
  },
  {
   "cell_type": "code",
   "execution_count": 2,
   "id": "341c7414-e65f-4b56-9c16-051185af58d6",
   "metadata": {},
   "outputs": [],
   "source": [
    "train_image='D:/Documents/Capstone/Project -2/Dataset/Full/train'"
   ]
  },
  {
   "cell_type": "code",
   "execution_count": 3,
   "id": "855f9d9c-288c-40f8-ae0d-c7937cb89c80",
   "metadata": {},
   "outputs": [],
   "source": [
    "train_datagen=ImageDataGenerator(rescale=1./255,\n",
    "                                 zoom_range=0.2,\n",
    "                                 shear_range=0.1,\n",
    "                                vertical_flip=False)"
   ]
  },
  {
   "cell_type": "code",
   "execution_count": 4,
   "id": "c0a5292a-2e5f-4383-a925-2c38fd4f4bca",
   "metadata": {},
   "outputs": [
    {
     "name": "stdout",
     "output_type": "stream",
     "text": [
      "Found 1852 images belonging to 11 classes.\n"
     ]
    }
   ],
   "source": [
    "training_set=train_datagen.flow_from_directory(train_image,\n",
    "                                              target_size=(224,224),\n",
    "                                              class_mode='categorical',\n",
    "                                              batch_size=5)"
   ]
  },
  {
   "cell_type": "code",
   "execution_count": 5,
   "id": "6c020e41-de2f-4e00-ae5f-b54efa749c93",
   "metadata": {},
   "outputs": [
    {
     "name": "stdout",
     "output_type": "stream",
     "text": [
      "Found 910 images belonging to 11 classes.\n"
     ]
    }
   ],
   "source": [
    "test_datagen = ImageDataGenerator(rescale = 1./255,\n",
    "                                 zoom_range=0.2)\n",
    "\n",
    "test_set=train_datagen.flow_from_directory('D:/Documents/Capstone/Project -2/Dataset/Full/test',\n",
    "                                              target_size=(224,224),\n",
    "                                              class_mode='categorical',\n",
    "                                              batch_size=5)"
   ]
  },
  {
   "cell_type": "code",
   "execution_count": 6,
   "id": "eb5ca419-22ec-489f-ab9c-274b525d6dc4",
   "metadata": {},
   "outputs": [],
   "source": [
    "base_model = tf.keras.applications.InceptionResNetV2(\n",
    "                     include_top=False,\n",
    "                     weights='imagenet',\n",
    "                     input_shape=(224,224,3)\n",
    "                     )\n",
    " \n",
    "base_model.trainable=False\n",
    "model = tf.keras.Sequential([\n",
    "        base_model,\n",
    "        tf.keras.layers.BatchNormalization(renorm=True),\n",
    "        tf.keras.layers.GlobalAveragePooling2D(),\n",
    "        tf.keras.layers.Dense(11, activation='softmax')\n",
    "    ])"
   ]
  },
  {
   "cell_type": "code",
   "execution_count": 7,
   "id": "59b63d3e-52a6-4b8e-8269-cde80b88c343",
   "metadata": {},
   "outputs": [],
   "source": [
    "model.compile(optimizer='Adam',loss='categorical_crossentropy',metrics=['accuracy', tf.keras.metrics.AUC(), tf.keras.metrics.Precision(), tf.keras.metrics.Recall(), tf.keras.metrics.TruePositives()])"
   ]
  },
  {
   "cell_type": "code",
   "execution_count": 8,
   "id": "65877a64-60db-42ee-9210-8e82d5d88391",
   "metadata": {},
   "outputs": [
    {
     "name": "stdout",
     "output_type": "stream",
     "text": [
      "Model: \"sequential\"\n",
      "_________________________________________________________________\n",
      " Layer (type)                Output Shape              Param #   \n",
      "=================================================================\n",
      " inception_resnet_v2 (Functi  (None, 5, 5, 1536)       54336736  \n",
      " onal)                                                           \n",
      "                                                                 \n",
      " batch_normalization_203 (Ba  (None, 5, 5, 1536)       10752     \n",
      " tchNormalization)                                               \n",
      "                                                                 \n",
      " global_average_pooling2d (G  (None, 1536)             0         \n",
      " lobalAveragePooling2D)                                          \n",
      "                                                                 \n",
      " dense (Dense)               (None, 11)                16907     \n",
      "                                                                 \n",
      "=================================================================\n",
      "Total params: 54,364,395\n",
      "Trainable params: 19,979\n",
      "Non-trainable params: 54,344,416\n",
      "_________________________________________________________________\n"
     ]
    }
   ],
   "source": [
    "model.summary()"
   ]
  },
  {
   "cell_type": "code",
   "execution_count": 9,
   "id": "6da5628b-d3ce-48e1-9fa3-782eb5d88000",
   "metadata": {},
   "outputs": [],
   "source": [
    "early = tf.keras.callbacks.EarlyStopping(patience=10, min_delta=0.001, restore_best_weights=True)"
   ]
  },
  {
   "cell_type": "code",
   "execution_count": 10,
   "id": "b1444254-9ee1-486b-a0e5-1e77e1ece649",
   "metadata": {},
   "outputs": [
    {
     "name": "stdout",
     "output_type": "stream",
     "text": [
      "Epoch 1/8\n",
      "370/370 [==============================] - 490s 1s/step - loss: 1.2970 - accuracy: 0.5766 - auc: 0.9114 - precision: 0.7627 - recall: 0.4158 - true_positives: 768.0000 - val_loss: 0.9665 - val_accuracy: 0.6725 - val_auc: 0.9505 - val_precision: 0.7944 - val_recall: 0.5604 - val_true_positives: 510.0000\n",
      "Epoch 2/8\n",
      "370/370 [==============================] - 385s 1s/step - loss: 0.7859 - accuracy: 0.7287 - auc: 0.9667 - precision: 0.8342 - recall: 0.6291 - true_positives: 1162.0000 - val_loss: 0.8801 - val_accuracy: 0.7022 - val_auc: 0.9571 - val_precision: 0.8061 - val_recall: 0.6352 - val_true_positives: 578.0000\n",
      "Epoch 3/8\n",
      "370/370 [==============================] - 383s 1s/step - loss: 0.6675 - accuracy: 0.7715 - auc: 0.9757 - precision: 0.8509 - recall: 0.6984 - true_positives: 1290.0000 - val_loss: 0.8284 - val_accuracy: 0.7231 - val_auc: 0.9621 - val_precision: 0.7955 - val_recall: 0.6626 - val_true_positives: 603.0000\n",
      "Epoch 4/8\n",
      "370/370 [==============================] - 387s 1s/step - loss: 0.5881 - accuracy: 0.7981 - auc: 0.9799 - precision: 0.8659 - recall: 0.7374 - true_positives: 1362.0000 - val_loss: 0.7988 - val_accuracy: 0.7538 - val_auc: 0.9622 - val_precision: 0.8086 - val_recall: 0.7011 - val_true_positives: 638.0000\n",
      "Epoch 5/8\n",
      "370/370 [==============================] - 398s 1s/step - loss: 0.5184 - accuracy: 0.8360 - auc: 0.9851 - precision: 0.8940 - recall: 0.7672 - true_positives: 1417.0000 - val_loss: 0.8377 - val_accuracy: 0.7231 - val_auc: 0.9611 - val_precision: 0.8160 - val_recall: 0.6824 - val_true_positives: 621.0000\n",
      "Epoch 6/8\n",
      "370/370 [==============================] - 387s 1s/step - loss: 0.4926 - accuracy: 0.8338 - auc: 0.9861 - precision: 0.8852 - recall: 0.7845 - true_positives: 1449.0000 - val_loss: 0.8809 - val_accuracy: 0.7407 - val_auc: 0.9569 - val_precision: 0.8023 - val_recall: 0.7044 - val_true_positives: 641.0000\n",
      "Epoch 7/8\n",
      "370/370 [==============================] - 399s 1s/step - loss: 0.4479 - accuracy: 0.8473 - auc: 0.9891 - precision: 0.8905 - recall: 0.7970 - true_positives: 1472.0000 - val_loss: 0.8050 - val_accuracy: 0.7692 - val_auc: 0.9615 - val_precision: 0.8204 - val_recall: 0.7330 - val_true_positives: 667.0000\n",
      "Epoch 8/8\n",
      "370/370 [==============================] - 385s 1s/step - loss: 0.4325 - accuracy: 0.8609 - auc: 0.9893 - precision: 0.9066 - recall: 0.8148 - true_positives: 1505.0000 - val_loss: 0.8397 - val_accuracy: 0.7692 - val_auc: 0.9606 - val_precision: 0.8073 - val_recall: 0.7319 - val_true_positives: 666.0000\n"
     ]
    }
   ],
   "source": [
    "batch_size=512\n",
    "STEP_SIZE_TRAIN = training_set.n//training_set.batch_size\n",
    "STEP_SIZE_VALID = test_set.n//test_set.batch_size\n",
    "\n",
    "# fit model\n",
    "history = model.fit(training_set, steps_per_epoch=STEP_SIZE_TRAIN,\n",
    "                    validation_data=test_set,\n",
    "                    validation_steps=STEP_SIZE_VALID,\n",
    "                    epochs=8,\n",
    "                    callbacks=[early])"
   ]
  },
  {
   "cell_type": "code",
   "execution_count": 11,
   "id": "951e68e0-6661-4ede-93ce-d13695185877",
   "metadata": {},
   "outputs": [
    {
     "data": {
      "image/png": "[encoded data removed]",
      "text/plain": [
       "<Figure size 432x288 with 1 Axes>"
      ]
     },
     "metadata": {
      "needs_background": "light"
     },
     "output_type": "display_data"
    }
   ],
   "source": [
    "from matplotlib import pyplot\n",
    "pyplot.plot(history.history['accuracy'])\n",
    "pyplot.show()"
   ]
  },
  {
   "cell_type": "code",
   "execution_count": null,
   "id": "37b2b52d-e731-495b-a69c-9c97c7eef5dc",
   "metadata": {},
   "outputs": [],
   "source": []
  }
 ],
 "metadata": {
  "kernelspec": {
   "display_name": "Python 3",
   "language": "python",
   "name": "python3"
  },
  "language_info": {
   "codemirror_mode": {
    "name": "ipython",
    "version": 3
   },
   "file_extension": ".py",
   "mimetype": "text/x-python",
   "name": "python",
   "nbconvert_exporter": "python",
   "pygments_lexer": "ipython3",
   "version": "3.8.13"
  }
 },
 "nbformat": 4,
 "nbformat_minor": 5
}
