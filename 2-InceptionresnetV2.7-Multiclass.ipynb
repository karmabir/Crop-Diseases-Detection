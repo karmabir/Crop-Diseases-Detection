{
 "cells": [
  {
   "cell_type": "code",
   "execution_count": 1,
   "id": "de65668d",
   "metadata": {},
   "outputs": [],
   "source": [
    "import numpy as np\n",
    "import pandas as pd\n",
    "import matplotlib.pyplot as plt\n",
    "\n",
    "from sklearn.metrics import classification_report, confusion_matrix\n",
    "\n",
    "import tensorflow as tf\n",
    "import keras\n",
    "from keras.preprocessing.image import ImageDataGenerator\n",
    "from tensorflow.keras import applications\n",
    "from keras.models import Sequential, load_model\n",
    "from keras.layers import Conv2D, MaxPooling2D, GlobalAveragePooling2D, Flatten, Dense, Dropout\n",
    "from keras.preprocessing import image\n",
    "\n",
    "import warnings\n",
    "warnings.filterwarnings('ignore')"
   ]
  },
  {
   "cell_type": "code",
   "execution_count": 2,
   "id": "ac80a999",
   "metadata": {},
   "outputs": [],
   "source": [
    "train_image='D:/Documents/Capstone/Project -2/New Plant Diseases Dataset(Augmented)/New Plant Diseases Dataset(Augmented)/New Plant Diseases Dataset(Augmented)/train'"
   ]
  },
  {
   "cell_type": "code",
   "execution_count": 3,
   "id": "e1dc60f5",
   "metadata": {},
   "outputs": [],
   "source": [
    "train_datagen=ImageDataGenerator(rescale=1./255,\n",
    "                                 zoom_range=0.2,\n",
    "                                 shear_range=0.1,\n",
    "                                vertical_flip=False)"
   ]
  },
  {
   "cell_type": "code",
   "execution_count": 4,
   "id": "1c1c8c4e",
   "metadata": {},
   "outputs": [
    {
     "name": "stdout",
     "output_type": "stream",
     "text": [
      "Found 47454 images belonging to 35 classes.\n"
     ]
    }
   ],
   "source": [
    "training_set=train_datagen.flow_from_directory(train_image,\n",
    "                                              target_size=(224,224),\n",
    "                                              class_mode='categorical',\n",
    "                                              batch_size=512)"
   ]
  },
  {
   "cell_type": "code",
   "execution_count": 5,
   "id": "af4fe4eb",
   "metadata": {},
   "outputs": [
    {
     "name": "stdout",
     "output_type": "stream",
     "text": [
      "Found 14321 images belonging to 35 classes.\n"
     ]
    }
   ],
   "source": [
    "test_datagen = ImageDataGenerator(rescale = 1./255,\n",
    "                                 zoom_range=0.2)\n",
    "\n",
    "test_set=test_datagen.flow_from_directory('D:/Documents/Capstone/Project -2/New Plant Diseases Dataset(Augmented)/New Plant Diseases Dataset(Augmented)/New Plant Diseases Dataset(Augmented)/valid',\n",
    "                                              target_size=(224,224),\n",
    "                                              class_mode='categorical',\n",
    "                                              batch_size=512)"
   ]
  },
  {
   "cell_type": "code",
   "execution_count": 6,
   "id": "554713a8",
   "metadata": {},
   "outputs": [],
   "source": [
    "base_model = tf.keras.applications.InceptionResNetV2(\n",
    "                     include_top=False,\n",
    "                     weights='imagenet',\n",
    "                     input_shape=(224,224,3)\n",
    "                     )\n",
    " \n",
    "base_model.trainable=False\n",
    " \n",
    "model = tf.keras.Sequential([\n",
    "        base_model,  \n",
    "        tf.keras.layers.BatchNormalization(renorm=True),\n",
    "        tf.keras.layers.GlobalAveragePooling2D(),\n",
    "        tf.keras.layers.Dense(512, activation='relu'),\n",
    "        tf.keras.layers.Dense(256, activation='relu'),\n",
    "        tf.keras.layers.Dropout(0.5),\n",
    "        tf.keras.layers.Dense(128, activation='relu'),\n",
    "        tf.keras.layers.Dense(35, activation='softmax')\n",
    "    ])"
   ]
  },
  {
   "cell_type": "code",
   "execution_count": 7,
   "id": "4ae8fe65",
   "metadata": {},
   "outputs": [],
   "source": [
    "model.compile(optimizer='Adam',loss='categorical_crossentropy',metrics=['accuracy', tf.keras.metrics.AUC(), tf.keras.metrics.Precision(), tf.keras.metrics.Recall(), tf.keras.metrics.TruePositives()])"
   ]
  },
  {
   "cell_type": "code",
   "execution_count": 8,
   "id": "dab526d0",
   "metadata": {},
   "outputs": [
    {
     "name": "stdout",
     "output_type": "stream",
     "text": [
      "Model: \"sequential\"\n",
      "_________________________________________________________________\n",
      " Layer (type)                Output Shape              Param #   \n",
      "=================================================================\n",
      " inception_resnet_v2 (Functi  (None, 5, 5, 1536)       54336736  \n",
      " onal)                                                           \n",
      "                                                                 \n",
      " batch_normalization_203 (Ba  (None, 5, 5, 1536)       10752     \n",
      " tchNormalization)                                               \n",
      "                                                                 \n",
      " global_average_pooling2d (G  (None, 1536)             0         \n",
      " lobalAveragePooling2D)                                          \n",
      "                                                                 \n",
      " dense (Dense)               (None, 512)               786944    \n",
      "                                                                 \n",
      " dense_1 (Dense)             (None, 256)               131328    \n",
      "                                                                 \n",
      " dropout (Dropout)           (None, 256)               0         \n",
      "                                                                 \n",
      " dense_2 (Dense)             (None, 128)               32896     \n",
      "                                                                 \n",
      " dense_3 (Dense)             (None, 35)                4515      \n",
      "                                                                 \n",
      "=================================================================\n",
      "Total params: 55,303,171\n",
      "Trainable params: 958,755\n",
      "Non-trainable params: 54,344,416\n",
      "_________________________________________________________________\n"
     ]
    }
   ],
   "source": [
    "model.summary()"
   ]
  },
  {
   "cell_type": "code",
   "execution_count": 9,
   "id": "64b5cc06",
   "metadata": {},
   "outputs": [],
   "source": [
    "early = tf.keras.callbacks.EarlyStopping(patience=10, min_delta=0.001, restore_best_weights=True)"
   ]
  },
  {
   "cell_type": "code",
   "execution_count": 10,
   "id": "dedd2eaa",
   "metadata": {},
   "outputs": [
    {
     "name": "stdout",
     "output_type": "stream",
     "text": [
      "Epoch 1/8\n",
      "92/92 [==============================] - 8206s 89s/step - loss: 1.4713 - accuracy: 0.5832 - auc: 0.9551 - precision: 0.8555 - recall: 0.4188 - true_positives: 19657.0000 - val_loss: 2.8396 - val_accuracy: 0.5245 - val_auc: 0.8723 - val_precision: 0.5868 - val_recall: 0.4595 - val_true_positives: 6352.0000\n",
      "Epoch 2/8\n",
      "92/92 [==============================] - 10705s 116s/step - loss: 0.4982 - accuracy: 0.8402 - auc: 0.9939 - precision: 0.9008 - recall: 0.7840 - true_positives: 36804.0000 - val_loss: 3.3178 - val_accuracy: 0.5996 - val_auc: 0.8681 - val_precision: 0.6211 - val_recall: 0.5652 - val_true_positives: 7813.0000\n",
      "Epoch 3/8\n",
      "92/92 [==============================] - 10902s 118s/step - loss: 0.3396 - accuracy: 0.8902 - auc: 0.9964 - precision: 0.9223 - recall: 0.8605 - true_positives: 40393.0000 - val_loss: 3.7703 - val_accuracy: 0.6152 - val_auc: 0.8581 - val_precision: 0.6325 - val_recall: 0.5961 - val_true_positives: 8240.0000\n",
      "Epoch 4/8\n",
      "92/92 [==============================] - 12009s 130s/step - loss: 0.2736 - accuracy: 0.9118 - auc: 0.9971 - precision: 0.9346 - recall: 0.8907 - true_positives: 41810.0000 - val_loss: 3.9905 - val_accuracy: 0.6339 - val_auc: 0.8638 - val_precision: 0.6492 - val_recall: 0.6208 - val_true_positives: 8582.0000\n",
      "Epoch 5/8\n",
      "92/92 [==============================] - 10063s 109s/step - loss: 0.2298 - accuracy: 0.9238 - auc: 0.9979 - precision: 0.9414 - recall: 0.9069 - true_positives: 42573.0000 - val_loss: 4.1414 - val_accuracy: 0.6463 - val_auc: 0.8589 - val_precision: 0.6563 - val_recall: 0.6339 - val_true_positives: 8763.0000\n",
      "Epoch 6/8\n",
      "92/92 [==============================] - 13419s 146s/step - loss: 0.2005 - accuracy: 0.9337 - auc: 0.9981 - precision: 0.9484 - recall: 0.9199 - true_positives: 43183.0000 - val_loss: 4.5033 - val_accuracy: 0.6530 - val_auc: 0.8566 - val_precision: 0.6613 - val_recall: 0.6429 - val_true_positives: 8888.0000\n",
      "Epoch 7/8\n",
      "92/92 [==============================] - 15662s 170s/step - loss: 0.1793 - accuracy: 0.9412 - auc: 0.9984 - precision: 0.9532 - recall: 0.9295 - true_positives: 43632.0000 - val_loss: 4.9006 - val_accuracy: 0.6589 - val_auc: 0.8563 - val_precision: 0.6660 - val_recall: 0.6508 - val_true_positives: 8996.0000\n",
      "Epoch 8/8\n",
      "92/92 [==============================] - 14045s 152s/step - loss: 0.1633 - accuracy: 0.9442 - auc: 0.9985 - precision: 0.9548 - recall: 0.9350 - true_positives: 43891.0000 - val_loss: 5.1058 - val_accuracy: 0.6609 - val_auc: 0.8548 - val_precision: 0.6687 - val_recall: 0.6538 - val_true_positives: 9038.0000\n"
     ]
    }
   ],
   "source": [
    "batch_size=512\n",
    "STEP_SIZE_TRAIN = training_set.n//training_set.batch_size\n",
    "STEP_SIZE_VALID = test_set.n//test_set.batch_size\n",
    "\n",
    "# fit model\n",
    "history = model.fit(training_set, steps_per_epoch=STEP_SIZE_TRAIN,\n",
    "                    validation_data=test_set,\n",
    "                    validation_steps=STEP_SIZE_VALID,\n",
    "                    epochs=8,\n",
    "                    callbacks=[early])"
   ]
  },
  {
   "cell_type": "code",
   "execution_count": 11,
   "id": "423c1dfc",
   "metadata": {},
   "outputs": [
    {
     "data": {
      "image/png": "[encoded data removed]",
      "text/plain": [
       "<Figure size 432x288 with 1 Axes>"
      ]
     },
     "metadata": {
      "needs_background": "light"
     },
     "output_type": "display_data"
    }
   ],
   "source": [
    "from matplotlib import pyplot\n",
    "pyplot.plot(history.history['accuracy'])\n",
    "pyplot.show()"
   ]
  }
 ],
 "metadata": {
  "kernelspec": {
   "display_name": "Python 3",
   "language": "python",
   "name": "python3"
  },
  "language_info": {
   "codemirror_mode": {
    "name": "ipython",
    "version": 3
   },
   "file_extension": ".py",
   "mimetype": "text/x-python",
   "name": "python",
   "nbconvert_exporter": "python",
   "pygments_lexer": "ipython3",
   "version": "3.8.13"
  }
 },
 "nbformat": 4,
 "nbformat_minor": 5
}
