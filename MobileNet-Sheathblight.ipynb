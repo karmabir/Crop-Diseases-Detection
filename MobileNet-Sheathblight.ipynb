{
 "cells": [
  {
   "cell_type": "code",
   "execution_count": 2,
   "id": "b2dd5593",
   "metadata": {},
   "outputs": [],
   "source": [
    "import tensorflow as tf\n",
    "from tensorflow.keras.preprocessing.image import ImageDataGenerator\n",
    "import os\n",
    "import tensorflow_hub as hub\n",
    "from tensorflow.keras.models import Sequential\n",
    "from tensorflow.keras.layers import Dense\n",
    "from tensorflow.keras.optimizers import Adam\n",
    "from tensorflow.keras.losses import CategoricalCrossentropy\n",
    "import tensorboard\n",
    "from keras.callbacks import Callback, TensorBoard\n",
    "import time\n",
    "import numpy as np\n",
    "import matplotlib.pyplot as plt"
   ]
  },
  {
   "cell_type": "code",
   "execution_count": 3,
   "id": "c9031063",
   "metadata": {},
   "outputs": [],
   "source": [
    "train_image='D:/Documents/Capstone/Project -2/Dataset/sheath_blight_Vs_non-sheath_blight/train'"
   ]
  },
  {
   "cell_type": "code",
   "execution_count": 4,
   "id": "234fcc82",
   "metadata": {},
   "outputs": [
    {
     "name": "stdout",
     "output_type": "stream",
     "text": [
      "Found 1358 images belonging to 2 classes.\n"
     ]
    }
   ],
   "source": [
    "train_datagen=ImageDataGenerator(rescale=1./255,\n",
    "                                 zoom_range=0.2,\n",
    "                                 shear_range=0.1,\n",
    "                                vertical_flip=False)\n",
    "training_set=train_datagen.flow_from_directory(train_image,\n",
    "                                              target_size=(224,224),\n",
    "                                              class_mode='categorical',\n",
    "                                              batch_size=5)"
   ]
  },
  {
   "cell_type": "code",
   "execution_count": 5,
   "id": "f02461c5",
   "metadata": {},
   "outputs": [
    {
     "name": "stdout",
     "output_type": "stream",
     "text": [
      "Found 72 images belonging to 2 classes.\n"
     ]
    }
   ],
   "source": [
    "test_datagen = ImageDataGenerator(rescale = 1./255,\n",
    "                                 zoom_range=0.2)\n",
    "\n",
    "test_set=train_datagen.flow_from_directory('D:/Documents/Capstone/Project -2/Dataset/sheath_blight_Vs_non-sheath_blight/test',\n",
    "                                              target_size=(224,224),\n",
    "                                              class_mode='categorical',\n",
    "                                              batch_size=5)"
   ]
  },
  {
   "cell_type": "code",
   "execution_count": 6,
   "id": "69a1d3d0",
   "metadata": {},
   "outputs": [],
   "source": [
    "#Mobilenet\n",
    "mobileNet = \"https://tfhub.dev/google/imagenet/mobilenet_v2_050_224/classification/5\""
   ]
  },
  {
   "cell_type": "code",
   "execution_count": 7,
   "id": "cd10b273",
   "metadata": {},
   "outputs": [],
   "source": [
    "# model \n",
    "model = Sequential([\n",
    "    #layer input\n",
    "    hub.KerasLayer(mobileNet, input_shape=(224, 224, 3), trainable=False),\n",
    "    #layer output\n",
    "    Dense(2, activation=\"softmax\")]\n",
    ")"
   ]
  },
  {
   "cell_type": "code",
   "execution_count": 8,
   "id": "c9b356e5",
   "metadata": {},
   "outputs": [
    {
     "name": "stdout",
     "output_type": "stream",
     "text": [
      "Model: \"sequential\"\n",
      "_________________________________________________________________\n",
      " Layer (type)                Output Shape              Param #   \n",
      "=================================================================\n",
      " keras_layer (KerasLayer)    (None, 1001)              1988505   \n",
      "                                                                 \n",
      " dense (Dense)               (None, 2)                 2004      \n",
      "                                                                 \n",
      "=================================================================\n",
      "Total params: 1,990,509\n",
      "Trainable params: 2,004\n",
      "Non-trainable params: 1,988,505\n",
      "_________________________________________________________________\n"
     ]
    }
   ],
   "source": [
    "model.compile(optimizer=Adam(),\n",
    "              loss=CategoricalCrossentropy(),\n",
    "              metrics=[\"accuracy\"])\n",
    "\n",
    "model.summary()\n",
    "\n",
    "early = tf.keras.callbacks.EarlyStopping(patience=10, min_delta=0.001, restore_best_weights=True)"
   ]
  },
  {
   "cell_type": "code",
   "execution_count": 9,
   "id": "8c157e1f",
   "metadata": {},
   "outputs": [
    {
     "name": "stdout",
     "output_type": "stream",
     "text": [
      "Epoch 1/7\n",
      "271/271 [==============================] - 826s 3s/step - loss: 0.1916 - accuracy: 0.9150 - val_loss: 0.1117 - val_accuracy: 0.9714\n",
      "Epoch 2/7\n",
      "271/271 [==============================] - 656s 2s/step - loss: 0.0611 - accuracy: 0.9778 - val_loss: 0.0738 - val_accuracy: 0.9571\n",
      "Epoch 3/7\n",
      "271/271 [==============================] - 541s 2s/step - loss: 0.0540 - accuracy: 0.9800 - val_loss: 0.0681 - val_accuracy: 0.9714\n",
      "Epoch 4/7\n",
      "271/271 [==============================] - 537s 2s/step - loss: 0.0277 - accuracy: 0.9919 - val_loss: 0.1778 - val_accuracy: 0.9429\n",
      "Epoch 5/7\n",
      "271/271 [==============================] - 487s 2s/step - loss: 0.0434 - accuracy: 0.9837 - val_loss: 0.0739 - val_accuracy: 0.9714\n",
      "Epoch 6/7\n",
      "271/271 [==============================] - 474s 2s/step - loss: 0.0462 - accuracy: 0.9793 - val_loss: 0.0144 - val_accuracy: 1.0000\n",
      "Epoch 7/7\n",
      "271/271 [==============================] - 473s 2s/step - loss: 0.0402 - accuracy: 0.9852 - val_loss: 0.0740 - val_accuracy: 0.9571\n"
     ]
    }
   ],
   "source": [
    "batch_size=32\n",
    "STEP_SIZE_TRAIN = training_set.n//training_set.batch_size\n",
    "STEP_SIZE_VALID = test_set.n//test_set.batch_size\n",
    "\n",
    "# fit model\n",
    "history = model.fit(training_set, steps_per_epoch=STEP_SIZE_TRAIN,\n",
    "                    validation_data=test_set,\n",
    "                    validation_steps=STEP_SIZE_VALID,\n",
    "                    epochs=7,\n",
    "                    callbacks=[early])"
   ]
  },
  {
   "cell_type": "code",
   "execution_count": null,
   "id": "11452664",
   "metadata": {},
   "outputs": [],
   "source": []
  },
  {
   "cell_type": "code",
   "execution_count": null,
   "id": "03e9d9bf",
   "metadata": {},
   "outputs": [],
   "source": []
  },
  {
   "cell_type": "code",
   "execution_count": null,
   "id": "bff96c1c",
   "metadata": {},
   "outputs": [],
   "source": []
  }
 ],
 "metadata": {
  "kernelspec": {
   "display_name": "Python 3",
   "language": "python",
   "name": "python3"
  },
  "language_info": {
   "codemirror_mode": {
    "name": "ipython",
    "version": 3
   },
   "file_extension": ".py",
   "mimetype": "text/x-python",
   "name": "python",
   "nbconvert_exporter": "python",
   "pygments_lexer": "ipython3",
   "version": "3.8.13"
  }
 },
 "nbformat": 4,
 "nbformat_minor": 5
}
