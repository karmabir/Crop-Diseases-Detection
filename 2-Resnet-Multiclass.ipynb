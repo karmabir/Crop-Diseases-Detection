{
 "cells": [
  {
   "cell_type": "code",
   "execution_count": 1,
   "id": "307a7c29",
   "metadata": {},
   "outputs": [],
   "source": [
    "import matplotlib.pyplot as plt\n",
    "import numpy as np\n",
    "import os\n",
    "import PIL\n",
    "import tensorflow as tf\n",
    "from tensorflow import keras \n",
    "from tensorflow.keras import layers\n",
    "from keras.layers import Dense, Flatten, Input, Lambda\n",
    "from tensorflow.keras.models import Sequential \n",
    "from tensorflow.keras.optimizers import Adam\n",
    "from tensorflow.keras.preprocessing import image\n",
    "from tensorflow.keras.preprocessing.image import ImageDataGenerator,load_img\n",
    "from glob import glob"
   ]
  },
  {
   "cell_type": "code",
   "execution_count": 2,
   "id": "664d6c15",
   "metadata": {},
   "outputs": [],
   "source": [
    "img_height, img_width = 180,180"
   ]
  },
  {
   "cell_type": "code",
   "execution_count": 3,
   "id": "609c1512",
   "metadata": {},
   "outputs": [
    {
     "name": "stdout",
     "output_type": "stream",
     "text": [
      "Found 47454 images belonging to 35 classes.\n"
     ]
    }
   ],
   "source": [
    "train_datagen=ImageDataGenerator(rescale=1./255,\n",
    "                                 zoom_range=0.2,\n",
    "                                 shear_range=0.1,\n",
    "                                vertical_flip=False)\n",
    "training_set=train_datagen.flow_from_directory('D:/Documents/Capstone/Project -2/New Plant Diseases Dataset(Augmented)/New Plant Diseases Dataset(Augmented)/New Plant Diseases Dataset(Augmented)/train',\n",
    "                                              target_size = (img_height,img_width),\n",
    "                                              class_mode = 'categorical',\n",
    "                                              batch_size=16)"
   ]
  },
  {
   "cell_type": "code",
   "execution_count": 4,
   "id": "49c25224",
   "metadata": {},
   "outputs": [
    {
     "name": "stdout",
     "output_type": "stream",
     "text": [
      "Found 14321 images belonging to 35 classes.\n"
     ]
    }
   ],
   "source": [
    "test_datagen = ImageDataGenerator(rescale = 1./255,\n",
    "                                 zoom_range=0.2)\n",
    "\n",
    "test_set=test_datagen.flow_from_directory('D:/Documents/Capstone/Project -2/New Plant Diseases Dataset(Augmented)/New Plant Diseases Dataset(Augmented)/New Plant Diseases Dataset(Augmented)/valid',\n",
    "                                              target_size=(img_height,img_width),\n",
    "                                              class_mode='categorical',\n",
    "                                              batch_size=16)"
   ]
  },
  {
   "cell_type": "code",
   "execution_count": 5,
   "id": "3b9e75a3",
   "metadata": {},
   "outputs": [],
   "source": [
    "resnet_model = Sequential()\n",
    "\n",
    "pretrained_model = tf.keras.applications.ResNet50(include_top = False,\n",
    "                                                 input_shape=(180,180,3),\n",
    "                                                 pooling='avg', classes=2,\n",
    "                                                 weights='imagenet')\n",
    "for layer in pretrained_model.layers:\n",
    "    layer.trainable=False\n",
    "\n",
    "resnet_model.add(pretrained_model)\n",
    "resnet_model.add(Dense(35, activation='softmax'))"
   ]
  },
  {
   "cell_type": "code",
   "execution_count": 6,
   "id": "7ca0c389",
   "metadata": {},
   "outputs": [
    {
     "name": "stdout",
     "output_type": "stream",
     "text": [
      "Model: \"sequential\"\n",
      "_________________________________________________________________\n",
      " Layer (type)                Output Shape              Param #   \n",
      "=================================================================\n",
      " resnet50 (Functional)       (None, 2048)              23587712  \n",
      "                                                                 \n",
      " dense (Dense)               (None, 35)                71715     \n",
      "                                                                 \n",
      "=================================================================\n",
      "Total params: 23,659,427\n",
      "Trainable params: 71,715\n",
      "Non-trainable params: 23,587,712\n",
      "_________________________________________________________________\n"
     ]
    }
   ],
   "source": [
    "resnet_model.summary()"
   ]
  },
  {
   "cell_type": "code",
   "execution_count": 7,
   "id": "6c1c2edf",
   "metadata": {},
   "outputs": [
    {
     "name": "stderr",
     "output_type": "stream",
     "text": [
      "C:\\Users\\karma\\.conda\\envs\\FarmwiseAI\\lib\\site-packages\\keras\\optimizer_v2\\adam.py:105: UserWarning: The `lr` argument is deprecated, use `learning_rate` instead.\n",
      "  super(Adam, self).__init__(name, **kwargs)\n"
     ]
    }
   ],
   "source": [
    "resnet_model.compile(optimizer=Adam(lr=0.01), loss='categorical_crossentropy',metrics=['accuracy', tf.keras.metrics.AUC(), tf.keras.metrics.Precision(), tf.keras.metrics.Recall(), tf.keras.metrics.TruePositives()])"
   ]
  },
  {
   "cell_type": "code",
   "execution_count": 8,
   "id": "ff68e114",
   "metadata": {},
   "outputs": [
    {
     "name": "stdout",
     "output_type": "stream",
     "text": [
      "Epoch 1/8\n",
      "2966/2966 [==============================] - 11004s 4s/step - loss: 3.6621 - accuracy: 0.1635 - auc: 0.7273 - precision: 0.4642 - recall: 0.0495 - true_positives: 2350.0000 - val_loss: 4.3603 - val_accuracy: 0.1561 - val_auc: 0.6997 - val_precision: 0.3414 - val_recall: 0.0383 - val_true_positives: 549.0000\n",
      "Epoch 2/8\n",
      "2966/2966 [==============================] - 13180s 4s/step - loss: 3.1416 - accuracy: 0.2528 - auc: 0.8002 - precision: 0.5208 - recall: 0.1171 - true_positives: 5556.0000 - val_loss: 4.2624 - val_accuracy: 0.1644 - val_auc: 0.6954 - val_precision: 0.3290 - val_recall: 0.0512 - val_true_positives: 733.0000\n",
      "Epoch 3/8\n",
      "2966/2966 [==============================] - 12860s 4s/step - loss: 2.9439 - accuracy: 0.2930 - auc: 0.8264 - precision: 0.5287 - recall: 0.1594 - true_positives: 7566.0000 - val_loss: 4.4066 - val_accuracy: 0.2040 - val_auc: 0.7119 - val_precision: 0.3187 - val_recall: 0.1045 - val_true_positives: 1496.0000\n",
      "Epoch 4/8\n",
      "2966/2966 [==============================] - 8704s 3s/step - loss: 2.8226 - accuracy: 0.3191 - auc: 0.8408 - precision: 0.5348 - recall: 0.1926 - true_positives: 9139.0000 - val_loss: 4.2434 - val_accuracy: 0.2234 - val_auc: 0.7496 - val_precision: 0.3678 - val_recall: 0.1090 - val_true_positives: 1561.0000\n",
      "Epoch 5/8\n",
      "2966/2966 [==============================] - 6041s 2s/step - loss: 2.7063 - accuracy: 0.3429 - auc: 0.8541 - precision: 0.5501 - recall: 0.2163 - true_positives: 10266.0000 - val_loss: 5.1103 - val_accuracy: 0.2214 - val_auc: 0.7032 - val_precision: 0.3626 - val_recall: 0.1541 - val_true_positives: 2207.0000\n",
      "Epoch 6/8\n",
      "2966/2966 [==============================] - 6300s 2s/step - loss: 2.6660 - accuracy: 0.3589 - auc: 0.8590 - precision: 0.5544 - recall: 0.2402 - true_positives: 11397.0000 - val_loss: 4.8407 - val_accuracy: 0.2028 - val_auc: 0.7240 - val_precision: 0.2817 - val_recall: 0.1218 - val_true_positives: 1745.0000\n",
      "Epoch 7/8\n",
      "2966/2966 [==============================] - 7701s 3s/step - loss: 2.5769 - accuracy: 0.3741 - auc: 0.8667 - precision: 0.5624 - recall: 0.2543 - true_positives: 12069.0000 - val_loss: 3.9394 - val_accuracy: 0.2726 - val_auc: 0.7768 - val_precision: 0.4069 - val_recall: 0.1610 - val_true_positives: 2306.0000\n",
      "Epoch 8/8\n",
      "2966/2966 [==============================] - 9007s 3s/step - loss: 2.5174 - accuracy: 0.3878 - auc: 0.8735 - precision: 0.5729 - recall: 0.2708 - true_positives: 12850.0000 - val_loss: 4.9222 - val_accuracy: 0.2198 - val_auc: 0.7312 - val_precision: 0.3099 - val_recall: 0.1445 - val_true_positives: 2069.0000\n"
     ]
    }
   ],
   "source": [
    "epochs= 8\n",
    "history = resnet_model.fit(training_set, validation_data=test_set, epochs=epochs)"
   ]
  },
  {
   "cell_type": "code",
   "execution_count": 9,
   "id": "e1537d93",
   "metadata": {},
   "outputs": [
    {
     "data": {
      "image/png": "[encoded data removed]",
      "text/plain": [
       "<Figure size 432x288 with 1 Axes>"
      ]
     },
     "metadata": {
      "needs_background": "light"
     },
     "output_type": "display_data"
    }
   ],
   "source": [
    "from matplotlib import pyplot\n",
    "pyplot.plot(history.history['accuracy'])\n",
    "pyplot.show()"
   ]
  },
  {
   "cell_type": "code",
   "execution_count": null,
   "id": "46c8749e",
   "metadata": {},
   "outputs": [],
   "source": []
  }
 ],
 "metadata": {
  "kernelspec": {
   "display_name": "Python 3",
   "language": "python",
   "name": "python3"
  },
  "language_info": {
   "codemirror_mode": {
    "name": "ipython",
    "version": 3
   },
   "file_extension": ".py",
   "mimetype": "text/x-python",
   "name": "python",
   "nbconvert_exporter": "python",
   "pygments_lexer": "ipython3",
   "version": "3.8.13"
  }
 },
 "nbformat": 4,
 "nbformat_minor": 5
}
