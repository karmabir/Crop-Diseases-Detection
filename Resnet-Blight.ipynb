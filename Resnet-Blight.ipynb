{
 "cells": [
  {
   "cell_type": "code",
   "execution_count": 1,
   "id": "e3b4c832",
   "metadata": {},
   "outputs": [],
   "source": [
    "import matplotlib.pyplot as plt\n",
    "import numpy as np\n",
    "import os\n",
    "import PIL\n",
    "import tensorflow as tf\n",
    "from tensorflow import keras \n",
    "from tensorflow.keras import layers\n",
    "from keras.layers import Dense, Flatten, Input, Lambda\n",
    "from tensorflow.keras.models import Sequential \n",
    "from tensorflow.keras.optimizers import Adam\n",
    "from tensorflow.keras.preprocessing import image\n",
    "from tensorflow.keras.preprocessing.image import ImageDataGenerator,load_img\n",
    "from glob import glob"
   ]
  },
  {
   "cell_type": "code",
   "execution_count": 2,
   "id": "320ba02f",
   "metadata": {},
   "outputs": [],
   "source": [
    "img_height, img_width = 180,180"
   ]
  },
  {
   "cell_type": "code",
   "execution_count": 3,
   "id": "1af48465",
   "metadata": {},
   "outputs": [
    {
     "name": "stdout",
     "output_type": "stream",
     "text": [
      "Found 2846 files belonging to 2 classes.\n"
     ]
    }
   ],
   "source": [
    "training_set = tf.keras.preprocessing.image_dataset_from_directory('D:/Documents/Capstone/Project -2/Dataset/bacterial_leaf_blight_Vs_non-bacterial_leaf_blight/train',\n",
    "                                                             image_size = (img_height,img_width),\n",
    "                                                             batch_size = 16,\n",
    "                                                             label_mode = 'categorical')\n"
   ]
  },
  {
   "cell_type": "code",
   "execution_count": 4,
   "id": "3ced8093",
   "metadata": {},
   "outputs": [
    {
     "name": "stdout",
     "output_type": "stream",
     "text": [
      "Found 422 files belonging to 2 classes.\n"
     ]
    }
   ],
   "source": [
    "testing_set = tf.keras.preprocessing.image_dataset_from_directory('D:/Documents/Capstone/Project -2/Dataset/bacterial_leaf_blight_Vs_non-bacterial_leaf_blight/test',\n",
    "                                                             image_size = (img_height,img_width),\n",
    "                                                             batch_size = 16,\n",
    "                                                             label_mode = 'categorical')"
   ]
  },
  {
   "cell_type": "code",
   "execution_count": 5,
   "id": "f03eb222",
   "metadata": {},
   "outputs": [
    {
     "name": "stdout",
     "output_type": "stream",
     "text": [
      "['bacterial_leaf_blight', 'non-bacterial_leaf_blight']\n"
     ]
    }
   ],
   "source": [
    "class_names = training_set.class_names\n",
    "print(class_names)"
   ]
  },
  {
   "cell_type": "markdown",
   "id": "365f4943",
   "metadata": {},
   "source": [
    "# Model Training "
   ]
  },
  {
   "cell_type": "code",
   "execution_count": 8,
   "id": "a05fc0da",
   "metadata": {},
   "outputs": [
    {
     "name": "stdout",
     "output_type": "stream",
     "text": [
      "Downloading data from https://storage.googleapis.com/tensorflow/keras-applications/resnet/resnet50_weights_tf_dim_ordering_tf_kernels_notop.h5\n",
      "94773248/94765736 [==============================] - 9s 0us/step\n",
      "94781440/94765736 [==============================] - 9s 0us/step\n"
     ]
    }
   ],
   "source": [
    "resnet_model = Sequential()\n",
    "\n",
    "pretrained_model = tf.keras.applications.ResNet50(include_top = False,\n",
    "                                                 input_shape=(180,180,3),\n",
    "                                                 pooling='avg', classes=2,\n",
    "                                                 weights='imagenet')\n",
    "for layer in pretrained_model.layers:\n",
    "    layer.trainable=False\n",
    "\n",
    "resnet_model.add(pretrained_model)\n",
    "resnet_model.add(Flatten())\n",
    "resnet_model.add(Dense(512, activation='relu'))\n",
    "resnet_model.add(Dense(2, activation='softmax'))"
   ]
  },
  {
   "cell_type": "code",
   "execution_count": 9,
   "id": "0b54c40a",
   "metadata": {},
   "outputs": [
    {
     "name": "stdout",
     "output_type": "stream",
     "text": [
      "Model: \"sequential\"\n",
      "_________________________________________________________________\n",
      " Layer (type)                Output Shape              Param #   \n",
      "=================================================================\n",
      " resnet50 (Functional)       (None, 2048)              23587712  \n",
      "                                                                 \n",
      " module_wrapper (ModuleWrapp  (None, 2048)             0         \n",
      " er)                                                             \n",
      "                                                                 \n",
      " module_wrapper_1 (ModuleWra  (None, 512)              1049088   \n",
      " pper)                                                           \n",
      "                                                                 \n",
      " module_wrapper_2 (ModuleWra  (None, 2)                1026      \n",
      " pper)                                                           \n",
      "                                                                 \n",
      "=================================================================\n",
      "Total params: 24,637,826\n",
      "Trainable params: 1,050,114\n",
      "Non-trainable params: 23,587,712\n",
      "_________________________________________________________________\n"
     ]
    }
   ],
   "source": [
    "resnet_model.summary()"
   ]
  },
  {
   "cell_type": "code",
   "execution_count": 13,
   "id": "ed0b4deb",
   "metadata": {},
   "outputs": [],
   "source": [
    "resnet_model.compile(optimizer=Adam(lr=0.001), loss='binary_crossentropy',metrics=['accuracy'])"
   ]
  },
  {
   "cell_type": "code",
   "execution_count": 14,
   "id": "781107ba",
   "metadata": {},
   "outputs": [
    {
     "name": "stdout",
     "output_type": "stream",
     "text": [
      "Epoch 1/10\n",
      "178/178 [==============================] - 211s 1s/step - loss: 0.4861 - accuracy: 0.7927 - val_loss: 0.3946 - val_accuracy: 0.8223\n",
      "Epoch 2/10\n",
      "178/178 [==============================] - 197s 1s/step - loss: 0.2645 - accuracy: 0.8963 - val_loss: 0.2358 - val_accuracy: 0.9100\n",
      "Epoch 3/10\n",
      "178/178 [==============================] - 196s 1s/step - loss: 0.1987 - accuracy: 0.9223 - val_loss: 0.2466 - val_accuracy: 0.9052\n",
      "Epoch 4/10\n",
      "178/178 [==============================] - 196s 1s/step - loss: 0.1263 - accuracy: 0.9578 - val_loss: 0.1540 - val_accuracy: 0.9455\n",
      "Epoch 5/10\n",
      "178/178 [==============================] - 196s 1s/step - loss: 0.1071 - accuracy: 0.9628 - val_loss: 0.1467 - val_accuracy: 0.9479\n",
      "Epoch 6/10\n",
      "178/178 [==============================] - 196s 1s/step - loss: 0.0609 - accuracy: 0.9817 - val_loss: 0.1251 - val_accuracy: 0.9645\n",
      "Epoch 7/10\n",
      "178/178 [==============================] - 197s 1s/step - loss: 0.0346 - accuracy: 0.9916 - val_loss: 0.1147 - val_accuracy: 0.9692\n",
      "Epoch 8/10\n",
      "178/178 [==============================] - 203s 1s/step - loss: 0.0494 - accuracy: 0.9831 - val_loss: 0.1038 - val_accuracy: 0.9621\n",
      "Epoch 9/10\n",
      "178/178 [==============================] - 199s 1s/step - loss: 0.0318 - accuracy: 0.9895 - val_loss: 0.1091 - val_accuracy: 0.9645\n",
      "Epoch 10/10\n",
      "178/178 [==============================] - 188s 1s/step - loss: 0.0120 - accuracy: 0.9982 - val_loss: 0.1447 - val_accuracy: 0.9550\n"
     ]
    }
   ],
   "source": [
    "epochs=10\n",
    "history = resnet_model.fit(training_set, validation_data=testing_set, epochs=epochs)"
   ]
  },
  {
   "cell_type": "code",
   "execution_count": null,
   "id": "cbb9d2c9",
   "metadata": {},
   "outputs": [],
   "source": []
  }
 ],
 "metadata": {
  "kernelspec": {
   "display_name": "Python 3 (ipykernel)",
   "language": "python",
   "name": "python3"
  },
  "language_info": {
   "codemirror_mode": {
    "name": "ipython",
    "version": 3
   },
   "file_extension": ".py",
   "mimetype": "text/x-python",
   "name": "python",
   "nbconvert_exporter": "python",
   "pygments_lexer": "ipython3",
   "version": "3.8.13"
  }
 },
 "nbformat": 4,
 "nbformat_minor": 5
}
