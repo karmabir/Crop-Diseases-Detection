{
 "cells": [
  {
   "cell_type": "code",
   "execution_count": 1,
   "id": "0d2b8b2c",
   "metadata": {},
   "outputs": [],
   "source": [
    "import matplotlib.pyplot as plt\n",
    "import numpy as np\n",
    "import os\n",
    "import PIL\n",
    "import tensorflow as tf\n",
    "from tensorflow import keras \n",
    "from tensorflow.keras import layers\n",
    "from keras.layers import Dense, Flatten, Input, Lambda\n",
    "from tensorflow.keras.models import Sequential \n",
    "from tensorflow.keras.optimizers import Adam\n",
    "from tensorflow.keras.preprocessing import image\n",
    "from tensorflow.keras.preprocessing.image import ImageDataGenerator,load_img\n",
    "from glob import glob"
   ]
  },
  {
   "cell_type": "code",
   "execution_count": 2,
   "id": "69220dcf",
   "metadata": {},
   "outputs": [],
   "source": [
    "img_height, img_width = 180,180"
   ]
  },
  {
   "cell_type": "code",
   "execution_count": 3,
   "id": "3315fc37",
   "metadata": {},
   "outputs": [
    {
     "name": "stdout",
     "output_type": "stream",
     "text": [
      "Found 10554 images belonging to 14 classes.\n"
     ]
    }
   ],
   "source": [
    "train_datagen=ImageDataGenerator(rescale=1./255,\n",
    "                                 zoom_range=0.2,\n",
    "                                 shear_range=0.1,\n",
    "                                vertical_flip=False)\n",
    "training_set=train_datagen.flow_from_directory('D:/Documents/Capstone/Project -2/New Bangladeshi/BangladeshiCrops/BangladeshiCrops/Train',\n",
    "                                              target_size = (img_height,img_width),\n",
    "                                              class_mode = 'categorical',\n",
    "                                              batch_size=256)"
   ]
  },
  {
   "cell_type": "code",
   "execution_count": 4,
   "id": "857f26be",
   "metadata": {},
   "outputs": [
    {
     "name": "stdout",
     "output_type": "stream",
     "text": [
      "Found 2470 images belonging to 14 classes.\n"
     ]
    }
   ],
   "source": [
    "test_datagen = ImageDataGenerator(rescale = 1./255,\n",
    "                                 zoom_range=0.2)\n",
    "\n",
    "test_set=test_datagen.flow_from_directory('D:/Documents/Capstone/Project -2/New Bangladeshi/BangladeshiCrops/BangladeshiCrops/Test',\n",
    "                                              target_size=(img_height,img_width),\n",
    "                                              class_mode='categorical',\n",
    "                                              batch_size=256)"
   ]
  },
  {
   "cell_type": "code",
   "execution_count": 5,
   "id": "d22d87a4",
   "metadata": {},
   "outputs": [],
   "source": [
    "resnet_model = Sequential()\n",
    "\n",
    "pretrained_model = tf.keras.applications.ResNet50(include_top = False,\n",
    "                                                 input_shape=(180,180,3),\n",
    "                                                 pooling='avg', classes=2,\n",
    "                                                 weights='imagenet')\n",
    "for layer in pretrained_model.layers:\n",
    "    layer.trainable=False\n",
    "\n",
    "resnet_model.add(pretrained_model)\n",
    "resnet_model.add(Dense(14, activation='softmax'))"
   ]
  },
  {
   "cell_type": "code",
   "execution_count": 6,
   "id": "f0994a0e",
   "metadata": {},
   "outputs": [
    {
     "name": "stdout",
     "output_type": "stream",
     "text": [
      "Model: \"sequential\"\n",
      "_________________________________________________________________\n",
      " Layer (type)                Output Shape              Param #   \n",
      "=================================================================\n",
      " resnet50 (Functional)       (None, 2048)              23587712  \n",
      "                                                                 \n",
      " dense (Dense)               (None, 14)                28686     \n",
      "                                                                 \n",
      "=================================================================\n",
      "Total params: 23,616,398\n",
      "Trainable params: 28,686\n",
      "Non-trainable params: 23,587,712\n",
      "_________________________________________________________________\n"
     ]
    }
   ],
   "source": [
    "resnet_model.summary()"
   ]
  },
  {
   "cell_type": "code",
   "execution_count": 7,
   "id": "7ee4e985",
   "metadata": {},
   "outputs": [
    {
     "name": "stderr",
     "output_type": "stream",
     "text": [
      "C:\\Users\\karma\\.conda\\envs\\FarmwiseAI\\lib\\site-packages\\keras\\optimizer_v2\\adam.py:105: UserWarning: The `lr` argument is deprecated, use `learning_rate` instead.\n",
      "  super(Adam, self).__init__(name, **kwargs)\n"
     ]
    }
   ],
   "source": [
    "resnet_model.compile(optimizer=Adam(lr=0.01), loss='categorical_crossentropy',metrics=['accuracy', tf.keras.metrics.AUC(), tf.keras.metrics.Precision(), tf.keras.metrics.Recall(), tf.keras.metrics.TruePositives()])"
   ]
  },
  {
   "cell_type": "code",
   "execution_count": 8,
   "id": "7e1eb018",
   "metadata": {},
   "outputs": [
    {
     "name": "stdout",
     "output_type": "stream",
     "text": [
      "Epoch 1/8\n",
      "42/42 [==============================] - 581s 14s/step - loss: 2.6693 - accuracy: 0.1900 - auc: 0.6673 - precision: 0.7723 - recall: 0.0443 - true_positives: 468.0000 - val_loss: 2.0991 - val_accuracy: 0.2700 - val_auc: 0.8028 - val_precision: 0.8265 - val_recall: 0.0656 - val_true_positives: 162.0000\n",
      "Epoch 2/8\n",
      "42/42 [==============================] - 566s 13s/step - loss: 1.9447 - accuracy: 0.3848 - auc: 0.8421 - precision: 0.8177 - recall: 0.0795 - true_positives: 839.0000 - val_loss: 1.9605 - val_accuracy: 0.3032 - val_auc: 0.8338 - val_precision: 0.7344 - val_recall: 0.0761 - val_true_positives: 188.0000\n",
      "Epoch 3/8\n",
      "42/42 [==============================] - 564s 13s/step - loss: 1.7816 - accuracy: 0.4473 - auc: 0.8710 - precision: 0.8240 - recall: 0.1131 - true_positives: 1194.0000 - val_loss: 1.7967 - val_accuracy: 0.4551 - val_auc: 0.8702 - val_precision: 0.8104 - val_recall: 0.0883 - val_true_positives: 218.0000\n",
      "Epoch 4/8\n",
      "42/42 [==============================] - 565s 13s/step - loss: 1.6152 - accuracy: 0.5030 - auc: 0.9027 - precision: 0.8355 - recall: 0.1521 - true_positives: 1605.0000 - val_loss: 1.6629 - val_accuracy: 0.4352 - val_auc: 0.8944 - val_precision: 0.8395 - val_recall: 0.1377 - val_true_positives: 340.0000\n",
      "Epoch 5/8\n",
      "42/42 [==============================] - 568s 13s/step - loss: 1.5335 - accuracy: 0.5014 - auc: 0.9130 - precision: 0.8242 - recall: 0.1879 - true_positives: 1983.0000 - val_loss: 1.6252 - val_accuracy: 0.4806 - val_auc: 0.8959 - val_precision: 0.7207 - val_recall: 0.1296 - val_true_positives: 320.0000\n",
      "Epoch 6/8\n",
      "42/42 [==============================] - 948s 23s/step - loss: 1.4673 - accuracy: 0.5282 - auc: 0.9202 - precision: 0.8288 - recall: 0.2160 - true_positives: 2280.0000 - val_loss: 1.5035 - val_accuracy: 0.5474 - val_auc: 0.9120 - val_precision: 0.8697 - val_recall: 0.2243 - val_true_positives: 554.0000\n",
      "Epoch 7/8\n",
      "42/42 [==============================] - 1093s 26s/step - loss: 1.3813 - accuracy: 0.5668 - auc: 0.9319 - precision: 0.8363 - recall: 0.2464 - true_positives: 2600.0000 - val_loss: 1.5203 - val_accuracy: 0.5235 - val_auc: 0.9046 - val_precision: 0.7827 - val_recall: 0.3150 - val_true_positives: 778.0000\n",
      "Epoch 8/8\n",
      "42/42 [==============================] - 1064s 25s/step - loss: 1.3533 - accuracy: 0.5507 - auc: 0.9334 - precision: 0.8215 - recall: 0.2673 - true_positives: 2821.0000 - val_loss: 1.4342 - val_accuracy: 0.5518 - val_auc: 0.9254 - val_precision: 0.8450 - val_recall: 0.2206 - val_true_positives: 545.0000\n"
     ]
    }
   ],
   "source": [
    "epochs=8\n",
    "history = resnet_model.fit(training_set, validation_data=test_set, epochs=epochs)"
   ]
  },
  {
   "cell_type": "code",
   "execution_count": 9,
   "id": "49221d2b",
   "metadata": {},
   "outputs": [
    {
     "data": {
      "image/png": "[encoded data removed]",
      "text/plain": [
       "<Figure size 432x288 with 1 Axes>"
      ]
     },
     "metadata": {
      "needs_background": "light"
     },
     "output_type": "display_data"
    }
   ],
   "source": [
    "from matplotlib import pyplot\n",
    "pyplot.plot(history.history['accuracy'])\n",
    "pyplot.show()"
   ]
  }
 ],
 "metadata": {
  "kernelspec": {
   "display_name": "Python 3",
   "language": "python",
   "name": "python3"
  },
  "language_info": {
   "codemirror_mode": {
    "name": "ipython",
    "version": 3
   },
   "file_extension": ".py",
   "mimetype": "text/x-python",
   "name": "python",
   "nbconvert_exporter": "python",
   "pygments_lexer": "ipython3",
   "version": "3.8.13"
  }
 },
 "nbformat": 4,
 "nbformat_minor": 5
}
