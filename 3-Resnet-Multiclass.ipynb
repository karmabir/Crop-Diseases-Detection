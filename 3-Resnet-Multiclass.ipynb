{
 "cells": [
  {
   "cell_type": "code",
   "execution_count": 1,
   "id": "0d2b8b2c",
   "metadata": {},
   "outputs": [],
   "source": [
    "import matplotlib.pyplot as plt\n",
    "import numpy as np\n",
    "import os\n",
    "import PIL\n",
    "import tensorflow as tf\n",
    "from tensorflow import keras \n",
    "from tensorflow.keras import layers\n",
    "from keras.layers import Dense, Flatten, Input, Lambda\n",
    "from tensorflow.keras.models import Sequential \n",
    "from tensorflow.keras.optimizers import Adam\n",
    "from tensorflow.keras.preprocessing import image\n",
    "from tensorflow.keras.preprocessing.image import ImageDataGenerator,load_img\n",
    "from glob import glob"
   ]
  },
  {
   "cell_type": "code",
   "execution_count": 2,
   "id": "69220dcf",
   "metadata": {},
   "outputs": [],
   "source": [
    "img_height, img_width = 180,180"
   ]
  },
  {
   "cell_type": "code",
   "execution_count": 3,
   "id": "3315fc37",
   "metadata": {},
   "outputs": [
    {
     "name": "stdout",
     "output_type": "stream",
     "text": [
      "Found 10554 images belonging to 14 classes.\n"
     ]
    }
   ],
   "source": [
    "train_datagen=ImageDataGenerator(rescale=1./255,\n",
    "                                 zoom_range=0.2,\n",
    "                                 shear_range=0.1,\n",
    "                                vertical_flip=False)\n",
    "training_set=train_datagen.flow_from_directory('D:/Documents/Capstone/Project -2/New Bangladeshi/BangladeshiCrops/BangladeshiCrops/Train',\n",
    "                                              target_size = (img_height,img_width),\n",
    "                                              class_mode = 'categorical',\n",
    "                                              batch_size=256)"
   ]
  },
  {
   "cell_type": "code",
   "execution_count": 4,
   "id": "857f26be",
   "metadata": {},
   "outputs": [
    {
     "name": "stdout",
     "output_type": "stream",
     "text": [
      "Found 2470 images belonging to 14 classes.\n"
     ]
    }
   ],
   "source": [
    "test_datagen = ImageDataGenerator(rescale = 1./255,\n",
    "                                 zoom_range=0.2)\n",
    "\n",
    "test_set=train_datagen.flow_from_directory('D:/Documents/Capstone/Project -2/New Bangladeshi/BangladeshiCrops/BangladeshiCrops/Test',\n",
    "                                              target_size=(img_height,img_width),\n",
    "                                              class_mode='categorical',\n",
    "                                              batch_size=256)"
   ]
  },
  {
   "cell_type": "code",
   "execution_count": 5,
   "id": "d22d87a4",
   "metadata": {},
   "outputs": [],
   "source": [
    "resnet_model = Sequential()\n",
    "\n",
    "pretrained_model = tf.keras.applications.ResNet50(include_top = False,\n",
    "                                                 input_shape=(180,180,3),\n",
    "                                                 pooling='avg', classes=2,\n",
    "                                                 weights='imagenet')\n",
    "for layer in pretrained_model.layers:\n",
    "    layer.trainable=False\n",
    "\n",
    "resnet_model.add(pretrained_model)\n",
    "resnet_model.add(Dense(14, activation='softmax'))"
   ]
  },
  {
   "cell_type": "code",
   "execution_count": 6,
   "id": "f0994a0e",
   "metadata": {},
   "outputs": [
    {
     "name": "stdout",
     "output_type": "stream",
     "text": [
      "Model: \"sequential\"\n",
      "_________________________________________________________________\n",
      " Layer (type)                Output Shape              Param #   \n",
      "=================================================================\n",
      " resnet50 (Functional)       (None, 2048)              23587712  \n",
      "                                                                 \n",
      " dense (Dense)               (None, 14)                28686     \n",
      "                                                                 \n",
      "=================================================================\n",
      "Total params: 23,616,398\n",
      "Trainable params: 28,686\n",
      "Non-trainable params: 23,587,712\n",
      "_________________________________________________________________\n"
     ]
    }
   ],
   "source": [
    "resnet_model.summary()"
   ]
  },
  {
   "cell_type": "code",
   "execution_count": 7,
   "id": "7ee4e985",
   "metadata": {},
   "outputs": [
    {
     "name": "stderr",
     "output_type": "stream",
     "text": [
      "C:\\Users\\karma\\.conda\\envs\\FarmwiseAI\\lib\\site-packages\\keras\\optimizer_v2\\adam.py:105: UserWarning: The `lr` argument is deprecated, use `learning_rate` instead.\n",
      "  super(Adam, self).__init__(name, **kwargs)\n"
     ]
    }
   ],
   "source": [
    "resnet_model.compile(optimizer=Adam(lr=0.01), loss='categorical_crossentropy',metrics=['accuracy'])"
   ]
  },
  {
   "cell_type": "code",
   "execution_count": 8,
   "id": "7e1eb018",
   "metadata": {},
   "outputs": [
    {
     "name": "stdout",
     "output_type": "stream",
     "text": [
      "Epoch 1/8\n",
      "42/42 [==============================] - 2355s 57s/step - loss: 2.6983 - accuracy: 0.2045 - val_loss: 2.1396 - val_accuracy: 0.4194\n",
      "Epoch 2/8\n",
      "42/42 [==============================] - 2816s 67s/step - loss: 1.9373 - accuracy: 0.3980 - val_loss: 1.8999 - val_accuracy: 0.4401\n",
      "Epoch 3/8\n",
      "42/42 [==============================] - 2918s 69s/step - loss: 1.7746 - accuracy: 0.4505 - val_loss: 1.7769 - val_accuracy: 0.4263\n",
      "Epoch 4/8\n",
      "42/42 [==============================] - 2846s 68s/step - loss: 1.6253 - accuracy: 0.4866 - val_loss: 1.7149 - val_accuracy: 0.4530\n",
      "Epoch 5/8\n",
      "42/42 [==============================] - 3216s 77s/step - loss: 1.5188 - accuracy: 0.5244 - val_loss: 1.5466 - val_accuracy: 0.5008\n",
      "Epoch 6/8\n",
      "42/42 [==============================] - 3372s 81s/step - loss: 1.4400 - accuracy: 0.5392 - val_loss: 1.5846 - val_accuracy: 0.4785\n",
      "Epoch 7/8\n",
      " 2/42 [>.............................] - ETA: 46:32 - loss: 1.4504 - accuracy: 0.5059"
     ]
    },
    {
     "name": "stderr",
     "output_type": "stream",
     "text": [
      "\n",
      "KeyboardInterrupt\n",
      "\n"
     ]
    }
   ],
   "source": [
    "epochs=8\n",
    "history = resnet_model.fit(training_set, validation_data=test_set, epochs=epochs)"
   ]
  },
  {
   "cell_type": "code",
   "execution_count": null,
   "id": "49221d2b",
   "metadata": {},
   "outputs": [],
   "source": []
  }
 ],
 "metadata": {
  "kernelspec": {
   "display_name": "Python 3",
   "language": "python",
   "name": "python3"
  },
  "language_info": {
   "codemirror_mode": {
    "name": "ipython",
    "version": 3
   },
   "file_extension": ".py",
   "mimetype": "text/x-python",
   "name": "python",
   "nbconvert_exporter": "python",
   "pygments_lexer": "ipython3",
   "version": "3.8.13"
  }
 },
 "nbformat": 4,
 "nbformat_minor": 5
}
