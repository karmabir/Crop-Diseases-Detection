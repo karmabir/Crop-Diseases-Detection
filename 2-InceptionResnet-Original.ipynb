{
 "cells": [
  {
   "cell_type": "code",
   "execution_count": 1,
   "id": "e0823c82-f7ee-4a7d-891d-08b1f8ee40af",
   "metadata": {},
   "outputs": [],
   "source": [
    "import numpy as np\n",
    "import pandas as pd\n",
    "import matplotlib.pyplot as plt\n",
    "\n",
    "from sklearn.metrics import classification_report, confusion_matrix\n",
    "\n",
    "import tensorflow as tf\n",
    "import keras\n",
    "from keras.preprocessing.image import ImageDataGenerator\n",
    "from tensorflow.keras import applications\n",
    "from keras.models import Sequential, load_model\n",
    "from keras.layers import Conv2D, MaxPooling2D, GlobalAveragePooling2D, Flatten, Dense, Dropout\n",
    "from keras.preprocessing import image\n",
    "\n",
    "import warnings\n",
    "warnings.filterwarnings('ignore')"
   ]
  },
  {
   "cell_type": "code",
   "execution_count": 2,
   "id": "09f40442-ee22-4861-a185-f6f706a2b84d",
   "metadata": {},
   "outputs": [],
   "source": [
    "train_image='D:/Documents/Capstone/Project -2/New Plant Diseases Dataset(Augmented)/New Plant Diseases Dataset(Augmented)/New Plant Diseases Dataset(Augmented)/train'"
   ]
  },
  {
   "cell_type": "code",
   "execution_count": 3,
   "id": "ba6e3451-27e3-4e09-8cb2-f60e784c221c",
   "metadata": {},
   "outputs": [
    {
     "name": "stdout",
     "output_type": "stream",
     "text": [
      "Found 47454 images belonging to 35 classes.\n"
     ]
    }
   ],
   "source": [
    "train_datagen=ImageDataGenerator(rescale=1./255,\n",
    "                                 zoom_range=0.2,\n",
    "                                 shear_range=0.1,\n",
    "                                vertical_flip=False)\n",
    "training_set=train_datagen.flow_from_directory(train_image,\n",
    "                                              target_size=(224,224),\n",
    "                                              class_mode='categorical',\n",
    "                                              batch_size=256)"
   ]
  },
  {
   "cell_type": "code",
   "execution_count": 4,
   "id": "4e9cdfa4-1df9-4f05-b6d9-afe9b16d14af",
   "metadata": {},
   "outputs": [
    {
     "name": "stdout",
     "output_type": "stream",
     "text": [
      "Found 14321 images belonging to 35 classes.\n"
     ]
    }
   ],
   "source": [
    "test_datagen = ImageDataGenerator(rescale = 1./255,\n",
    "                                 zoom_range=0.2)\n",
    "\n",
    "test_set=test_datagen.flow_from_directory('D:/Documents/Capstone/Project -2/New Plant Diseases Dataset(Augmented)/New Plant Diseases Dataset(Augmented)/New Plant Diseases Dataset(Augmented)/valid',\n",
    "                                              target_size=(224,224),\n",
    "                                              class_mode='categorical',\n",
    "                                              batch_size=5)"
   ]
  },
  {
   "cell_type": "code",
   "execution_count": 5,
   "id": "3de0c33e-0505-45bf-ba7a-9f35bcced6ea",
   "metadata": {},
   "outputs": [],
   "source": [
    "base_model = tf.keras.applications.InceptionResNetV2(\n",
    "                     include_top=False,\n",
    "                     weights='imagenet',\n",
    "                     input_shape=(224,224,3)\n",
    "                     )\n",
    " \n",
    "base_model.trainable=False\n",
    "model = tf.keras.Sequential([\n",
    "        base_model,\n",
    "        tf.keras.layers.BatchNormalization(renorm=True),\n",
    "        tf.keras.layers.GlobalAveragePooling2D(),\n",
    "        tf.keras.layers.Dense(35, activation='softmax')\n",
    "    ])"
   ]
  },
  {
   "cell_type": "code",
   "execution_count": 6,
   "id": "00e4897d-6ab0-424c-9e15-94fa1a10ff31",
   "metadata": {},
   "outputs": [],
   "source": [
    "model.compile(optimizer='Adam',loss='categorical_crossentropy',metrics=['accuracy', tf.keras.metrics.AUC(), tf.keras.metrics.Precision(), tf.keras.metrics.Recall(), tf.keras.metrics.TruePositives()])"
   ]
  },
  {
   "cell_type": "code",
   "execution_count": 7,
   "id": "47ee9102-b771-417f-957f-71055bb8d620",
   "metadata": {},
   "outputs": [
    {
     "name": "stdout",
     "output_type": "stream",
     "text": [
      "Model: \"sequential\"\n",
      "_________________________________________________________________\n",
      " Layer (type)                Output Shape              Param #   \n",
      "=================================================================\n",
      " inception_resnet_v2 (Functi  (None, 5, 5, 1536)       54336736  \n",
      " onal)                                                           \n",
      "                                                                 \n",
      " batch_normalization_203 (Ba  (None, 5, 5, 1536)       10752     \n",
      " tchNormalization)                                               \n",
      "                                                                 \n",
      " global_average_pooling2d (G  (None, 1536)             0         \n",
      " lobalAveragePooling2D)                                          \n",
      "                                                                 \n",
      " dense (Dense)               (None, 35)                53795     \n",
      "                                                                 \n",
      "=================================================================\n",
      "Total params: 54,401,283\n",
      "Trainable params: 56,867\n",
      "Non-trainable params: 54,344,416\n",
      "_________________________________________________________________\n"
     ]
    }
   ],
   "source": [
    "model.summary()"
   ]
  },
  {
   "cell_type": "code",
   "execution_count": 8,
   "id": "26759433-e0de-494b-8796-c701b6b46d2e",
   "metadata": {},
   "outputs": [],
   "source": [
    "early = tf.keras.callbacks.EarlyStopping(patience=10, min_delta=0.001, restore_best_weights=True)"
   ]
  },
  {
   "cell_type": "code",
   "execution_count": 9,
   "id": "f8c6d30e-83ba-4ca6-a5bc-f0ac61344b1f",
   "metadata": {},
   "outputs": [
    {
     "name": "stdout",
     "output_type": "stream",
     "text": [
      "Epoch 1/8\n",
      "185/185 [==============================] - 5787s 31s/step - loss: 1.0607 - accuracy: 0.7273 - auc: 0.9799 - precision: 0.9391 - recall: 0.5229 - true_positives: 24678.0000 - val_loss: 2.6489 - val_accuracy: 0.5670 - val_auc: 0.8685 - val_precision: 0.6224 - val_recall: 0.4676 - val_true_positives: 6696.0000\n",
      "Epoch 2/8\n",
      "185/185 [==============================] - 5732s 31s/step - loss: 0.4022 - accuracy: 0.8926 - auc: 0.9971 - precision: 0.9494 - recall: 0.8196 - true_positives: 38682.0000 - val_loss: 2.9695 - val_accuracy: 0.6100 - val_auc: 0.8649 - val_precision: 0.6415 - val_recall: 0.5540 - val_true_positives: 7933.0000\n",
      "Epoch 3/8\n",
      "185/185 [==============================] - 5732s 31s/step - loss: 0.2931 - accuracy: 0.9189 - auc: 0.9983 - precision: 0.9546 - recall: 0.8736 - true_positives: 41233.0000 - val_loss: 3.2091 - val_accuracy: 0.6270 - val_auc: 0.8637 - val_precision: 0.6495 - val_recall: 0.5925 - val_true_positives: 8484.0000\n",
      "Epoch 4/8\n",
      "185/185 [==============================] - 5659s 31s/step - loss: 0.2422 - accuracy: 0.9317 - auc: 0.9986 - precision: 0.9588 - recall: 0.8984 - true_positives: 42405.0000 - val_loss: 3.4492 - val_accuracy: 0.6425 - val_auc: 0.8626 - val_precision: 0.6597 - val_recall: 0.6107 - val_true_positives: 8745.0000\n",
      "Epoch 5/8\n",
      "185/185 [==============================] - 5678s 31s/step - loss: 0.2092 - accuracy: 0.9387 - auc: 0.9989 - precision: 0.9622 - recall: 0.9122 - true_positives: 43055.0000 - val_loss: 3.5919 - val_accuracy: 0.6420 - val_auc: 0.8626 - val_precision: 0.6565 - val_recall: 0.6175 - val_true_positives: 8842.0000\n",
      "Epoch 6/8\n",
      "185/185 [==============================] - 5754s 31s/step - loss: 0.1878 - accuracy: 0.9457 - auc: 0.9991 - precision: 0.9640 - recall: 0.9229 - true_positives: 43560.0000 - val_loss: 3.8464 - val_accuracy: 0.6449 - val_auc: 0.8575 - val_precision: 0.6605 - val_recall: 0.6231 - val_true_positives: 8923.0000\n",
      "Epoch 7/8\n",
      "185/185 [==============================] - 5734s 31s/step - loss: 0.1716 - accuracy: 0.9490 - auc: 0.9992 - precision: 0.9661 - recall: 0.9302 - true_positives: 43903.0000 - val_loss: 4.0034 - val_accuracy: 0.6533 - val_auc: 0.8605 - val_precision: 0.6651 - val_recall: 0.6345 - val_true_positives: 9086.0000\n",
      "Epoch 8/8\n",
      "185/185 [==============================] - 5767s 31s/step - loss: 0.1588 - accuracy: 0.9523 - auc: 0.9993 - precision: 0.9676 - recall: 0.9351 - true_positives: 44136.0000 - val_loss: 4.1076 - val_accuracy: 0.6532 - val_auc: 0.8583 - val_precision: 0.6643 - val_recall: 0.6361 - val_true_positives: 9109.0000\n"
     ]
    }
   ],
   "source": [
    "batch_size=512\n",
    "STEP_SIZE_TRAIN = training_set.n//training_set.batch_size\n",
    "STEP_SIZE_VALID = test_set.n//test_set.batch_size\n",
    "\n",
    "# fit model\n",
    "history = model.fit(training_set, steps_per_epoch=STEP_SIZE_TRAIN,\n",
    "                    validation_data=test_set,\n",
    "                    validation_steps=STEP_SIZE_VALID,\n",
    "                    epochs=8,\n",
    "                    callbacks=[early])"
   ]
  },
  {
   "cell_type": "code",
   "execution_count": 10,
   "id": "9dcd3cb0-f615-4b82-aaff-6ce7dfe25c39",
   "metadata": {},
   "outputs": [
    {
     "data": {
      "image/png": "[encoded data removed]",
      "text/plain": [
       "<Figure size 432x288 with 1 Axes>"
      ]
     },
     "metadata": {
      "needs_background": "light"
     },
     "output_type": "display_data"
    }
   ],
   "source": [
    "from matplotlib import pyplot\n",
    "pyplot.plot(history.history['accuracy'])\n",
    "pyplot.show()"
   ]
  },
  {
   "cell_type": "code",
   "execution_count": null,
   "id": "00137e3e-dc8d-4c97-a557-77e6ccde10a9",
   "metadata": {},
   "outputs": [],
   "source": []
  }
 ],
 "metadata": {
  "kernelspec": {
   "display_name": "Python 3",
   "language": "python",
   "name": "python3"
  },
  "language_info": {
   "codemirror_mode": {
    "name": "ipython",
    "version": 3
   },
   "file_extension": ".py",
   "mimetype": "text/x-python",
   "name": "python",
   "nbconvert_exporter": "python",
   "pygments_lexer": "ipython3",
   "version": "3.8.13"
  }
 },
 "nbformat": 4,
 "nbformat_minor": 5
}
