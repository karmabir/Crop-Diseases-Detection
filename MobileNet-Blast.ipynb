{
 "cells": [
  {
   "cell_type": "code",
   "execution_count": 2,
   "id": "573dcd82",
   "metadata": {},
   "outputs": [],
   "source": [
    "import tensorflow as tf\n",
    "from tensorflow.keras.preprocessing.image import ImageDataGenerator\n",
    "import os\n",
    "import tensorflow_hub as hub\n",
    "from tensorflow.keras.models import Sequential\n",
    "from tensorflow.keras.layers import Dense\n",
    "from tensorflow.keras.optimizers import Adam\n",
    "from tensorflow.keras.losses import CategoricalCrossentropy\n",
    "import tensorboard\n",
    "from keras.callbacks import Callback, TensorBoard\n",
    "import time\n",
    "import numpy as np\n",
    "import matplotlib.pyplot as plt"
   ]
  },
  {
   "cell_type": "code",
   "execution_count": 4,
   "id": "7e798c8b",
   "metadata": {},
   "outputs": [],
   "source": [
    "train_image='D:/Documents/Capstone/Project -2/Dataset/blast_VS_non-blast/train'"
   ]
  },
  {
   "cell_type": "code",
   "execution_count": 5,
   "id": "26aadd90",
   "metadata": {},
   "outputs": [],
   "source": [
    "train_datagen=ImageDataGenerator(rescale=1./255,\n",
    "                                 zoom_range=0.2,\n",
    "                                 shear_range=0.1,\n",
    "                                vertical_flip=False)"
   ]
  },
  {
   "cell_type": "code",
   "execution_count": 6,
   "id": "f9a6f7b1",
   "metadata": {},
   "outputs": [
    {
     "name": "stdout",
     "output_type": "stream",
     "text": [
      "Found 2366 images belonging to 2 classes.\n"
     ]
    }
   ],
   "source": [
    "training_set=train_datagen.flow_from_directory(train_image,\n",
    "                                              target_size=(224,224),\n",
    "                                              class_mode='categorical',\n",
    "                                              batch_size=5)"
   ]
  },
  {
   "cell_type": "code",
   "execution_count": 7,
   "id": "d0a339e4",
   "metadata": {},
   "outputs": [
    {
     "name": "stdout",
     "output_type": "stream",
     "text": [
      "Found 488 images belonging to 2 classes.\n"
     ]
    }
   ],
   "source": [
    "test_datagen = ImageDataGenerator(rescale = 1./255,\n",
    "                                 zoom_range=0.2)\n",
    "\n",
    "test_set=train_datagen.flow_from_directory('D:/Documents/Capstone/Project -2/Dataset/blast_VS_non-blast/test',\n",
    "                                              target_size=(224,224),\n",
    "                                              class_mode='categorical',\n",
    "                                              batch_size=5)"
   ]
  },
  {
   "cell_type": "code",
   "execution_count": 8,
   "id": "c82814eb",
   "metadata": {},
   "outputs": [],
   "source": [
    "#Mobilenet\n",
    "mobileNet = \"https://tfhub.dev/google/imagenet/mobilenet_v2_050_224/classification/5\""
   ]
  },
  {
   "cell_type": "code",
   "execution_count": 13,
   "id": "4ab022f2",
   "metadata": {},
   "outputs": [],
   "source": [
    "# model \n",
    "model = Sequential([\n",
    "    #layer input\n",
    "    hub.KerasLayer(mobileNet, input_shape=(224, 224, 3), trainable=False),\n",
    "    #layer output\n",
    "    Dense(2, activation=\"softmax\")]\n",
    ")"
   ]
  },
  {
   "cell_type": "code",
   "execution_count": 14,
   "id": "74bf9629",
   "metadata": {},
   "outputs": [
    {
     "name": "stdout",
     "output_type": "stream",
     "text": [
      "Model: \"sequential_1\"\n",
      "_________________________________________________________________\n",
      " Layer (type)                Output Shape              Param #   \n",
      "=================================================================\n",
      " keras_layer_1 (KerasLayer)  (None, 1001)              1988505   \n",
      "                                                                 \n",
      " dense_1 (Dense)             (None, 2)                 2004      \n",
      "                                                                 \n",
      "=================================================================\n",
      "Total params: 1,990,509\n",
      "Trainable params: 2,004\n",
      "Non-trainable params: 1,988,505\n",
      "_________________________________________________________________\n"
     ]
    }
   ],
   "source": [
    "model.compile(optimizer=Adam(),\n",
    "              loss=CategoricalCrossentropy(),\n",
    "              metrics=[\"accuracy\"])\n",
    "\n",
    "model.summary()"
   ]
  },
  {
   "cell_type": "code",
   "execution_count": 15,
   "id": "68d7cb86",
   "metadata": {},
   "outputs": [],
   "source": [
    "early = tf.keras.callbacks.EarlyStopping(patience=10, min_delta=0.001, restore_best_weights=True)"
   ]
  },
  {
   "cell_type": "code",
   "execution_count": 16,
   "id": "fe64916d",
   "metadata": {},
   "outputs": [
    {
     "name": "stdout",
     "output_type": "stream",
     "text": [
      "Epoch 1/10\n",
      "473/473 [==============================] - 1100s 2s/step - loss: 0.2947 - accuracy: 0.8933 - val_loss: 0.2271 - val_accuracy: 0.9010\n",
      "Epoch 2/10\n",
      "473/473 [==============================] - 924s 2s/step - loss: 0.2024 - accuracy: 0.9250 - val_loss: 0.1896 - val_accuracy: 0.9258\n",
      "Epoch 3/10\n",
      "473/473 [==============================] - 1125s 2s/step - loss: 0.1866 - accuracy: 0.9263 - val_loss: 0.2377 - val_accuracy: 0.9093\n",
      "Epoch 4/10\n",
      "473/473 [==============================] - 979s 2s/step - loss: 0.1821 - accuracy: 0.9322 - val_loss: 0.2066 - val_accuracy: 0.9278\n",
      "Epoch 5/10\n",
      "473/473 [==============================] - 816s 2s/step - loss: 0.1538 - accuracy: 0.9390 - val_loss: 0.2758 - val_accuracy: 0.8907\n",
      "Epoch 6/10\n",
      "473/473 [==============================] - 802s 2s/step - loss: 0.1580 - accuracy: 0.9399 - val_loss: 0.1750 - val_accuracy: 0.9443\n",
      "Epoch 7/10\n",
      "473/473 [==============================] - 752s 2s/step - loss: 0.1421 - accuracy: 0.9475 - val_loss: 0.2273 - val_accuracy: 0.9093\n",
      "Epoch 8/10\n",
      "473/473 [==============================] - 714s 2s/step - loss: 0.1502 - accuracy: 0.9432 - val_loss: 0.1632 - val_accuracy: 0.9320\n",
      "Epoch 9/10\n",
      "473/473 [==============================] - 650s 1s/step - loss: 0.1624 - accuracy: 0.9437 - val_loss: 0.2301 - val_accuracy: 0.9237\n",
      "Epoch 10/10\n",
      "473/473 [==============================] - 675s 1s/step - loss: 0.1499 - accuracy: 0.9462 - val_loss: 0.2539 - val_accuracy: 0.9072\n"
     ]
    }
   ],
   "source": [
    "batch_size=32\n",
    "STEP_SIZE_TRAIN = training_set.n//training_set.batch_size\n",
    "STEP_SIZE_VALID = test_set.n//test_set.batch_size\n",
    "\n",
    "# fit model\n",
    "history = model.fit(training_set, steps_per_epoch=STEP_SIZE_TRAIN,\n",
    "                    validation_data=test_set,\n",
    "                    validation_steps=STEP_SIZE_VALID,\n",
    "                    epochs=10,\n",
    "                    callbacks=[early])"
   ]
  },
  {
   "cell_type": "code",
   "execution_count": null,
   "id": "9babe6b6",
   "metadata": {},
   "outputs": [],
   "source": []
  }
 ],
 "metadata": {
  "kernelspec": {
   "display_name": "Python 3",
   "language": "python",
   "name": "python3"
  },
  "language_info": {
   "codemirror_mode": {
    "name": "ipython",
    "version": 3
   },
   "file_extension": ".py",
   "mimetype": "text/x-python",
   "name": "python",
   "nbconvert_exporter": "python",
   "pygments_lexer": "ipython3",
   "version": "3.8.13"
  }
 },
 "nbformat": 4,
 "nbformat_minor": 5
}
