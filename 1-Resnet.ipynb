{
 "cells": [
  {
   "cell_type": "code",
   "execution_count": 1,
   "id": "5840d456",
   "metadata": {},
   "outputs": [],
   "source": [
    "import matplotlib.pyplot as plt\n",
    "import numpy as np\n",
    "import os\n",
    "import PIL\n",
    "import tensorflow as tf\n",
    "from tensorflow import keras \n",
    "from tensorflow.keras import layers\n",
    "from keras.layers import Dense, Flatten, Input, Lambda\n",
    "from tensorflow.keras.models import Sequential \n",
    "from tensorflow.keras.optimizers import Adam\n",
    "from tensorflow.keras.preprocessing import image\n",
    "from tensorflow.keras.preprocessing.image import ImageDataGenerator,load_img\n",
    "from glob import glob"
   ]
  },
  {
   "cell_type": "code",
   "execution_count": 2,
   "id": "33619e01",
   "metadata": {},
   "outputs": [],
   "source": [
    "img_height, img_width = 180,180"
   ]
  },
  {
   "cell_type": "code",
   "execution_count": 3,
   "id": "1b0f645e",
   "metadata": {},
   "outputs": [
    {
     "name": "stdout",
     "output_type": "stream",
     "text": [
      "Found 1852 images belonging to 11 classes.\n"
     ]
    }
   ],
   "source": [
    "train_datagen=ImageDataGenerator(rescale=1./255,\n",
    "                                 zoom_range=0.2,\n",
    "                                 shear_range=0.1,\n",
    "                                vertical_flip=False)\n",
    "training_set=train_datagen.flow_from_directory('D:/Documents/Capstone/Project -2/Dataset/Full/train',\n",
    "                                              target_size = (img_height,img_width),\n",
    "                                              class_mode = 'categorical',\n",
    "                                              batch_size=16)"
   ]
  },
  {
   "cell_type": "code",
   "execution_count": 4,
   "id": "d064936b",
   "metadata": {},
   "outputs": [
    {
     "name": "stdout",
     "output_type": "stream",
     "text": [
      "Found 910 images belonging to 11 classes.\n"
     ]
    }
   ],
   "source": [
    "test_datagen = ImageDataGenerator(rescale = 1./255,\n",
    "                                 zoom_range=0.2)\n",
    "\n",
    "test_set=train_datagen.flow_from_directory('D:/Documents/Capstone/Project -2/Dataset/Full/test',\n",
    "                                              target_size=(img_height,img_width),\n",
    "                                              class_mode='categorical',\n",
    "                                              batch_size=16)"
   ]
  },
  {
   "cell_type": "code",
   "execution_count": 5,
   "id": "c414e3ba",
   "metadata": {},
   "outputs": [],
   "source": [
    "resnet_model = Sequential()\n",
    "\n",
    "pretrained_model = tf.keras.applications.ResNet50(include_top = False,\n",
    "                                                 input_shape=(180,180,3),\n",
    "                                                 pooling='avg', classes=2,\n",
    "                                                 weights='imagenet')\n",
    "for layer in pretrained_model.layers:\n",
    "    layer.trainable=False\n",
    "\n",
    "resnet_model.add(pretrained_model)\n",
    "resnet_model.add(Flatten())\n",
    "resnet_model.add(Dense(512, activation='relu'))\n",
    "resnet_model.add(Dense(11, activation='softmax'))"
   ]
  },
  {
   "cell_type": "code",
   "execution_count": 6,
   "id": "ebc0b21b",
   "metadata": {},
   "outputs": [
    {
     "name": "stdout",
     "output_type": "stream",
     "text": [
      "Model: \"sequential\"\n",
      "_________________________________________________________________\n",
      " Layer (type)                Output Shape              Param #   \n",
      "=================================================================\n",
      " resnet50 (Functional)       (None, 2048)              23587712  \n",
      "                                                                 \n",
      " flatten (Flatten)           (None, 2048)              0         \n",
      "                                                                 \n",
      " dense (Dense)               (None, 512)               1049088   \n",
      "                                                                 \n",
      " dense_1 (Dense)             (None, 11)                5643      \n",
      "                                                                 \n",
      "=================================================================\n",
      "Total params: 24,642,443\n",
      "Trainable params: 1,054,731\n",
      "Non-trainable params: 23,587,712\n",
      "_________________________________________________________________\n"
     ]
    }
   ],
   "source": [
    "resnet_model.summary()"
   ]
  },
  {
   "cell_type": "code",
   "execution_count": 8,
   "id": "38cb3d3c",
   "metadata": {},
   "outputs": [
    {
     "name": "stderr",
     "output_type": "stream",
     "text": [
      "C:\\Users\\karma\\.conda\\envs\\FarmwiseAI\\lib\\site-packages\\keras\\optimizer_v2\\adam.py:105: UserWarning: The `lr` argument is deprecated, use `learning_rate` instead.\n",
      "  super(Adam, self).__init__(name, **kwargs)\n"
     ]
    }
   ],
   "source": [
    "resnet_model.compile(optimizer=Adam(lr=0.01), loss='categorical_crossentropy',metrics=['accuracy', tf.keras.metrics.AUC(), tf.keras.metrics.Precision(), tf.keras.metrics.Recall(), tf.keras.metrics.TruePositives()])"
   ]
  },
  {
   "cell_type": "code",
   "execution_count": 9,
   "id": "73d589bb",
   "metadata": {},
   "outputs": [
    {
     "name": "stdout",
     "output_type": "stream",
     "text": [
      "Epoch 1/10\n",
      "116/116 [==============================] - 1552s 13s/step - loss: 2.8050 - accuracy: 0.1501 - auc: 0.6478 - precision: 0.1688 - recall: 0.0146 - true_positives: 27.0000 - val_loss: 2.5944 - val_accuracy: 0.1099 - val_auc: 0.5819 - val_precision: 0.0000e+00 - val_recall: 0.0000e+00 - val_true_positives: 0.0000e+00\n",
      "Epoch 2/10\n",
      "116/116 [==============================] - 1540s 13s/step - loss: 2.1744 - accuracy: 0.1523 - auc: 0.6737 - precision: 0.0000e+00 - recall: 0.0000e+00 - true_positives: 0.0000e+00 - val_loss: 2.5606 - val_accuracy: 0.1077 - val_auc: 0.5729 - val_precision: 0.0000e+00 - val_recall: 0.0000e+00 - val_true_positives: 0.0000e+00\n",
      "Epoch 3/10\n",
      "116/116 [==============================] - 1571s 14s/step - loss: 2.1348 - accuracy: 0.1830 - auc: 0.7128 - precision: 0.0000e+00 - recall: 0.0000e+00 - true_positives: 0.0000e+00 - val_loss: 2.3203 - val_accuracy: 0.0879 - val_auc: 0.6326 - val_precision: 0.0000e+00 - val_recall: 0.0000e+00 - val_true_positives: 0.0000e+00\n",
      "Epoch 4/10\n",
      "116/116 [==============================] - 1641s 14s/step - loss: 2.0915 - accuracy: 0.2030 - auc: 0.7317 - precision: 0.3750 - recall: 0.0016 - true_positives: 3.0000 - val_loss: 2.4651 - val_accuracy: 0.1835 - val_auc: 0.6310 - val_precision: 0.0000e+00 - val_recall: 0.0000e+00 - val_true_positives: 0.0000e+00\n",
      "Epoch 5/10\n",
      "116/116 [==============================] - 1543s 13s/step - loss: 2.0839 - accuracy: 0.2111 - auc: 0.7372 - precision: 0.5000 - recall: 0.0054 - true_positives: 10.0000 - val_loss: 2.3973 - val_accuracy: 0.1791 - val_auc: 0.6200 - val_precision: 0.0000e+00 - val_recall: 0.0000e+00 - val_true_positives: 0.0000e+00\n",
      "Epoch 6/10\n",
      "116/116 [==============================] - 1529s 13s/step - loss: 2.0752 - accuracy: 0.2095 - auc: 0.7390 - precision: 0.4444 - recall: 0.0065 - true_positives: 12.0000 - val_loss: 2.3249 - val_accuracy: 0.1824 - val_auc: 0.6367 - val_precision: 0.0000e+00 - val_recall: 0.0000e+00 - val_true_positives: 0.0000e+00\n",
      "Epoch 7/10\n",
      "116/116 [==============================] - 1538s 13s/step - loss: 2.0376 - accuracy: 0.2154 - auc: 0.7467 - precision: 0.5000 - recall: 0.0065 - true_positives: 12.0000 - val_loss: 2.3174 - val_accuracy: 0.1824 - val_auc: 0.6487 - val_precision: 0.6667 - val_recall: 0.0022 - val_true_positives: 2.0000\n",
      "Epoch 8/10\n",
      "116/116 [==============================] - 1674s 14s/step - loss: 2.0365 - accuracy: 0.1987 - auc: 0.7474 - precision: 0.4828 - recall: 0.0151 - true_positives: 28.0000 - val_loss: 2.3476 - val_accuracy: 0.1615 - val_auc: 0.6439 - val_precision: 0.0000e+00 - val_recall: 0.0000e+00 - val_true_positives: 0.0000e+00\n",
      "Epoch 9/10\n",
      "116/116 [==============================] - 1488s 13s/step - loss: 2.0411 - accuracy: 0.2149 - auc: 0.7450 - precision: 0.4194 - recall: 0.0140 - true_positives: 26.0000 - val_loss: 2.4013 - val_accuracy: 0.1989 - val_auc: 0.6430 - val_precision: 0.5000 - val_recall: 0.0253 - val_true_positives: 23.0000\n",
      "Epoch 10/10\n",
      "116/116 [==============================] - 906s 8s/step - loss: 2.0366 - accuracy: 0.2225 - auc: 0.7460 - precision: 0.5000 - recall: 0.0162 - true_positives: 30.0000 - val_loss: 2.3755 - val_accuracy: 0.1670 - val_auc: 0.6341 - val_precision: 0.0000e+00 - val_recall: 0.0000e+00 - val_true_positives: 0.0000e+00\n"
     ]
    }
   ],
   "source": [
    "epochs=10\n",
    "history = resnet_model.fit(training_set, validation_data=test_set, epochs=epochs)"
   ]
  },
  {
   "cell_type": "code",
   "execution_count": 10,
   "id": "aa5905fc",
   "metadata": {},
   "outputs": [
    {
     "data": {
      "image/png": "[encoded data removed]",
      "text/plain": [
       "<Figure size 432x288 with 1 Axes>"
      ]
     },
     "metadata": {
      "needs_background": "light"
     },
     "output_type": "display_data"
    }
   ],
   "source": [
    "from matplotlib import pyplot\n",
    "pyplot.plot(history.history['accuracy'])\n",
    "pyplot.show()"
   ]
  },
  {
   "cell_type": "code",
   "execution_count": null,
   "id": "e9bf85d8-4de1-46fc-a4f9-cf25af88c0c5",
   "metadata": {},
   "outputs": [],
   "source": []
  },
  {
   "cell_type": "code",
   "execution_count": null,
   "id": "4875717b-3bfb-4328-9e07-a5817b111cda",
   "metadata": {},
   "outputs": [],
   "source": []
  }
 ],
 "metadata": {
  "kernelspec": {
   "display_name": "Python 3",
   "language": "python",
   "name": "python3"
  },
  "language_info": {
   "codemirror_mode": {
    "name": "ipython",
    "version": 3
   },
   "file_extension": ".py",
   "mimetype": "text/x-python",
   "name": "python",
   "nbconvert_exporter": "python",
   "pygments_lexer": "ipython3",
   "version": "3.8.13"
  }
 },
 "nbformat": 4,
 "nbformat_minor": 5
}
