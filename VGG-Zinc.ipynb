{
 "cells": [
  {
   "cell_type": "code",
   "execution_count": 1,
   "id": "4942bb0c",
   "metadata": {},
   "outputs": [],
   "source": [
    "import tensorflow as tf\n",
    "from tensorflow.keras import Input\n",
    "from keras.layers import Input, Lambda, Dense, Flatten\n",
    "from keras.models import Model\n",
    "from keras.applications.vgg16 import VGG16\n",
    "from keras.applications.vgg16 import preprocess_input\n",
    "from keras.preprocessing import image\n",
    "from keras.preprocessing.image import ImageDataGenerator\n",
    "from keras.models import Sequential\n",
    "import numpy as np\n",
    "from glob import glob\n",
    "import matplotlib.pyplot as plt\n",
    "\n",
    "import warnings\n",
    "warnings.filterwarnings(\"ignore\", category=FutureWarning)"
   ]
  },
  {
   "cell_type": "code",
   "execution_count": 2,
   "id": "38371ee1",
   "metadata": {},
   "outputs": [],
   "source": [
    "IMAGE_SIZE = [224, 224]"
   ]
  },
  {
   "cell_type": "code",
   "execution_count": 3,
   "id": "9b374729",
   "metadata": {},
   "outputs": [
    {
     "name": "stdout",
     "output_type": "stream",
     "text": [
      "Found 600 files belonging to 2 classes.\n"
     ]
    }
   ],
   "source": [
    "training_set = tf.keras.preprocessing.image_dataset_from_directory('D:/Documents/Capstone/Project -2/Dataset/zinc_Vs_non-Zinc/train',\n",
    "                                                             image_size = (224,224),\n",
    "                                                             batch_size = 16,\n",
    "                                                             label_mode = 'categorical')"
   ]
  },
  {
   "cell_type": "code",
   "execution_count": 4,
   "id": "cc691d88",
   "metadata": {},
   "outputs": [
    {
     "name": "stdout",
     "output_type": "stream",
     "text": [
      "Found 60 files belonging to 2 classes.\n"
     ]
    }
   ],
   "source": [
    "testing_set = tf.keras.preprocessing.image_dataset_from_directory('D:/Documents/Capstone/Project -2/Dataset/zinc_Vs_non-Zinc/test',\n",
    "                                                             image_size = (224,224),\n",
    "                                                             batch_size = 16,\n",
    "                                                             label_mode = 'categorical')"
   ]
  },
  {
   "cell_type": "code",
   "execution_count": 5,
   "id": "cd86f13f",
   "metadata": {},
   "outputs": [
    {
     "data": {
      "text/plain": [
       "<KerasTensor: shape=(None, 7, 7, 512) dtype=float32 (created by layer 'block5_pool')>"
      ]
     },
     "execution_count": 5,
     "metadata": {},
     "output_type": "execute_result"
    }
   ],
   "source": [
    "vgg = VGG16(input_shape=IMAGE_SIZE + [3], weights = 'imagenet', include_top=False)\n",
    "vgg.output"
   ]
  },
  {
   "cell_type": "code",
   "execution_count": 6,
   "id": "80d2f32a",
   "metadata": {},
   "outputs": [],
   "source": [
    "for layer in vgg.layers:\n",
    "    layer.trainable = False"
   ]
  },
  {
   "cell_type": "code",
   "execution_count": 7,
   "id": "9097176a",
   "metadata": {},
   "outputs": [],
   "source": [
    "x = Flatten()(vgg.output)"
   ]
  },
  {
   "cell_type": "code",
   "execution_count": 8,
   "id": "a4394a8b",
   "metadata": {},
   "outputs": [],
   "source": [
    "prediction = Dense(2, activation='softmax')(x)"
   ]
  },
  {
   "cell_type": "code",
   "execution_count": 9,
   "id": "057e4c94",
   "metadata": {},
   "outputs": [],
   "source": [
    "model = Model(inputs=vgg.input, outputs=prediction)"
   ]
  },
  {
   "cell_type": "code",
   "execution_count": 10,
   "id": "1ec986f2",
   "metadata": {},
   "outputs": [
    {
     "name": "stderr",
     "output_type": "stream",
     "text": [
      "C:\\Users\\karma\\.conda\\envs\\FarmwiseAI\\lib\\site-packages\\keras\\optimizer_v2\\adam.py:105: UserWarning: The `lr` argument is deprecated, use `learning_rate` instead.\n",
      "  super(Adam, self).__init__(name, **kwargs)\n"
     ]
    }
   ],
   "source": [
    "from keras import optimizers\n",
    "from tensorflow.keras.optimizers import Adam\n",
    "\n",
    "model.compile(loss = 'binary_crossentropy',\n",
    "             optimizer=Adam(lr=0.001),\n",
    "             metrics=['accuracy'])"
   ]
  },
  {
   "cell_type": "code",
   "execution_count": 11,
   "id": "84eac8a1",
   "metadata": {},
   "outputs": [
    {
     "name": "stdout",
     "output_type": "stream",
     "text": [
      "Epoch 1/6\n",
      "38/38 [==============================] - 120s 3s/step - loss: 1.6626 - accuracy: 0.8650 - val_loss: 0.0526 - val_accuracy: 1.0000\n",
      "Epoch 2/6\n",
      "38/38 [==============================] - 121s 3s/step - loss: 0.1513 - accuracy: 0.9950 - val_loss: 0.0048 - val_accuracy: 1.0000\n",
      "Epoch 3/6\n",
      "38/38 [==============================] - 133s 3s/step - loss: 0.0437 - accuracy: 1.0000 - val_loss: 7.0107e-05 - val_accuracy: 1.0000\n",
      "Epoch 4/6\n",
      "38/38 [==============================] - 132s 3s/step - loss: 0.0084 - accuracy: 1.0000 - val_loss: 5.2421e-05 - val_accuracy: 1.0000\n",
      "Epoch 5/6\n",
      "38/38 [==============================] - 128s 3s/step - loss: 0.0150 - accuracy: 1.0000 - val_loss: 8.7801e-05 - val_accuracy: 1.0000\n",
      "Epoch 6/6\n",
      "38/38 [==============================] - 131s 3s/step - loss: 0.0149 - accuracy: 1.0000 - val_loss: 7.8912e-05 - val_accuracy: 1.0000\n"
     ]
    }
   ],
   "source": [
    "epochs = 6\n",
    "model_history = model.fit(training_set, \n",
    "                          validation_data=testing_set, \n",
    "                          epochs = epochs)"
   ]
  },
  {
   "cell_type": "code",
   "execution_count": null,
   "id": "7df89fc7",
   "metadata": {},
   "outputs": [],
   "source": []
  }
 ],
 "metadata": {
  "kernelspec": {
   "display_name": "Python 3 (ipykernel)",
   "language": "python",
   "name": "python3"
  },
  "language_info": {
   "codemirror_mode": {
    "name": "ipython",
    "version": 3
   },
   "file_extension": ".py",
   "mimetype": "text/x-python",
   "name": "python",
   "nbconvert_exporter": "python",
   "pygments_lexer": "ipython3",
   "version": "3.8.13"
  }
 },
 "nbformat": 4,
 "nbformat_minor": 5
}
