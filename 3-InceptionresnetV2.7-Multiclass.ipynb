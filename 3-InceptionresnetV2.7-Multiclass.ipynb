{
 "cells": [
  {
   "cell_type": "code",
   "execution_count": 1,
   "id": "651c20f9",
   "metadata": {},
   "outputs": [],
   "source": [
    "import numpy as np\n",
    "import pandas as pd\n",
    "import matplotlib.pyplot as plt\n",
    "\n",
    "from sklearn.metrics import classification_report, confusion_matrix\n",
    "\n",
    "import tensorflow as tf\n",
    "import keras\n",
    "from keras.preprocessing.image import ImageDataGenerator\n",
    "from tensorflow.keras import applications\n",
    "from keras.models import Sequential, load_model\n",
    "from keras.layers import Conv2D, MaxPooling2D, GlobalAveragePooling2D, Flatten, Dense, Dropout\n",
    "from keras.preprocessing import image\n",
    "\n",
    "import warnings\n",
    "warnings.filterwarnings('ignore')"
   ]
  },
  {
   "cell_type": "code",
   "execution_count": 2,
   "id": "7cd85b43",
   "metadata": {},
   "outputs": [],
   "source": [
    "train_image='D:/Documents/Capstone/Project -2/New Bangladeshi/BangladeshiCrops/BangladeshiCrops/Train'"
   ]
  },
  {
   "cell_type": "code",
   "execution_count": 3,
   "id": "6666c617",
   "metadata": {},
   "outputs": [
    {
     "name": "stdout",
     "output_type": "stream",
     "text": [
      "Found 10554 images belonging to 14 classes.\n"
     ]
    }
   ],
   "source": [
    "train_datagen=ImageDataGenerator(rescale=1./255,\n",
    "                                 zoom_range=0.2,\n",
    "                                 shear_range=0.1,\n",
    "                                vertical_flip=False)\n",
    "training_set=train_datagen.flow_from_directory(train_image,\n",
    "                                              target_size=(224,224),\n",
    "                                              class_mode='categorical',\n",
    "                                              batch_size=512)"
   ]
  },
  {
   "cell_type": "code",
   "execution_count": 4,
   "id": "806b719f",
   "metadata": {},
   "outputs": [
    {
     "name": "stdout",
     "output_type": "stream",
     "text": [
      "Found 2470 images belonging to 14 classes.\n"
     ]
    }
   ],
   "source": [
    "test_datagen = ImageDataGenerator(rescale = 1./255,\n",
    "                                 zoom_range=0.2)\n",
    "\n",
    "test_set=test_datagen.flow_from_directory('D:/Documents/Capstone/Project -2/New Bangladeshi/BangladeshiCrops/BangladeshiCrops/Test',\n",
    "                                              target_size=(224,224),\n",
    "                                              class_mode='categorical',\n",
    "                                              batch_size=512)"
   ]
  },
  {
   "cell_type": "code",
   "execution_count": 5,
   "id": "f110cfd7",
   "metadata": {},
   "outputs": [],
   "source": [
    "base_model = tf.keras.applications.InceptionResNetV2(\n",
    "                     include_top=False,\n",
    "                     weights='imagenet',\n",
    "                     input_shape=(224,224,3)\n",
    "                     )\n",
    " \n",
    "base_model.trainable=False\n",
    " \n",
    "model = tf.keras.Sequential([\n",
    "        base_model,  \n",
    "        tf.keras.layers.BatchNormalization(renorm=True),\n",
    "        tf.keras.layers.GlobalAveragePooling2D(),\n",
    "        tf.keras.layers.Dense(512, activation='relu'),\n",
    "        tf.keras.layers.Dense(256, activation='relu'),\n",
    "        tf.keras.layers.Dropout(0.5),\n",
    "        tf.keras.layers.Dense(128, activation='relu'),\n",
    "        tf.keras.layers.Dense(14, activation='softmax')\n",
    "    ])"
   ]
  },
  {
   "cell_type": "code",
   "execution_count": 6,
   "id": "188ec831",
   "metadata": {},
   "outputs": [],
   "source": [
    "model.compile(optimizer='Adam',loss='categorical_crossentropy',metrics=['accuracy', tf.keras.metrics.AUC(), tf.keras.metrics.Precision(), tf.keras.metrics.Recall(), tf.keras.metrics.TruePositives()])"
   ]
  },
  {
   "cell_type": "code",
   "execution_count": 7,
   "id": "c04993f0",
   "metadata": {},
   "outputs": [
    {
     "name": "stdout",
     "output_type": "stream",
     "text": [
      "Model: \"sequential\"\n",
      "_________________________________________________________________\n",
      " Layer (type)                Output Shape              Param #   \n",
      "=================================================================\n",
      " inception_resnet_v2 (Functi  (None, 5, 5, 1536)       54336736  \n",
      " onal)                                                           \n",
      "                                                                 \n",
      " batch_normalization_203 (Ba  (None, 5, 5, 1536)       10752     \n",
      " tchNormalization)                                               \n",
      "                                                                 \n",
      " global_average_pooling2d (G  (None, 1536)             0         \n",
      " lobalAveragePooling2D)                                          \n",
      "                                                                 \n",
      " dense (Dense)               (None, 512)               786944    \n",
      "                                                                 \n",
      " dense_1 (Dense)             (None, 256)               131328    \n",
      "                                                                 \n",
      " dropout (Dropout)           (None, 256)               0         \n",
      "                                                                 \n",
      " dense_2 (Dense)             (None, 128)               32896     \n",
      "                                                                 \n",
      " dense_3 (Dense)             (None, 14)                1806      \n",
      "                                                                 \n",
      "=================================================================\n",
      "Total params: 55,300,462\n",
      "Trainable params: 956,046\n",
      "Non-trainable params: 54,344,416\n",
      "_________________________________________________________________\n"
     ]
    }
   ],
   "source": [
    "model.summary()"
   ]
  },
  {
   "cell_type": "code",
   "execution_count": 8,
   "id": "02fe1ee8",
   "metadata": {},
   "outputs": [],
   "source": [
    "early = tf.keras.callbacks.EarlyStopping(patience=10, min_delta=0.001, restore_best_weights=True)"
   ]
  },
  {
   "cell_type": "code",
   "execution_count": 9,
   "id": "7b8d8452",
   "metadata": {},
   "outputs": [
    {
     "name": "stdout",
     "output_type": "stream",
     "text": [
      "Epoch 1/8\n",
      "20/20 [==============================] - 1039s 51s/step - loss: 1.2275 - accuracy: 0.5768 - auc: 0.9398 - precision: 0.7396 - recall: 0.4233 - true_positives: 4251.0000 - val_loss: 0.5602 - val_accuracy: 0.7944 - val_auc: 0.9877 - val_precision: 0.8526 - val_recall: 0.7427 - val_true_positives: 1521.0000\n",
      "Epoch 2/8\n",
      "20/20 [==============================] - 938s 48s/step - loss: 0.5459 - accuracy: 0.7864 - auc: 0.9880 - precision: 0.8282 - recall: 0.7342 - true_positives: 7373.0000 - val_loss: 0.4798 - val_accuracy: 0.8169 - val_auc: 0.9899 - val_precision: 0.8658 - val_recall: 0.7847 - val_true_positives: 1607.0000\n",
      "Epoch 3/8\n",
      "20/20 [==============================] - 947s 47s/step - loss: 0.4180 - accuracy: 0.8358 - auc: 0.9924 - precision: 0.8676 - recall: 0.7980 - true_positives: 8014.0000 - val_loss: 0.4241 - val_accuracy: 0.8438 - val_auc: 0.9909 - val_precision: 0.8695 - val_recall: 0.8130 - val_true_positives: 1665.0000\n",
      "Epoch 4/8\n",
      "20/20 [==============================] - 948s 47s/step - loss: 0.3494 - accuracy: 0.8657 - auc: 0.9949 - precision: 0.8876 - recall: 0.8425 - true_positives: 8460.0000 - val_loss: 0.4264 - val_accuracy: 0.8516 - val_auc: 0.9898 - val_precision: 0.8719 - val_recall: 0.8340 - val_true_positives: 1708.0000\n",
      "Epoch 5/8\n",
      "20/20 [==============================] - 950s 47s/step - loss: 0.3145 - accuracy: 0.8807 - auc: 0.9953 - precision: 0.8976 - recall: 0.8575 - true_positives: 8611.0000 - val_loss: 0.4189 - val_accuracy: 0.8477 - val_auc: 0.9902 - val_precision: 0.8639 - val_recall: 0.8335 - val_true_positives: 1707.0000\n",
      "Epoch 6/8\n",
      "20/20 [==============================] - 948s 47s/step - loss: 0.2867 - accuracy: 0.8877 - auc: 0.9961 - precision: 0.9033 - recall: 0.8711 - true_positives: 8748.0000 - val_loss: 0.4011 - val_accuracy: 0.8579 - val_auc: 0.9921 - val_precision: 0.8712 - val_recall: 0.8486 - val_true_positives: 1738.0000\n",
      "Epoch 7/8\n",
      "20/20 [==============================] - 946s 47s/step - loss: 0.2595 - accuracy: 0.9033 - auc: 0.9968 - precision: 0.9147 - recall: 0.8891 - true_positives: 8928.0000 - val_loss: 0.3833 - val_accuracy: 0.8569 - val_auc: 0.9924 - val_precision: 0.8685 - val_recall: 0.8452 - val_true_positives: 1731.0000\n",
      "Epoch 8/8\n",
      "20/20 [==============================] - 957s 48s/step - loss: 0.2442 - accuracy: 0.9108 - auc: 0.9971 - precision: 0.9197 - recall: 0.8972 - true_positives: 9010.0000 - val_loss: 0.4192 - val_accuracy: 0.8652 - val_auc: 0.9881 - val_precision: 0.8750 - val_recall: 0.8545 - val_true_positives: 1750.0000\n"
     ]
    }
   ],
   "source": [
    "batch_size=1024\n",
    "STEP_SIZE_TRAIN = training_set.n//training_set.batch_size\n",
    "STEP_SIZE_VALID = test_set.n//test_set.batch_size\n",
    "\n",
    "# fit model\n",
    "history = model.fit(training_set, steps_per_epoch=STEP_SIZE_TRAIN,\n",
    "                    validation_data=test_set,\n",
    "                    validation_steps=STEP_SIZE_VALID,\n",
    "                    epochs=8,\n",
    "                    callbacks=[early])"
   ]
  },
  {
   "cell_type": "code",
   "execution_count": 10,
   "id": "5972a5e6",
   "metadata": {},
   "outputs": [
    {
     "data": {
      "image/png": "[encoded data removed]",
      "text/plain": [
       "<Figure size 432x288 with 1 Axes>"
      ]
     },
     "metadata": {
      "needs_background": "light"
     },
     "output_type": "display_data"
    }
   ],
   "source": [
    "from matplotlib import pyplot\n",
    "pyplot.plot(history.history['accuracy'])\n",
    "pyplot.show()"
   ]
  }
 ],
 "metadata": {
  "kernelspec": {
   "display_name": "Python 3",
   "language": "python",
   "name": "python3"
  },
  "language_info": {
   "codemirror_mode": {
    "name": "ipython",
    "version": 3
   },
   "file_extension": ".py",
   "mimetype": "text/x-python",
   "name": "python",
   "nbconvert_exporter": "python",
   "pygments_lexer": "ipython3",
   "version": "3.8.13"
  }
 },
 "nbformat": 4,
 "nbformat_minor": 5
}
