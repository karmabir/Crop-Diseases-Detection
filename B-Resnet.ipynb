{
 "cells": [
  {
   "cell_type": "code",
   "execution_count": 3,
   "id": "efff1dec",
   "metadata": {},
   "outputs": [],
   "source": [
    "import matplotlib.pyplot as plt\n",
    "import numpy as np\n",
    "import os\n",
    "import PIL\n",
    "import tensorflow as tf\n",
    "from tensorflow import keras \n",
    "from tensorflow.keras import layers\n",
    "from keras.layers import Dense, Flatten, Input, Lambda\n",
    "from tensorflow.keras.models import Sequential \n",
    "from tensorflow.keras.optimizers import Adam\n",
    "from tensorflow.keras.preprocessing import image\n",
    "from tensorflow.keras.preprocessing.image import ImageDataGenerator,load_img\n",
    "from glob import glob"
   ]
  },
  {
   "cell_type": "code",
   "execution_count": 4,
   "id": "bda53293",
   "metadata": {},
   "outputs": [],
   "source": [
    "# D:/Documents/Capstone/Project -2/Dataset/boron_deficiency_Vs_non-boron_deficiency/train"
   ]
  },
  {
   "cell_type": "code",
   "execution_count": 5,
   "id": "c461cd32",
   "metadata": {},
   "outputs": [],
   "source": [
    "img_height, img_width = 180,180"
   ]
  },
  {
   "cell_type": "code",
   "execution_count": 9,
   "id": "1248f7a1",
   "metadata": {},
   "outputs": [
    {
     "name": "stdout",
     "output_type": "stream",
     "text": [
      "Found 600 images belonging to 2 classes.\n"
     ]
    }
   ],
   "source": [
    "train_datagen=ImageDataGenerator(rescale=1./255,\n",
    "                                 zoom_range=0.2,\n",
    "                                 shear_range=0.1,\n",
    "                                vertical_flip=False)\n",
    "training_set=train_datagen.flow_from_directory('D:/Documents/Capstone/Project -2/Dataset/boron_deficiency_Vs_non-boron_deficiency/train',\n",
    "                                              target_size = (img_height,img_width),\n",
    "                                              class_mode = 'categorical',\n",
    "                                              batch_size=16)"
   ]
  },
  {
   "cell_type": "code",
   "execution_count": 10,
   "id": "f6a5c724",
   "metadata": {},
   "outputs": [
    {
     "name": "stdout",
     "output_type": "stream",
     "text": [
      "Found 60 images belonging to 2 classes.\n"
     ]
    }
   ],
   "source": [
    "test_datagen = ImageDataGenerator(rescale = 1./255,\n",
    "                                 zoom_range=0.2)\n",
    "\n",
    "test_set=train_datagen.flow_from_directory('D:/Documents/Capstone/Project -2/Dataset/boron_deficiency_Vs_non-boron_deficiency/test',\n",
    "                                              target_size=(img_height,img_width),\n",
    "                                              class_mode='categorical',\n",
    "                                              batch_size=16)"
   ]
  },
  {
   "cell_type": "code",
   "execution_count": null,
   "id": "3bd3c8e6",
   "metadata": {},
   "outputs": [],
   "source": []
  },
  {
   "cell_type": "code",
   "execution_count": 11,
   "id": "33eacfd0",
   "metadata": {},
   "outputs": [
    {
     "ename": "AttributeError",
     "evalue": "'DirectoryIterator' object has no attribute 'class_names'",
     "output_type": "error",
     "traceback": [
      "\u001b[1;31m---------------------------------------------------------------------------\u001b[0m",
      "\u001b[1;31mAttributeError\u001b[0m                            Traceback (most recent call last)",
      "Cell \u001b[1;32mIn [11], line 1\u001b[0m\n\u001b[1;32m----> 1\u001b[0m class_names \u001b[38;5;241m=\u001b[39m \u001b[43mtraining_set\u001b[49m\u001b[38;5;241;43m.\u001b[39;49m\u001b[43mclass_names\u001b[49m\n\u001b[0;32m      2\u001b[0m \u001b[38;5;28mprint\u001b[39m(class_names)\n",
      "\u001b[1;31mAttributeError\u001b[0m: 'DirectoryIterator' object has no attribute 'class_names'"
     ]
    }
   ],
   "source": [
    "class_names = training_set.class_names\n",
    "print(class_names)"
   ]
  },
  {
   "cell_type": "markdown",
   "id": "2d1d7405",
   "metadata": {},
   "source": [
    "# Model Training"
   ]
  },
  {
   "cell_type": "code",
   "execution_count": 12,
   "id": "031257d9",
   "metadata": {},
   "outputs": [],
   "source": [
    "resnet_model = Sequential()\n",
    "\n",
    "pretrained_model = tf.keras.applications.ResNet50(include_top = False,\n",
    "                                                 input_shape=(180,180,3),\n",
    "                                                 pooling='avg', classes=2,\n",
    "                                                 weights='imagenet')\n",
    "for layer in pretrained_model.layers:\n",
    "    layer.trainable=False\n",
    "\n",
    "resnet_model.add(pretrained_model)\n",
    "resnet_model.add(Flatten())\n",
    "resnet_model.add(Dense(512, activation='relu'))\n",
    "resnet_model.add(Dense(2, activation='softmax'))"
   ]
  },
  {
   "cell_type": "code",
   "execution_count": 13,
   "id": "ca33db4e",
   "metadata": {},
   "outputs": [
    {
     "name": "stdout",
     "output_type": "stream",
     "text": [
      "Model: \"sequential\"\n",
      "_________________________________________________________________\n",
      " Layer (type)                Output Shape              Param #   \n",
      "=================================================================\n",
      " resnet50 (Functional)       (None, 2048)              23587712  \n",
      "                                                                 \n",
      " flatten (Flatten)           (None, 2048)              0         \n",
      "                                                                 \n",
      " dense (Dense)               (None, 512)               1049088   \n",
      "                                                                 \n",
      " dense_1 (Dense)             (None, 2)                 1026      \n",
      "                                                                 \n",
      "=================================================================\n",
      "Total params: 24,637,826\n",
      "Trainable params: 1,050,114\n",
      "Non-trainable params: 23,587,712\n",
      "_________________________________________________________________\n"
     ]
    }
   ],
   "source": [
    "resnet_model.summary()"
   ]
  },
  {
   "cell_type": "code",
   "execution_count": 14,
   "id": "6fa3cd96",
   "metadata": {},
   "outputs": [
    {
     "name": "stderr",
     "output_type": "stream",
     "text": [
      "C:\\Users\\karma\\.conda\\envs\\FarmwiseAI\\lib\\site-packages\\keras\\optimizer_v2\\adam.py:105: UserWarning: The `lr` argument is deprecated, use `learning_rate` instead.\n",
      "  super(Adam, self).__init__(name, **kwargs)\n"
     ]
    }
   ],
   "source": [
    "resnet_model.compile(optimizer=Adam(lr=0.001), loss='binary_crossentropy',metrics=['accuracy'])"
   ]
  },
  {
   "cell_type": "code",
   "execution_count": 16,
   "id": "9045bc06",
   "metadata": {},
   "outputs": [
    {
     "name": "stdout",
     "output_type": "stream",
     "text": [
      "Epoch 1/10\n",
      "38/38 [==============================] - 143s 4s/step - loss: 0.8071 - accuracy: 0.5217 - val_loss: 0.7065 - val_accuracy: 0.5000\n",
      "Epoch 2/10\n",
      "38/38 [==============================] - 123s 3s/step - loss: 0.6974 - accuracy: 0.5500 - val_loss: 0.6688 - val_accuracy: 0.6167\n",
      "Epoch 3/10\n",
      "38/38 [==============================] - 117s 3s/step - loss: 0.7032 - accuracy: 0.5100 - val_loss: 0.6465 - val_accuracy: 0.6333\n",
      "Epoch 4/10\n",
      "38/38 [==============================] - 118s 3s/step - loss: 0.6531 - accuracy: 0.6100 - val_loss: 0.6401 - val_accuracy: 0.6000\n",
      "Epoch 5/10\n",
      "38/38 [==============================] - 113s 3s/step - loss: 0.6750 - accuracy: 0.5783 - val_loss: 0.6710 - val_accuracy: 0.6000\n",
      "Epoch 6/10\n",
      "38/38 [==============================] - 112s 3s/step - loss: 0.6468 - accuracy: 0.6083 - val_loss: 0.6238 - val_accuracy: 0.6667\n",
      "Epoch 7/10\n",
      "38/38 [==============================] - 113s 3s/step - loss: 0.6567 - accuracy: 0.5633 - val_loss: 0.6618 - val_accuracy: 0.5000\n",
      "Epoch 8/10\n",
      "38/38 [==============================] - 115s 3s/step - loss: 0.6413 - accuracy: 0.6167 - val_loss: 0.6081 - val_accuracy: 0.6833\n",
      "Epoch 9/10\n",
      "38/38 [==============================] - 115s 3s/step - loss: 0.6486 - accuracy: 0.5983 - val_loss: 0.6332 - val_accuracy: 0.6000\n",
      "Epoch 10/10\n",
      "38/38 [==============================] - 108s 3s/step - loss: 0.6282 - accuracy: 0.6567 - val_loss: 0.5911 - val_accuracy: 0.6667\n"
     ]
    }
   ],
   "source": [
    "epochs=10\n",
    "history = resnet_model.fit(training_set, validation_data=test_set, epochs=epochs)"
   ]
  },
  {
   "cell_type": "code",
   "execution_count": null,
   "id": "e9193766",
   "metadata": {},
   "outputs": [],
   "source": []
  }
 ],
 "metadata": {
  "kernelspec": {
   "display_name": "Python 3 (ipykernel)",
   "language": "python",
   "name": "python3"
  },
  "language_info": {
   "codemirror_mode": {
    "name": "ipython",
    "version": 3
   },
   "file_extension": ".py",
   "mimetype": "text/x-python",
   "name": "python",
   "nbconvert_exporter": "python",
   "pygments_lexer": "ipython3",
   "version": "3.8.13"
  }
 },
 "nbformat": 4,
 "nbformat_minor": 5
}
