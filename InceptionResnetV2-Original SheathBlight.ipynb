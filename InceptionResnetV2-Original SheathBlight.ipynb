{
 "cells": [
  {
   "cell_type": "code",
   "execution_count": 1,
   "id": "ed3cf0b9",
   "metadata": {},
   "outputs": [],
   "source": [
    "import numpy as np\n",
    "import pandas as pd\n",
    "import matplotlib.pyplot as plt\n",
    "\n",
    "from sklearn.metrics import classification_report, confusion_matrix\n",
    "\n",
    "import tensorflow as tf\n",
    "import keras\n",
    "from keras.preprocessing.image import ImageDataGenerator\n",
    "from tensorflow.keras import applications\n",
    "from keras.models import Sequential, load_model\n",
    "from keras.layers import Conv2D, MaxPooling2D, GlobalAveragePooling2D, Flatten, Dense, Dropout\n",
    "from keras.preprocessing import image\n",
    "\n",
    "import warnings\n",
    "warnings.filterwarnings('ignore')"
   ]
  },
  {
   "cell_type": "code",
   "execution_count": 2,
   "id": "4f444f5e",
   "metadata": {},
   "outputs": [],
   "source": [
    "train_image='D:/Documents/Capstone/Project -2/Dataset/sheath_blight_Vs_non-sheath_blight/train'"
   ]
  },
  {
   "cell_type": "code",
   "execution_count": 3,
   "id": "974efe13",
   "metadata": {},
   "outputs": [],
   "source": [
    "train_datagen=ImageDataGenerator(rescale=1./255,\n",
    "                                 zoom_range=0.2,\n",
    "                                 shear_range=0.1,\n",
    "                                vertical_flip=False)"
   ]
  },
  {
   "cell_type": "code",
   "execution_count": 4,
   "id": "911e5ea8",
   "metadata": {},
   "outputs": [
    {
     "name": "stdout",
     "output_type": "stream",
     "text": [
      "Found 1358 images belonging to 2 classes.\n"
     ]
    }
   ],
   "source": [
    "training_set=train_datagen.flow_from_directory(train_image,\n",
    "                                              target_size=(224,224),\n",
    "                                              class_mode='categorical',\n",
    "                                              batch_size=5)"
   ]
  },
  {
   "cell_type": "code",
   "execution_count": 5,
   "id": "e70e0993",
   "metadata": {},
   "outputs": [
    {
     "name": "stdout",
     "output_type": "stream",
     "text": [
      "Found 72 images belonging to 2 classes.\n"
     ]
    }
   ],
   "source": [
    "test_datagen = ImageDataGenerator(rescale = 1./255,\n",
    "                                 zoom_range=0.2)\n",
    "\n",
    "test_set=train_datagen.flow_from_directory('D:/Documents/Capstone/Project -2/Dataset/sheath_blight_Vs_non-sheath_blight/test',\n",
    "                                              target_size=(224,224),\n",
    "                                              class_mode='categorical',\n",
    "                                              batch_size=5)"
   ]
  },
  {
   "cell_type": "code",
   "execution_count": 6,
   "id": "920d207b",
   "metadata": {},
   "outputs": [
    {
     "name": "stdout",
     "output_type": "stream",
     "text": [
      "Model: \"sequential\"\n",
      "_________________________________________________________________\n",
      " Layer (type)                Output Shape              Param #   \n",
      "=================================================================\n",
      " inception_resnet_v2 (Functi  (None, 5, 5, 1536)       54336736  \n",
      " onal)                                                           \n",
      "                                                                 \n",
      " batch_normalization_203 (Ba  (None, 5, 5, 1536)       10752     \n",
      " tchNormalization)                                               \n",
      "                                                                 \n",
      " global_average_pooling2d (G  (None, 1536)             0         \n",
      " lobalAveragePooling2D)                                          \n",
      "                                                                 \n",
      " dense (Dense)               (None, 2)                 3074      \n",
      "                                                                 \n",
      "=================================================================\n",
      "Total params: 54,350,562\n",
      "Trainable params: 6,146\n",
      "Non-trainable params: 54,344,416\n",
      "_________________________________________________________________\n",
      "Epoch 1/10\n",
      "271/271 [==============================] - 1689s 6s/step - loss: 0.2247 - accuracy: 0.9024 - val_loss: 0.1895 - val_accuracy: 0.9571\n",
      "Epoch 2/10\n",
      "271/271 [==============================] - 1630s 6s/step - loss: 0.0985 - accuracy: 0.9682 - val_loss: 0.1441 - val_accuracy: 0.9714\n",
      "Epoch 3/10\n",
      "271/271 [==============================] - 1562s 6s/step - loss: 0.0718 - accuracy: 0.9719 - val_loss: 0.1316 - val_accuracy: 0.9571\n",
      "Epoch 4/10\n",
      "271/271 [==============================] - 1448s 5s/step - loss: 0.0623 - accuracy: 0.9771 - val_loss: 0.0305 - val_accuracy: 1.0000\n",
      "Epoch 5/10\n",
      "271/271 [==============================] - 1422s 5s/step - loss: 0.0498 - accuracy: 0.9837 - val_loss: 0.0855 - val_accuracy: 0.9429\n",
      "Epoch 6/10\n",
      "271/271 [==============================] - 1296s 5s/step - loss: 0.0549 - accuracy: 0.9793 - val_loss: 0.1423 - val_accuracy: 0.9571\n",
      "Epoch 7/10\n",
      "271/271 [==============================] - 1296s 5s/step - loss: 0.0352 - accuracy: 0.9897 - val_loss: 0.1990 - val_accuracy: 0.9571\n",
      "Epoch 8/10\n",
      "271/271 [==============================] - 1219s 4s/step - loss: 0.0458 - accuracy: 0.9852 - val_loss: 0.1771 - val_accuracy: 0.9571\n",
      "Epoch 9/10\n",
      "271/271 [==============================] - 1265s 5s/step - loss: 0.0299 - accuracy: 0.9882 - val_loss: 0.1097 - val_accuracy: 0.9571\n",
      "Epoch 10/10\n",
      "271/271 [==============================] - 1316s 5s/step - loss: 0.0277 - accuracy: 0.9889 - val_loss: 0.0878 - val_accuracy: 0.9571\n"
     ]
    }
   ],
   "source": [
    "base_model = tf.keras.applications.InceptionResNetV2(\n",
    "                     include_top=False,\n",
    "                     weights='imagenet',\n",
    "                     input_shape=(224,224,3)\n",
    "                     )\n",
    " \n",
    "base_model.trainable=False\n",
    " \n",
    "model = tf.keras.Sequential([\n",
    "        base_model,  \n",
    "        tf.keras.layers.BatchNormalization(renorm=True),\n",
    "        tf.keras.layers.GlobalAveragePooling2D(),\n",
    "        tf.keras.layers.Dense(2, activation='softmax')\n",
    "    ])\n",
    "model.compile(optimizer='Adam',loss='categorical_crossentropy',metrics=['accuracy'])\n",
    "model.summary()\n",
    "early = tf.keras.callbacks.EarlyStopping(patience=10, min_delta=0.001, restore_best_weights=True)\n",
    "batch_size=32\n",
    "STEP_SIZE_TRAIN = training_set.n//training_set.batch_size\n",
    "STEP_SIZE_VALID = test_set.n//test_set.batch_size\n",
    "\n",
    "# fit model\n",
    "history = model.fit(training_set, steps_per_epoch=STEP_SIZE_TRAIN,\n",
    "                    validation_data=test_set,\n",
    "                    validation_steps=STEP_SIZE_VALID,\n",
    "                    epochs=10,\n",
    "                    callbacks=[early])"
   ]
  },
  {
   "cell_type": "code",
   "execution_count": null,
   "id": "1be37248",
   "metadata": {},
   "outputs": [],
   "source": []
  }
 ],
 "metadata": {
  "kernelspec": {
   "display_name": "Python 3 (ipykernel)",
   "language": "python",
   "name": "python3"
  },
  "language_info": {
   "codemirror_mode": {
    "name": "ipython",
    "version": 3
   },
   "file_extension": ".py",
   "mimetype": "text/x-python",
   "name": "python",
   "nbconvert_exporter": "python",
   "pygments_lexer": "ipython3",
   "version": "3.8.13"
  }
 },
 "nbformat": 4,
 "nbformat_minor": 5
}
