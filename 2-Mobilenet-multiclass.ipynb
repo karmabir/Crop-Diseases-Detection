{
 "cells": [
  {
   "cell_type": "code",
   "execution_count": 1,
   "id": "2eb0a235",
   "metadata": {},
   "outputs": [],
   "source": [
    "import tensorflow as tf\n",
    "from tensorflow.keras.preprocessing.image import ImageDataGenerator\n",
    "import os\n",
    "import tensorflow_hub as hub\n",
    "from tensorflow.keras.models import Sequential\n",
    "from tensorflow.keras.layers import Dense\n",
    "from tensorflow.keras.optimizers import Adam\n",
    "from tensorflow.keras.losses import CategoricalCrossentropy\n",
    "import tensorboard\n",
    "from keras.callbacks import Callback, TensorBoard\n",
    "import time\n",
    "import numpy as np\n",
    "import matplotlib.pyplot as plt"
   ]
  },
  {
   "cell_type": "code",
   "execution_count": 2,
   "id": "62f1defa",
   "metadata": {},
   "outputs": [],
   "source": [
    "train_image='D:/Documents/Capstone/Project -2/New Plant Diseases Dataset(Augmented)/New Plant Diseases Dataset(Augmented)/New Plant Diseases Dataset(Augmented)/train'"
   ]
  },
  {
   "cell_type": "code",
   "execution_count": 3,
   "id": "3974d7f7",
   "metadata": {},
   "outputs": [],
   "source": [
    "train_datagen=ImageDataGenerator(rescale=1./255,\n",
    "                                 zoom_range=0.2,\n",
    "                                 shear_range=0.1,\n",
    "                                vertical_flip=False)"
   ]
  },
  {
   "cell_type": "code",
   "execution_count": 4,
   "id": "25a73956",
   "metadata": {},
   "outputs": [
    {
     "name": "stdout",
     "output_type": "stream",
     "text": [
      "Found 47454 images belonging to 35 classes.\n"
     ]
    }
   ],
   "source": [
    "training_set=train_datagen.flow_from_directory(train_image,\n",
    "                                              target_size=(224,224),\n",
    "                                              class_mode='categorical',\n",
    "                                              batch_size=5)"
   ]
  },
  {
   "cell_type": "code",
   "execution_count": 5,
   "id": "1595a99f",
   "metadata": {},
   "outputs": [
    {
     "name": "stdout",
     "output_type": "stream",
     "text": [
      "Found 14321 images belonging to 35 classes.\n"
     ]
    }
   ],
   "source": [
    "test_datagen = ImageDataGenerator(rescale = 1./255,\n",
    "                                 zoom_range=0.2)\n",
    "\n",
    "test_set=train_datagen.flow_from_directory('D:/Documents/Capstone/Project -2/New Plant Diseases Dataset(Augmented)/New Plant Diseases Dataset(Augmented)/New Plant Diseases Dataset(Augmented)/valid',\n",
    "                                              target_size=(224,224),\n",
    "                                              class_mode='categorical',\n",
    "                                              batch_size=20)"
   ]
  },
  {
   "cell_type": "code",
   "execution_count": 6,
   "id": "7b067002",
   "metadata": {},
   "outputs": [],
   "source": [
    "#Mobilenet\n",
    "mobileNet = \"https://tfhub.dev/google/imagenet/mobilenet_v2_050_224/classification/5\""
   ]
  },
  {
   "cell_type": "code",
   "execution_count": 7,
   "id": "d903f78a",
   "metadata": {},
   "outputs": [],
   "source": [
    "# model \n",
    "model = Sequential([\n",
    "    #layer input\n",
    "    hub.KerasLayer(mobileNet, input_shape=(224, 224, 3), trainable=False),\n",
    "    #layer output\n",
    "    Dense(35, activation=\"softmax\")]\n",
    ")"
   ]
  },
  {
   "cell_type": "code",
   "execution_count": 8,
   "id": "443899e8",
   "metadata": {},
   "outputs": [
    {
     "name": "stdout",
     "output_type": "stream",
     "text": [
      "Model: \"sequential\"\n",
      "_________________________________________________________________\n",
      " Layer (type)                Output Shape              Param #   \n",
      "=================================================================\n",
      " keras_layer (KerasLayer)    (None, 1001)              1988505   \n",
      "                                                                 \n",
      " dense (Dense)               (None, 35)                35070     \n",
      "                                                                 \n",
      "=================================================================\n",
      "Total params: 2,023,575\n",
      "Trainable params: 35,070\n",
      "Non-trainable params: 1,988,505\n",
      "_________________________________________________________________\n"
     ]
    }
   ],
   "source": [
    "model.compile(optimizer=Adam(),\n",
    "              loss=CategoricalCrossentropy(),\n",
    "              metrics=[\"accuracy\", tf.keras.metrics.AUC(), tf.keras.metrics.Precision(), tf.keras.metrics.Recall(), tf.keras.metrics.TruePositives()])\n",
    "\n",
    "model.summary()"
   ]
  },
  {
   "cell_type": "code",
   "execution_count": 9,
   "id": "ee0fa434",
   "metadata": {},
   "outputs": [],
   "source": [
    "early = tf.keras.callbacks.EarlyStopping(patience=10, min_delta=0.001, restore_best_weights=True)"
   ]
  },
  {
   "cell_type": "code",
   "execution_count": 10,
   "id": "793a2f25",
   "metadata": {},
   "outputs": [
    {
     "name": "stdout",
     "output_type": "stream",
     "text": [
      "Epoch 1/15\n",
      "9490/9490 [==============================] - 4723s 494ms/step - loss: 0.4732 - accuracy: 0.8717 - auc: 0.9875 - precision: 0.8942 - recall: 0.8579 - true_positives: 40706.0000 - val_loss: 8.4061 - val_accuracy: 0.6129 - val_auc: 0.8362 - val_precision: 0.6185 - val_recall: 0.6095 - val_true_positives: 8728.0000\n",
      "Epoch 2/15\n",
      "9490/9490 [==============================] - 5381s 567ms/step - loss: 0.3609 - accuracy: 0.9145 - auc: 0.9886 - precision: 0.9197 - recall: 0.9115 - true_positives: 43248.0000 - val_loss: 11.0532 - val_accuracy: 0.6339 - val_auc: 0.8388 - val_precision: 0.6380 - val_recall: 0.6321 - val_true_positives: 9052.0000\n",
      "Epoch 3/15\n",
      "9490/9490 [==============================] - 5456s 575ms/step - loss: 0.3412 - accuracy: 0.9260 - auc: 0.9884 - precision: 0.9294 - recall: 0.9242 - true_positives: 43854.0000 - val_loss: 12.7334 - val_accuracy: 0.6348 - val_auc: 0.8369 - val_precision: 0.6383 - val_recall: 0.6332 - val_true_positives: 9067.0000\n",
      "Epoch 4/15\n",
      "9490/9490 [==============================] - 6199s 653ms/step - loss: 0.3191 - accuracy: 0.9311 - auc: 0.9893 - precision: 0.9342 - recall: 0.9295 - true_positives: 44102.0000 - val_loss: 13.8170 - val_accuracy: 0.6316 - val_auc: 0.8351 - val_precision: 0.6341 - val_recall: 0.6302 - val_true_positives: 9024.0000\n",
      "Epoch 5/15\n",
      "9490/9490 [==============================] - 4451s 469ms/step - loss: 0.3087 - accuracy: 0.9364 - auc: 0.9894 - precision: 0.9385 - recall: 0.9353 - true_positives: 44379.0000 - val_loss: 15.2714 - val_accuracy: 0.6244 - val_auc: 0.8308 - val_precision: 0.6267 - val_recall: 0.6226 - val_true_positives: 8916.0000\n",
      "Epoch 6/15\n",
      "9490/9490 [==============================] - 5135s 541ms/step - loss: 0.3032 - accuracy: 0.9394 - auc: 0.9896 - precision: 0.9415 - recall: 0.9383 - true_positives: 44523.0000 - val_loss: 15.3931 - val_accuracy: 0.6409 - val_auc: 0.8355 - val_precision: 0.6426 - val_recall: 0.6398 - val_true_positives: 9162.0000\n",
      "Epoch 7/15\n",
      "9490/9490 [==============================] - 10068s 1s/step - loss: 0.2987 - accuracy: 0.9414 - auc: 0.9895 - precision: 0.9435 - recall: 0.9406 - true_positives: 44631.0000 - val_loss: 16.4620 - val_accuracy: 0.6478 - val_auc: 0.8376 - val_precision: 0.6491 - val_recall: 0.6469 - val_true_positives: 9264.0000\n",
      "Epoch 8/15\n",
      "9490/9490 [==============================] - 10531s 1s/step - loss: 0.2881 - accuracy: 0.9442 - auc: 0.9898 - precision: 0.9458 - recall: 0.9432 - true_positives: 44756.0000 - val_loss: 18.0789 - val_accuracy: 0.6362 - val_auc: 0.8321 - val_precision: 0.6389 - val_recall: 0.6352 - val_true_positives: 9096.0000\n",
      "Epoch 9/15\n",
      "1143/9490 [==>...........................] - ETA: 1:42:36 - loss: 0.2746 - accuracy: 0.9468 - auc: 0.9903 - precision: 0.9482 - recall: 0.9458 - true_positives: 5405.0000"
     ]
    },
    {
     "name": "stderr",
     "output_type": "stream",
     "text": [
      "\n",
      "KeyboardInterrupt\n",
      "\n"
     ]
    }
   ],
   "source": [
    "batch_size=512\n",
    "STEP_SIZE_TRAIN = training_set.n//training_set.batch_size\n",
    "STEP_SIZE_VALID = test_set.n//test_set.batch_size\n",
    "\n",
    "# fit model\n",
    "history = model.fit(training_set, steps_per_epoch=STEP_SIZE_TRAIN,\n",
    "                    validation_data=test_set,\n",
    "                    validation_steps=STEP_SIZE_VALID,\n",
    "                    epochs=15,\n",
    "                    callbacks=[early])"
   ]
  },
  {
   "cell_type": "code",
   "execution_count": 11,
   "id": "327fcc59",
   "metadata": {},
   "outputs": [
    {
     "ename": "NameError",
     "evalue": "name 'history' is not defined",
     "output_type": "error",
     "traceback": [
      "\u001b[1;31m---------------------------------------------------------------------------\u001b[0m",
      "\u001b[1;31mNameError\u001b[0m                                 Traceback (most recent call last)",
      "Cell \u001b[1;32mIn [11], line 2\u001b[0m\n\u001b[0;32m      1\u001b[0m \u001b[38;5;28;01mfrom\u001b[39;00m \u001b[38;5;21;01mmatplotlib\u001b[39;00m \u001b[38;5;28;01mimport\u001b[39;00m pyplot\n\u001b[1;32m----> 2\u001b[0m pyplot\u001b[38;5;241m.\u001b[39mplot(\u001b[43mhistory\u001b[49m\u001b[38;5;241m.\u001b[39mhistory[\u001b[38;5;124m'\u001b[39m\u001b[38;5;124maccuracy\u001b[39m\u001b[38;5;124m'\u001b[39m])\n\u001b[0;32m      3\u001b[0m pyplot\u001b[38;5;241m.\u001b[39mshow()\n",
      "\u001b[1;31mNameError\u001b[0m: name 'history' is not defined"
     ]
    }
   ],
   "source": [
    "from matplotlib import pyplot\n",
    "pyplot.plot(history.history['accuracy'])\n",
    "pyplot.show()"
   ]
  },
  {
   "cell_type": "code",
   "execution_count": null,
   "id": "01d182a2",
   "metadata": {},
   "outputs": [],
   "source": []
  }
 ],
 "metadata": {
  "kernelspec": {
   "display_name": "Python 3",
   "language": "python",
   "name": "python3"
  },
  "language_info": {
   "codemirror_mode": {
    "name": "ipython",
    "version": 3
   },
   "file_extension": ".py",
   "mimetype": "text/x-python",
   "name": "python",
   "nbconvert_exporter": "python",
   "pygments_lexer": "ipython3",
   "version": "3.8.13"
  }
 },
 "nbformat": 4,
 "nbformat_minor": 5
}
