{
 "cells": [
  {
   "cell_type": "code",
   "execution_count": 1,
   "id": "b98725b5",
   "metadata": {},
   "outputs": [],
   "source": [
    "import tensorflow as tf\n",
    "from tensorflow.keras import Input\n",
    "from keras.layers import Input, Lambda, Dense, Flatten\n",
    "from keras.models import Model\n",
    "from keras.applications.vgg16 import VGG16\n",
    "from keras.applications.vgg16 import preprocess_input\n",
    "from keras.preprocessing import image\n",
    "from keras.preprocessing.image import ImageDataGenerator\n",
    "from keras.models import Sequential\n",
    "import numpy as np\n",
    "from glob import glob\n",
    "import matplotlib.pyplot as plt\n",
    "\n",
    "import warnings\n",
    "warnings.filterwarnings(\"ignore\", category=FutureWarning)"
   ]
  },
  {
   "cell_type": "code",
   "execution_count": 2,
   "id": "a1cdc88a",
   "metadata": {},
   "outputs": [],
   "source": [
    "IMAGE_SIZE = [224, 224]"
   ]
  },
  {
   "cell_type": "code",
   "execution_count": 3,
   "id": "9b3bb9bb",
   "metadata": {},
   "outputs": [
    {
     "name": "stdout",
     "output_type": "stream",
     "text": [
      "Found 1852 files belonging to 11 classes.\n"
     ]
    }
   ],
   "source": [
    "training_set = tf.keras.preprocessing.image_dataset_from_directory('D:/Documents/Capstone/Project -2/Dataset/Full/train',\n",
    "                                                             image_size = (224,224),\n",
    "                                                             batch_size = 16,\n",
    "                                                             label_mode = 'categorical')"
   ]
  },
  {
   "cell_type": "code",
   "execution_count": 4,
   "id": "6cc7b583",
   "metadata": {},
   "outputs": [
    {
     "name": "stdout",
     "output_type": "stream",
     "text": [
      "Found 910 files belonging to 11 classes.\n"
     ]
    }
   ],
   "source": [
    "testing_set = tf.keras.preprocessing.image_dataset_from_directory('D:/Documents/Capstone/Project -2/Dataset/Full/test',\n",
    "                                                             image_size = (224,224),\n",
    "                                                             batch_size = 16,\n",
    "                                                             label_mode = 'categorical')"
   ]
  },
  {
   "cell_type": "code",
   "execution_count": 5,
   "id": "08751911",
   "metadata": {},
   "outputs": [
    {
     "data": {
      "text/plain": [
       "<KerasTensor: shape=(None, 7, 7, 512) dtype=float32 (created by layer 'block5_pool')>"
      ]
     },
     "execution_count": 5,
     "metadata": {},
     "output_type": "execute_result"
    }
   ],
   "source": [
    "vgg = VGG16(input_shape=IMAGE_SIZE + [3], weights = 'imagenet', include_top=False)\n",
    "vgg.output"
   ]
  },
  {
   "cell_type": "code",
   "execution_count": 6,
   "id": "256429cd",
   "metadata": {},
   "outputs": [],
   "source": [
    "for layer in vgg.layers:\n",
    "    layer.trainable = False"
   ]
  },
  {
   "cell_type": "code",
   "execution_count": 7,
   "id": "40b30c63",
   "metadata": {},
   "outputs": [],
   "source": [
    "x = Flatten()(vgg.output)"
   ]
  },
  {
   "cell_type": "code",
   "execution_count": 8,
   "id": "ee320e39",
   "metadata": {},
   "outputs": [],
   "source": [
    "prediction = Dense(11, activation='softmax')(x)"
   ]
  },
  {
   "cell_type": "code",
   "execution_count": 9,
   "id": "fc17beb7",
   "metadata": {},
   "outputs": [],
   "source": [
    "model = Model(inputs=vgg.input, outputs=prediction)"
   ]
  },
  {
   "cell_type": "code",
   "execution_count": 10,
   "id": "f14b2b44",
   "metadata": {},
   "outputs": [
    {
     "name": "stdout",
     "output_type": "stream",
     "text": [
      "Model: \"model\"\n",
      "_________________________________________________________________\n",
      " Layer (type)                Output Shape              Param #   \n",
      "=================================================================\n",
      " input_1 (InputLayer)        [(None, 224, 224, 3)]     0         \n",
      "                                                                 \n",
      " block1_conv1 (Conv2D)       (None, 224, 224, 64)      1792      \n",
      "                                                                 \n",
      " block1_conv2 (Conv2D)       (None, 224, 224, 64)      36928     \n",
      "                                                                 \n",
      " block1_pool (MaxPooling2D)  (None, 112, 112, 64)      0         \n",
      "                                                                 \n",
      " block2_conv1 (Conv2D)       (None, 112, 112, 128)     73856     \n",
      "                                                                 \n",
      " block2_conv2 (Conv2D)       (None, 112, 112, 128)     147584    \n",
      "                                                                 \n",
      " block2_pool (MaxPooling2D)  (None, 56, 56, 128)       0         \n",
      "                                                                 \n",
      " block3_conv1 (Conv2D)       (None, 56, 56, 256)       295168    \n",
      "                                                                 \n",
      " block3_conv2 (Conv2D)       (None, 56, 56, 256)       590080    \n",
      "                                                                 \n",
      " block3_conv3 (Conv2D)       (None, 56, 56, 256)       590080    \n",
      "                                                                 \n",
      " block3_pool (MaxPooling2D)  (None, 28, 28, 256)       0         \n",
      "                                                                 \n",
      " block4_conv1 (Conv2D)       (None, 28, 28, 512)       1180160   \n",
      "                                                                 \n",
      " block4_conv2 (Conv2D)       (None, 28, 28, 512)       2359808   \n",
      "                                                                 \n",
      " block4_conv3 (Conv2D)       (None, 28, 28, 512)       2359808   \n",
      "                                                                 \n",
      " block4_pool (MaxPooling2D)  (None, 14, 14, 512)       0         \n",
      "                                                                 \n",
      " block5_conv1 (Conv2D)       (None, 14, 14, 512)       2359808   \n",
      "                                                                 \n",
      " block5_conv2 (Conv2D)       (None, 14, 14, 512)       2359808   \n",
      "                                                                 \n",
      " block5_conv3 (Conv2D)       (None, 14, 14, 512)       2359808   \n",
      "                                                                 \n",
      " block5_pool (MaxPooling2D)  (None, 7, 7, 512)         0         \n",
      "                                                                 \n",
      " flatten (Flatten)           (None, 25088)             0         \n",
      "                                                                 \n",
      " dense (Dense)               (None, 11)                275979    \n",
      "                                                                 \n",
      "=================================================================\n",
      "Total params: 14,990,667\n",
      "Trainable params: 275,979\n",
      "Non-trainable params: 14,714,688\n",
      "_________________________________________________________________\n"
     ]
    }
   ],
   "source": [
    "model.summary()"
   ]
  },
  {
   "cell_type": "code",
   "execution_count": 11,
   "id": "0b87b198",
   "metadata": {},
   "outputs": [
    {
     "name": "stderr",
     "output_type": "stream",
     "text": [
      "C:\\Users\\karma\\.conda\\envs\\FarmwiseAI\\lib\\site-packages\\keras\\optimizer_v2\\adam.py:105: UserWarning: The `lr` argument is deprecated, use `learning_rate` instead.\n",
      "  super(Adam, self).__init__(name, **kwargs)\n"
     ]
    }
   ],
   "source": [
    "from keras import optimizers\n",
    "from tensorflow.keras.optimizers import Adam\n",
    "\n",
    "model.compile(loss = 'categorical_crossentropy',\n",
    "             optimizer=Adam(lr=0.001),\n",
    "             metrics=['accuracy', tf.keras.metrics.AUC(), tf.keras.metrics.Precision(), tf.keras.metrics.Recall(), tf.keras.metrics.TruePositives()])"
   ]
  },
  {
   "cell_type": "code",
   "execution_count": 12,
   "id": "a49d0529",
   "metadata": {},
   "outputs": [
    {
     "name": "stdout",
     "output_type": "stream",
     "text": [
      "Epoch 1/8\n",
      "116/116 [==============================] - 878s 7s/step - loss: 11.2665 - accuracy: 0.5567 - auc: 0.7840 - precision: 0.5574 - recall: 0.5556 - true_positives: 1029.0000 - val_loss: 11.4943 - val_accuracy: 0.6429 - val_auc: 0.8260 - val_precision: 0.6429 - val_recall: 0.6429 - val_true_positives: 585.0000\n",
      "Epoch 2/8\n",
      "116/116 [==============================] - 889s 8s/step - loss: 1.8373 - accuracy: 0.8796 - auc: 0.9529 - precision: 0.8801 - recall: 0.8796 - true_positives: 1629.0000 - val_loss: 12.2123 - val_accuracy: 0.6648 - val_auc: 0.8368 - val_precision: 0.6648 - val_recall: 0.6648 - val_true_positives: 605.0000\n",
      "Epoch 3/8\n",
      "116/116 [==============================] - 886s 8s/step - loss: 0.4340 - accuracy: 0.9638 - auc: 0.9884 - precision: 0.9638 - recall: 0.9638 - true_positives: 1785.0000 - val_loss: 11.6608 - val_accuracy: 0.6824 - val_auc: 0.8495 - val_precision: 0.6832 - val_recall: 0.6824 - val_true_positives: 621.0000\n",
      "Epoch 4/8\n",
      "116/116 [==============================] - 881s 8s/step - loss: 0.4665 - accuracy: 0.9660 - auc: 0.9878 - precision: 0.9660 - recall: 0.9660 - true_positives: 1789.0000 - val_loss: 11.7372 - val_accuracy: 0.6901 - val_auc: 0.8506 - val_precision: 0.6916 - val_recall: 0.6901 - val_true_positives: 628.0000\n",
      "Epoch 5/8\n",
      "116/116 [==============================] - 876s 7s/step - loss: 0.2668 - accuracy: 0.9757 - auc: 0.9920 - precision: 0.9757 - recall: 0.9757 - true_positives: 1807.0000 - val_loss: 12.9727 - val_accuracy: 0.6945 - val_auc: 0.8468 - val_precision: 0.6960 - val_recall: 0.6945 - val_true_positives: 632.0000\n",
      "Epoch 6/8\n",
      "116/116 [==============================] - 879s 8s/step - loss: 0.2522 - accuracy: 0.9735 - auc: 0.9917 - precision: 0.9735 - recall: 0.9735 - true_positives: 1803.0000 - val_loss: 12.9679 - val_accuracy: 0.6956 - val_auc: 0.8524 - val_precision: 0.6956 - val_recall: 0.6956 - val_true_positives: 633.0000\n",
      "Epoch 7/8\n",
      "116/116 [==============================] - 871s 7s/step - loss: 0.2102 - accuracy: 0.9800 - auc: 0.9934 - precision: 0.9800 - recall: 0.9800 - true_positives: 1815.0000 - val_loss: 14.8065 - val_accuracy: 0.6912 - val_auc: 0.8444 - val_precision: 0.6912 - val_recall: 0.6912 - val_true_positives: 629.0000\n",
      "Epoch 8/8\n",
      "116/116 [==============================] - 875s 7s/step - loss: 0.0731 - accuracy: 0.9903 - auc: 0.9973 - precision: 0.9903 - recall: 0.9903 - true_positives: 1834.0000 - val_loss: 13.0022 - val_accuracy: 0.7033 - val_auc: 0.8537 - val_precision: 0.7048 - val_recall: 0.7033 - val_true_positives: 640.0000\n"
     ]
    }
   ],
   "source": [
    "epochs = 8\n",
    "model_history = model.fit(training_set, \n",
    "                          validation_data=testing_set, \n",
    "                          epochs = epochs)"
   ]
  },
  {
   "cell_type": "code",
   "execution_count": 13,
   "id": "0f2ce1b9",
   "metadata": {},
   "outputs": [
    {
     "data": {
      "image/png": "[encoded data removed]",
      "text/plain": [
       "<Figure size 432x288 with 1 Axes>"
      ]
     },
     "metadata": {
      "needs_background": "light"
     },
     "output_type": "display_data"
    }
   ],
   "source": [
    "from matplotlib import pyplot\n",
    "pyplot.plot(model_history.history['accuracy'])\n",
    "pyplot.show()"
   ]
  },
  {
   "cell_type": "code",
   "execution_count": null,
   "id": "70c7d32e-4093-44a9-a867-d54b89e3453a",
   "metadata": {},
   "outputs": [],
   "source": []
  }
 ],
 "metadata": {
  "kernelspec": {
   "display_name": "Python 3",
   "language": "python",
   "name": "python3"
  },
  "language_info": {
   "codemirror_mode": {
    "name": "ipython",
    "version": 3
   },
   "file_extension": ".py",
   "mimetype": "text/x-python",
   "name": "python",
   "nbconvert_exporter": "python",
   "pygments_lexer": "ipython3",
   "version": "3.8.13"
  }
 },
 "nbformat": 4,
 "nbformat_minor": 5
}
