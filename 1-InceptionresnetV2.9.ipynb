{
 "cells": [
  {
   "cell_type": "code",
   "execution_count": 1,
   "id": "c1df2f76",
   "metadata": {},
   "outputs": [],
   "source": [
    "import numpy as np\n",
    "import pandas as pd\n",
    "import matplotlib.pyplot as plt\n",
    "\n",
    "from sklearn.metrics import classification_report, confusion_matrix\n",
    "\n",
    "import tensorflow as tf\n",
    "import keras\n",
    "from keras.preprocessing.image import ImageDataGenerator\n",
    "from tensorflow.keras import applications\n",
    "from keras.models import Sequential, load_model\n",
    "from keras.layers import Conv2D, MaxPooling2D, GlobalAveragePooling2D, Flatten, Dense, Dropout\n",
    "from keras.preprocessing import image\n",
    "\n",
    "import warnings\n",
    "warnings.filterwarnings('ignore')"
   ]
  },
  {
   "cell_type": "code",
   "execution_count": 2,
   "id": "0b58afc6",
   "metadata": {},
   "outputs": [],
   "source": [
    "# pip install seaborn"
   ]
  },
  {
   "cell_type": "code",
   "execution_count": 3,
   "id": "4041fd8f",
   "metadata": {},
   "outputs": [],
   "source": [
    "train_image='D:/Documents/Capstone/Project -2/Dataset/Full/train'"
   ]
  },
  {
   "cell_type": "code",
   "execution_count": 4,
   "id": "08da291f",
   "metadata": {},
   "outputs": [],
   "source": [
    "train_datagen=ImageDataGenerator(rescale=1./255,\n",
    "                                 zoom_range=0.2,\n",
    "                                 shear_range=0.1,\n",
    "                                vertical_flip=False)"
   ]
  },
  {
   "cell_type": "code",
   "execution_count": 5,
   "id": "8873babd",
   "metadata": {},
   "outputs": [
    {
     "name": "stdout",
     "output_type": "stream",
     "text": [
      "Found 1852 images belonging to 11 classes.\n"
     ]
    }
   ],
   "source": [
    "training_set=train_datagen.flow_from_directory(train_image,\n",
    "                                              target_size=(224,224),\n",
    "                                              class_mode='categorical',\n",
    "                                              batch_size=5)\n"
   ]
  },
  {
   "cell_type": "code",
   "execution_count": 6,
   "id": "999eacfc",
   "metadata": {},
   "outputs": [
    {
     "name": "stdout",
     "output_type": "stream",
     "text": [
      "Found 910 images belonging to 11 classes.\n"
     ]
    }
   ],
   "source": [
    "test_datagen = ImageDataGenerator(rescale = 1./255,\n",
    "                                 zoom_range=0.2)\n",
    "\n",
    "test_set=train_datagen.flow_from_directory('D:/Documents/Capstone/Project -2/Dataset/Full/test',\n",
    "                                              target_size=(224,224),\n",
    "                                              class_mode='categorical',\n",
    "                                              batch_size=5)"
   ]
  },
  {
   "cell_type": "code",
   "execution_count": 7,
   "id": "e83f23ad",
   "metadata": {},
   "outputs": [],
   "source": [
    "base_model = tf.keras.applications.InceptionResNetV2(\n",
    "                     include_top=False,\n",
    "                     weights='imagenet',\n",
    "                     input_shape=(224,224,3)\n",
    "                     )\n",
    " \n",
    "base_model.trainable=False\n",
    " \n",
    "model = tf.keras.Sequential([\n",
    "        base_model,  \n",
    "        tf.keras.layers.BatchNormalization(renorm=True),\n",
    "        tf.keras.layers.GlobalAveragePooling2D(),\n",
    "        tf.keras.layers.Dense(512, activation='relu'),\n",
    "        tf.keras.layers.Dense(256, activation='relu'),\n",
    "        tf.keras.layers.Dense(256, activation='relu'),\n",
    "        tf.keras.layers.Dropout(0.5),\n",
    "        tf.keras.layers.Dense(128, activation='relu'),\n",
    "        tf.keras.layers.Dense(128, activation='relu'),\n",
    "        tf.keras.layers.Dense(11, activation='softmax')\n",
    "    ])"
   ]
  },
  {
   "cell_type": "code",
   "execution_count": 8,
   "id": "d0f5c624",
   "metadata": {},
   "outputs": [],
   "source": [
    "model.compile(optimizer='Adam',loss='categorical_crossentropy',metrics=['accuracy', tf.keras.metrics.AUC(), tf.keras.metrics.Precision(), tf.keras.metrics.Recall(), tf.keras.metrics.TruePositives()])"
   ]
  },
  {
   "cell_type": "code",
   "execution_count": 9,
   "id": "2cb3a572",
   "metadata": {},
   "outputs": [
    {
     "name": "stdout",
     "output_type": "stream",
     "text": [
      "Model: \"sequential\"\n",
      "_________________________________________________________________\n",
      " Layer (type)                Output Shape              Param #   \n",
      "=================================================================\n",
      " inception_resnet_v2 (Functi  (None, 5, 5, 1536)       54336736  \n",
      " onal)                                                           \n",
      "                                                                 \n",
      " batch_normalization_203 (Ba  (None, 5, 5, 1536)       10752     \n",
      " tchNormalization)                                               \n",
      "                                                                 \n",
      " global_average_pooling2d (G  (None, 1536)             0         \n",
      " lobalAveragePooling2D)                                          \n",
      "                                                                 \n",
      " dense (Dense)               (None, 512)               786944    \n",
      "                                                                 \n",
      " dense_1 (Dense)             (None, 256)               131328    \n",
      "                                                                 \n",
      " dense_2 (Dense)             (None, 256)               65792     \n",
      "                                                                 \n",
      " dropout (Dropout)           (None, 256)               0         \n",
      "                                                                 \n",
      " dense_3 (Dense)             (None, 128)               32896     \n",
      "                                                                 \n",
      " dense_4 (Dense)             (None, 128)               16512     \n",
      "                                                                 \n",
      " dense_5 (Dense)             (None, 11)                1419      \n",
      "                                                                 \n",
      "=================================================================\n",
      "Total params: 55,382,379\n",
      "Trainable params: 1,037,963\n",
      "Non-trainable params: 54,344,416\n",
      "_________________________________________________________________\n"
     ]
    }
   ],
   "source": [
    "model.summary()"
   ]
  },
  {
   "cell_type": "code",
   "execution_count": 10,
   "id": "fd77bb5b",
   "metadata": {},
   "outputs": [],
   "source": [
    "early = tf.keras.callbacks.EarlyStopping(patience=10, min_delta=0.001, restore_best_weights=True)"
   ]
  },
  {
   "cell_type": "code",
   "execution_count": 11,
   "id": "0c54cc72",
   "metadata": {},
   "outputs": [
    {
     "name": "stdout",
     "output_type": "stream",
     "text": [
      "Epoch 1/10\n",
      "370/370 [==============================] - 1489s 4s/step - loss: 1.6588 - accuracy: 0.4478 - auc: 0.8503 - precision: 0.6878 - recall: 0.2588 - true_positives: 478.0000 - val_loss: 1.6022 - val_accuracy: 0.4341 - val_auc: 0.8579 - val_precision: 0.6644 - val_recall: 0.3154 - val_true_positives: 287.0000\n",
      "Epoch 2/10\n",
      "370/370 [==============================] - 1480s 4s/step - loss: 1.2341 - accuracy: 0.5923 - auc: 0.9191 - precision: 0.7791 - recall: 0.4640 - true_positives: 857.0000 - val_loss: 1.4572 - val_accuracy: 0.5813 - val_auc: 0.8873 - val_precision: 0.7321 - val_recall: 0.3813 - val_true_positives: 347.0000\n",
      "Epoch 3/10\n",
      "370/370 [==============================] - 1506s 4s/step - loss: 1.0837 - accuracy: 0.6670 - auc: 0.9364 - precision: 0.8128 - recall: 0.5382 - true_positives: 994.0000 - val_loss: 1.1798 - val_accuracy: 0.6516 - val_auc: 0.9203 - val_precision: 0.8820 - val_recall: 0.4846 - val_true_positives: 441.0000\n",
      "Epoch 4/10\n",
      "370/370 [==============================] - 1534s 4s/step - loss: 0.9476 - accuracy: 0.7049 - auc: 0.9516 - precision: 0.8244 - recall: 0.5896 - true_positives: 1089.0000 - val_loss: 1.1106 - val_accuracy: 0.6516 - val_auc: 0.9311 - val_precision: 0.8170 - val_recall: 0.5692 - val_true_positives: 518.0000\n",
      "Epoch 5/10\n",
      "370/370 [==============================] - 1507s 4s/step - loss: 0.7901 - accuracy: 0.7493 - auc: 0.9650 - precision: 0.8539 - recall: 0.6616 - true_positives: 1222.0000 - val_loss: 1.0142 - val_accuracy: 0.7044 - val_auc: 0.9424 - val_precision: 0.8504 - val_recall: 0.5934 - val_true_positives: 540.0000\n",
      "Epoch 6/10\n",
      "370/370 [==============================] - 1459s 4s/step - loss: 0.7950 - accuracy: 0.7591 - auc: 0.9650 - precision: 0.8539 - recall: 0.6676 - true_positives: 1233.0000 - val_loss: 1.0482 - val_accuracy: 0.6945 - val_auc: 0.9408 - val_precision: 0.7914 - val_recall: 0.6297 - val_true_positives: 573.0000\n",
      "Epoch 7/10\n",
      "370/370 [==============================] - 1486s 4s/step - loss: 0.7455 - accuracy: 0.7710 - auc: 0.9674 - precision: 0.8592 - recall: 0.6903 - true_positives: 1275.0000 - val_loss: 0.8600 - val_accuracy: 0.7297 - val_auc: 0.9591 - val_precision: 0.8384 - val_recall: 0.6385 - val_true_positives: 581.0000\n",
      "Epoch 8/10\n",
      "370/370 [==============================] - 1514s 4s/step - loss: 0.7045 - accuracy: 0.7948 - auc: 0.9714 - precision: 0.8675 - recall: 0.7087 - true_positives: 1309.0000 - val_loss: 0.9492 - val_accuracy: 0.7110 - val_auc: 0.9491 - val_precision: 0.8155 - val_recall: 0.6363 - val_true_positives: 579.0000\n",
      "Epoch 9/10\n",
      "370/370 [==============================] - 1517s 4s/step - loss: 0.6092 - accuracy: 0.8186 - auc: 0.9782 - precision: 0.8898 - recall: 0.7520 - true_positives: 1389.0000 - val_loss: 0.9713 - val_accuracy: 0.7319 - val_auc: 0.9481 - val_precision: 0.8431 - val_recall: 0.6670 - val_true_positives: 607.0000\n",
      "Epoch 10/10\n",
      "370/370 [==============================] - 1458s 4s/step - loss: 0.5544 - accuracy: 0.8278 - auc: 0.9817 - precision: 0.8973 - recall: 0.7661 - true_positives: 1415.0000 - val_loss: 1.0862 - val_accuracy: 0.7308 - val_auc: 0.9451 - val_precision: 0.8156 - val_recall: 0.6758 - val_true_positives: 615.0000\n"
     ]
    }
   ],
   "source": [
    "batch_size=32\n",
    "STEP_SIZE_TRAIN = training_set.n//training_set.batch_size\n",
    "STEP_SIZE_VALID = test_set.n//test_set.batch_size\n",
    "\n",
    "# fit model\n",
    "history = model.fit(training_set, steps_per_epoch=STEP_SIZE_TRAIN,\n",
    "                    validation_data=test_set,\n",
    "                    validation_steps=STEP_SIZE_VALID,\n",
    "                    epochs=10,\n",
    "                    callbacks=[early])"
   ]
  },
  {
   "cell_type": "code",
   "execution_count": 12,
   "id": "17a06aae",
   "metadata": {},
   "outputs": [
    {
     "data": {
      "image/png": "[encoded data removed]",
      "text/plain": [
       "<Figure size 432x288 with 1 Axes>"
      ]
     },
     "metadata": {
      "needs_background": "light"
     },
     "output_type": "display_data"
    }
   ],
   "source": [
    "from matplotlib import pyplot\n",
    "pyplot.plot(history.history['accuracy'])\n",
    "pyplot.show()"
   ]
  },
  {
   "cell_type": "code",
   "execution_count": null,
   "id": "ef29eff9-ea7d-4b30-919a-b9d1d3afd05b",
   "metadata": {},
   "outputs": [],
   "source": []
  }
 ],
 "metadata": {
  "kernelspec": {
   "display_name": "Python 3",
   "language": "python",
   "name": "python3"
  },
  "language_info": {
   "codemirror_mode": {
    "name": "ipython",
    "version": 3
   },
   "file_extension": ".py",
   "mimetype": "text/x-python",
   "name": "python",
   "nbconvert_exporter": "python",
   "pygments_lexer": "ipython3",
   "version": "3.8.13"
  }
 },
 "nbformat": 4,
 "nbformat_minor": 5
}
