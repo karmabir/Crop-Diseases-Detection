{
 "cells": [
  {
   "cell_type": "code",
   "execution_count": 1,
   "id": "c5ef5296",
   "metadata": {},
   "outputs": [],
   "source": [
    "import numpy as np\n",
    "import pandas as pd\n",
    "import matplotlib.pyplot as plt\n",
    "\n",
    "from sklearn.metrics import classification_report, confusion_matrix\n",
    "\n",
    "import tensorflow as tf\n",
    "import keras\n",
    "from keras.preprocessing.image import ImageDataGenerator\n",
    "from tensorflow.keras import applications\n",
    "from keras.models import Sequential, load_model\n",
    "from keras.layers import Conv2D, MaxPooling2D, GlobalAveragePooling2D, Flatten, Dense, Dropout\n",
    "from keras.preprocessing import image\n",
    "\n",
    "import warnings\n",
    "warnings.filterwarnings('ignore')"
   ]
  },
  {
   "cell_type": "code",
   "execution_count": 2,
   "id": "802c7b77",
   "metadata": {},
   "outputs": [],
   "source": [
    "train_image='D:/Documents/Capstone/Project -2/Dataset/brown_spot_Vs_non-brown_spot/train'"
   ]
  },
  {
   "cell_type": "code",
   "execution_count": 3,
   "id": "5aa49788",
   "metadata": {},
   "outputs": [
    {
     "name": "stdout",
     "output_type": "stream",
     "text": [
      "Found 4042 images belonging to 2 classes.\n"
     ]
    }
   ],
   "source": [
    "train_datagen=ImageDataGenerator(rescale=1./255,\n",
    "                                 zoom_range=0.2,\n",
    "                                 shear_range=0.1,\n",
    "                                vertical_flip=False)\n",
    "training_set=train_datagen.flow_from_directory(train_image,\n",
    "                                              target_size=(224,224),\n",
    "                                              class_mode='categorical',\n",
    "                                              batch_size=5)"
   ]
  },
  {
   "cell_type": "code",
   "execution_count": 4,
   "id": "c22b9e85",
   "metadata": {},
   "outputs": [
    {
     "name": "stdout",
     "output_type": "stream",
     "text": [
      "Found 512 images belonging to 2 classes.\n"
     ]
    }
   ],
   "source": [
    "test_datagen = ImageDataGenerator(rescale = 1./255,\n",
    "                                 zoom_range=0.2)\n",
    "\n",
    "test_set=train_datagen.flow_from_directory('D:/Documents/Capstone/Project -2/Dataset/brown_spot_Vs_non-brown_spot/test',\n",
    "                                              target_size=(224,224),\n",
    "                                              class_mode='categorical',\n",
    "                                              batch_size=5)"
   ]
  },
  {
   "cell_type": "code",
   "execution_count": 5,
   "id": "8d11527c",
   "metadata": {},
   "outputs": [
    {
     "name": "stdout",
     "output_type": "stream",
     "text": [
      "Model: \"sequential\"\n",
      "_________________________________________________________________\n",
      " Layer (type)                Output Shape              Param #   \n",
      "=================================================================\n",
      " inception_resnet_v2 (Functi  (None, 5, 5, 1536)       54336736  \n",
      " onal)                                                           \n",
      "                                                                 \n",
      " batch_normalization_203 (Ba  (None, 5, 5, 1536)       10752     \n",
      " tchNormalization)                                               \n",
      "                                                                 \n",
      " global_average_pooling2d (G  (None, 1536)             0         \n",
      " lobalAveragePooling2D)                                          \n",
      "                                                                 \n",
      " dense (Dense)               (None, 2)                 3074      \n",
      "                                                                 \n",
      "=================================================================\n",
      "Total params: 54,350,562\n",
      "Trainable params: 6,146\n",
      "Non-trainable params: 54,344,416\n",
      "_________________________________________________________________\n",
      "Epoch 1/10\n",
      "808/808 [==============================] - 4635s 6s/step - loss: 0.4117 - accuracy: 0.8075 - val_loss: 0.2986 - val_accuracy: 0.8451\n",
      "Epoch 2/10\n",
      "808/808 [==============================] - 4233s 5s/step - loss: 0.3057 - accuracy: 0.8687 - val_loss: 0.3277 - val_accuracy: 0.8608\n",
      "Epoch 3/10\n",
      "808/808 [==============================] - 3497s 4s/step - loss: 0.2792 - accuracy: 0.8833 - val_loss: 0.2559 - val_accuracy: 0.8882\n",
      "Epoch 4/10\n",
      "808/808 [==============================] - 3474s 4s/step - loss: 0.2744 - accuracy: 0.8836 - val_loss: 0.2530 - val_accuracy: 0.8980\n",
      "Epoch 5/10\n",
      "808/808 [==============================] - 2925s 4s/step - loss: 0.2509 - accuracy: 0.8950 - val_loss: 0.2555 - val_accuracy: 0.8922\n",
      "Epoch 6/10\n",
      "808/808 [==============================] - 2250s 3s/step - loss: 0.2426 - accuracy: 0.8957 - val_loss: 0.2347 - val_accuracy: 0.9118\n",
      "Epoch 7/10\n",
      "808/808 [==============================] - 2104s 3s/step - loss: 0.2224 - accuracy: 0.9046 - val_loss: 0.2325 - val_accuracy: 0.8941\n",
      "Epoch 8/10\n",
      "808/808 [==============================] - 1783s 2s/step - loss: 0.2368 - accuracy: 0.9054 - val_loss: 0.2053 - val_accuracy: 0.9176\n",
      "Epoch 9/10\n",
      "808/808 [==============================] - 1789s 2s/step - loss: 0.2370 - accuracy: 0.8999 - val_loss: 0.2631 - val_accuracy: 0.8745\n",
      "Epoch 10/10\n",
      "808/808 [==============================] - 1786s 2s/step - loss: 0.2242 - accuracy: 0.9069 - val_loss: 0.2188 - val_accuracy: 0.9059\n"
     ]
    }
   ],
   "source": [
    "base_model = tf.keras.applications.InceptionResNetV2(\n",
    "                     include_top=False,\n",
    "                     weights='imagenet',\n",
    "                     input_shape=(224,224,3)\n",
    "                     )\n",
    " \n",
    "base_model.trainable=False\n",
    " \n",
    "model = tf.keras.Sequential([\n",
    "        base_model,  \n",
    "        tf.keras.layers.BatchNormalization(renorm=True),\n",
    "        tf.keras.layers.GlobalAveragePooling2D(),\n",
    "        tf.keras.layers.Dense(2, activation='softmax')\n",
    "    ])\n",
    "model.compile(optimizer='Adam',loss='categorical_crossentropy',metrics=['accuracy'])\n",
    "model.summary()\n",
    "early = tf.keras.callbacks.EarlyStopping(patience=10, min_delta=0.001, restore_best_weights=True)\n",
    "batch_size=32\n",
    "STEP_SIZE_TRAIN = training_set.n//training_set.batch_size\n",
    "STEP_SIZE_VALID = test_set.n//test_set.batch_size\n",
    "\n",
    "# fit model\n",
    "history = model.fit(training_set, steps_per_epoch=STEP_SIZE_TRAIN,\n",
    "                    validation_data=test_set,\n",
    "                    validation_steps=STEP_SIZE_VALID,\n",
    "                    epochs=10,\n",
    "                    callbacks=[early])"
   ]
  },
  {
   "cell_type": "code",
   "execution_count": null,
   "id": "b0cf9c84",
   "metadata": {},
   "outputs": [],
   "source": []
  }
 ],
 "metadata": {
  "kernelspec": {
   "display_name": "Python 3 (ipykernel)",
   "language": "python",
   "name": "python3"
  },
  "language_info": {
   "codemirror_mode": {
    "name": "ipython",
    "version": 3
   },
   "file_extension": ".py",
   "mimetype": "text/x-python",
   "name": "python",
   "nbconvert_exporter": "python",
   "pygments_lexer": "ipython3",
   "version": "3.8.13"
  }
 },
 "nbformat": 4,
 "nbformat_minor": 5
}
