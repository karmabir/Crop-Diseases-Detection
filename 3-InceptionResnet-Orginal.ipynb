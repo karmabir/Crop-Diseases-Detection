{
 "cells": [
  {
   "cell_type": "code",
   "execution_count": 1,
   "id": "9d81856e-0c70-44b4-8980-203aabc42780",
   "metadata": {},
   "outputs": [],
   "source": [
    "import numpy as np\n",
    "import pandas as pd\n",
    "import matplotlib.pyplot as plt\n",
    "\n",
    "from sklearn.metrics import classification_report, confusion_matrix\n",
    "\n",
    "import tensorflow as tf\n",
    "import keras\n",
    "from keras.preprocessing.image import ImageDataGenerator\n",
    "from tensorflow.keras import applications\n",
    "from keras.models import Sequential, load_model\n",
    "from keras.layers import Conv2D, MaxPooling2D, GlobalAveragePooling2D, Flatten, Dense, Dropout\n",
    "from keras.preprocessing import image\n",
    "\n",
    "import warnings\n",
    "warnings.filterwarnings('ignore')"
   ]
  },
  {
   "cell_type": "code",
   "execution_count": 2,
   "id": "70ad8a3d-4dac-44e7-90ec-44c27666e0f3",
   "metadata": {},
   "outputs": [],
   "source": [
    "train_image='D:/Documents/Capstone/Project -2/New Bangladeshi/BangladeshiCrops/BangladeshiCrops/Train'"
   ]
  },
  {
   "cell_type": "code",
   "execution_count": 3,
   "id": "d5a6fbc4-08db-4040-a5b1-ea4babb2e983",
   "metadata": {},
   "outputs": [
    {
     "name": "stdout",
     "output_type": "stream",
     "text": [
      "Found 10554 images belonging to 14 classes.\n"
     ]
    }
   ],
   "source": [
    "train_datagen=ImageDataGenerator(rescale=1./255,\n",
    "                                 zoom_range=0.2,\n",
    "                                 shear_range=0.1,\n",
    "                                vertical_flip=False)\n",
    "training_set=train_datagen.flow_from_directory(train_image,\n",
    "                                              target_size=(224,224),\n",
    "                                              class_mode='categorical',\n",
    "                                              batch_size=256)"
   ]
  },
  {
   "cell_type": "code",
   "execution_count": 4,
   "id": "7e7e83fb-b296-4773-af64-03a4536d27ff",
   "metadata": {},
   "outputs": [
    {
     "name": "stdout",
     "output_type": "stream",
     "text": [
      "Found 2470 images belonging to 14 classes.\n"
     ]
    }
   ],
   "source": [
    "test_datagen = ImageDataGenerator(rescale = 1./255,\n",
    "                                 zoom_range=0.2)\n",
    "\n",
    "test_set=test_datagen.flow_from_directory('D:/Documents/Capstone/Project -2/New Bangladeshi/BangladeshiCrops/BangladeshiCrops/Test',\n",
    "                                              target_size=(224,224),\n",
    "                                              class_mode='categorical',\n",
    "                                              batch_size=256)"
   ]
  },
  {
   "cell_type": "code",
   "execution_count": 5,
   "id": "e3329dda-235d-473f-bb73-49d2924817c6",
   "metadata": {},
   "outputs": [],
   "source": [
    "base_model = tf.keras.applications.InceptionResNetV2(\n",
    "                     include_top=False,\n",
    "                     weights='imagenet',\n",
    "                     input_shape=(224,224,3)\n",
    "                     )\n",
    " \n",
    "base_model.trainable=False\n",
    "model = tf.keras.Sequential([\n",
    "        base_model,\n",
    "        tf.keras.layers.BatchNormalization(renorm=True),\n",
    "        tf.keras.layers.GlobalAveragePooling2D(),\n",
    "        tf.keras.layers.Dense(14, activation='softmax')\n",
    "    ])"
   ]
  },
  {
   "cell_type": "code",
   "execution_count": 6,
   "id": "28e81e3d-522e-441b-a40f-363d3ed6e93e",
   "metadata": {},
   "outputs": [],
   "source": [
    "model.compile(optimizer='Adam',loss='categorical_crossentropy',metrics=['accuracy', tf.keras.metrics.AUC(), tf.keras.metrics.Precision(), tf.keras.metrics.Recall(), tf.keras.metrics.TruePositives()])"
   ]
  },
  {
   "cell_type": "code",
   "execution_count": 7,
   "id": "e212b14c-001c-4d66-839d-9b4895454d3a",
   "metadata": {},
   "outputs": [
    {
     "name": "stdout",
     "output_type": "stream",
     "text": [
      "Model: \"sequential\"\n",
      "_________________________________________________________________\n",
      " Layer (type)                Output Shape              Param #   \n",
      "=================================================================\n",
      " inception_resnet_v2 (Functi  (None, 5, 5, 1536)       54336736  \n",
      " onal)                                                           \n",
      "                                                                 \n",
      " batch_normalization_203 (Ba  (None, 5, 5, 1536)       10752     \n",
      " tchNormalization)                                               \n",
      "                                                                 \n",
      " global_average_pooling2d (G  (None, 1536)             0         \n",
      " lobalAveragePooling2D)                                          \n",
      "                                                                 \n",
      " dense (Dense)               (None, 14)                21518     \n",
      "                                                                 \n",
      "=================================================================\n",
      "Total params: 54,369,006\n",
      "Trainable params: 24,590\n",
      "Non-trainable params: 54,344,416\n",
      "_________________________________________________________________\n"
     ]
    }
   ],
   "source": [
    "model.summary()"
   ]
  },
  {
   "cell_type": "code",
   "execution_count": 8,
   "id": "dfdb36bb-af98-49cc-8180-0d686078913c",
   "metadata": {},
   "outputs": [],
   "source": [
    "early = tf.keras.callbacks.EarlyStopping(patience=10, min_delta=0.001, restore_best_weights=True)"
   ]
  },
  {
   "cell_type": "code",
   "execution_count": 9,
   "id": "f4a52695-0377-444c-b197-0f24fb6c3345",
   "metadata": {},
   "outputs": [
    {
     "name": "stdout",
     "output_type": "stream",
     "text": [
      "Epoch 1/8\n",
      "41/41 [==============================] - 2014s 49s/step - loss: 1.0699 - accuracy: 0.6467 - auc: 0.9587 - precision: 0.8374 - recall: 0.4445 - true_positives: 4577.0000 - val_loss: 0.6026 - val_accuracy: 0.7808 - val_auc: 0.9868 - val_precision: 0.8595 - val_recall: 0.6984 - val_true_positives: 1609.0000\n",
      "Epoch 2/8\n",
      "41/41 [==============================] - 2132s 52s/step - loss: 0.4659 - accuracy: 0.8365 - auc: 0.9927 - precision: 0.8869 - recall: 0.7702 - true_positives: 7932.0000 - val_loss: 0.5034 - val_accuracy: 0.8199 - val_auc: 0.9896 - val_precision: 0.8689 - val_recall: 0.7652 - val_true_positives: 1763.0000\n",
      "Epoch 3/8\n",
      "41/41 [==============================] - 2064s 50s/step - loss: 0.3749 - accuracy: 0.8679 - auc: 0.9951 - precision: 0.8969 - recall: 0.8256 - true_positives: 8502.0000 - val_loss: 0.4543 - val_accuracy: 0.8307 - val_auc: 0.9914 - val_precision: 0.8800 - val_recall: 0.7860 - val_true_positives: 1811.0000\n",
      "Epoch 4/8\n",
      "41/41 [==============================] - 2004s 49s/step - loss: 0.3265 - accuracy: 0.8863 - auc: 0.9961 - precision: 0.9121 - recall: 0.8541 - true_positives: 8796.0000 - val_loss: 0.4223 - val_accuracy: 0.8520 - val_auc: 0.9916 - val_precision: 0.8891 - val_recall: 0.8212 - val_true_positives: 1892.0000\n",
      "Epoch 5/8\n",
      "41/41 [==============================] - 1900s 46s/step - loss: 0.2956 - accuracy: 0.8946 - auc: 0.9968 - precision: 0.9145 - recall: 0.8686 - true_positives: 8945.0000 - val_loss: 0.4292 - val_accuracy: 0.8429 - val_auc: 0.9913 - val_precision: 0.8745 - val_recall: 0.8164 - val_true_positives: 1881.0000\n",
      "Epoch 6/8\n",
      "41/41 [==============================] - 1845s 45s/step - loss: 0.2778 - accuracy: 0.9016 - auc: 0.9971 - precision: 0.9185 - recall: 0.8804 - true_positives: 9066.0000 - val_loss: 0.4151 - val_accuracy: 0.8446 - val_auc: 0.9916 - val_precision: 0.8730 - val_recall: 0.8264 - val_true_positives: 1904.0000\n",
      "Epoch 7/8\n",
      "41/41 [==============================] - 1838s 45s/step - loss: 0.2585 - accuracy: 0.9104 - auc: 0.9975 - precision: 0.9228 - recall: 0.8900 - true_positives: 9165.0000 - val_loss: 0.4207 - val_accuracy: 0.8529 - val_auc: 0.9903 - val_precision: 0.8731 - val_recall: 0.8359 - val_true_positives: 1926.0000\n",
      "Epoch 8/8\n",
      "41/41 [==============================] - 1903s 46s/step - loss: 0.2466 - accuracy: 0.9151 - auc: 0.9977 - precision: 0.9278 - recall: 0.8962 - true_positives: 9229.0000 - val_loss: 0.4158 - val_accuracy: 0.8507 - val_auc: 0.9914 - val_precision: 0.8695 - val_recall: 0.8303 - val_true_positives: 1913.0000\n"
     ]
    }
   ],
   "source": [
    "batch_size=512\n",
    "STEP_SIZE_TRAIN = training_set.n//training_set.batch_size\n",
    "STEP_SIZE_VALID = test_set.n//test_set.batch_size\n",
    "\n",
    "# fit model\n",
    "history = model.fit(training_set, steps_per_epoch=STEP_SIZE_TRAIN,\n",
    "                    validation_data=test_set,\n",
    "                    validation_steps=STEP_SIZE_VALID,\n",
    "                    epochs=8,\n",
    "                    callbacks=[early])"
   ]
  },
  {
   "cell_type": "code",
   "execution_count": 10,
   "id": "42f1af5e-fca4-4f55-bb58-798711d5570e",
   "metadata": {},
   "outputs": [
    {
     "data": {
      "image/png": "[encoded data removed]",
      "text/plain": [
       "<Figure size 432x288 with 1 Axes>"
      ]
     },
     "metadata": {
      "needs_background": "light"
     },
     "output_type": "display_data"
    }
   ],
   "source": [
    "from matplotlib import pyplot\n",
    "pyplot.plot(history.history['accuracy'])\n",
    "pyplot.show()"
   ]
  },
  {
   "cell_type": "code",
   "execution_count": null,
   "id": "7acb3d3d-1573-41a1-80a8-318ac836ca5c",
   "metadata": {},
   "outputs": [],
   "source": []
  }
 ],
 "metadata": {
  "kernelspec": {
   "display_name": "Python 3",
   "language": "python",
   "name": "python3"
  },
  "language_info": {
   "codemirror_mode": {
    "name": "ipython",
    "version": 3
   },
   "file_extension": ".py",
   "mimetype": "text/x-python",
   "name": "python",
   "nbconvert_exporter": "python",
   "pygments_lexer": "ipython3",
   "version": "3.8.13"
  }
 },
 "nbformat": 4,
 "nbformat_minor": 5
}
