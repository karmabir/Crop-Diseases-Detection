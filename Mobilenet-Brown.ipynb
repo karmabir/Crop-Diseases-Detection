{
 "cells": [
  {
   "cell_type": "code",
   "execution_count": 1,
   "id": "5d53ecfb",
   "metadata": {},
   "outputs": [],
   "source": [
    "import tensorflow as tf\n",
    "from tensorflow.keras.preprocessing.image import ImageDataGenerator\n",
    "import os\n",
    "import tensorflow_hub as hub\n",
    "from tensorflow.keras.models import Sequential\n",
    "from tensorflow.keras.layers import Dense\n",
    "from tensorflow.keras.optimizers import Adam\n",
    "from tensorflow.keras.losses import CategoricalCrossentropy\n",
    "import tensorboard\n",
    "from keras.callbacks import Callback, TensorBoard\n",
    "import time\n",
    "import numpy as np\n",
    "import matplotlib.pyplot as plt"
   ]
  },
  {
   "cell_type": "code",
   "execution_count": 2,
   "id": "01737f06",
   "metadata": {},
   "outputs": [],
   "source": [
    "train_image='D:/Documents/Capstone/Project -2/Dataset/brown_spot_Vs_non-brown_spot/train'"
   ]
  },
  {
   "cell_type": "code",
   "execution_count": 3,
   "id": "fd7656a4",
   "metadata": {},
   "outputs": [
    {
     "name": "stdout",
     "output_type": "stream",
     "text": [
      "Found 4042 images belonging to 2 classes.\n"
     ]
    }
   ],
   "source": [
    "train_datagen=ImageDataGenerator(rescale=1./255,\n",
    "                                 zoom_range=0.2,\n",
    "                                 shear_range=0.1,\n",
    "                                vertical_flip=False)\n",
    "training_set=train_datagen.flow_from_directory(train_image,\n",
    "                                              target_size=(224,224),\n",
    "                                              class_mode='categorical',\n",
    "                                              batch_size=5)"
   ]
  },
  {
   "cell_type": "code",
   "execution_count": 4,
   "id": "98ae4a6a",
   "metadata": {},
   "outputs": [
    {
     "name": "stdout",
     "output_type": "stream",
     "text": [
      "Found 512 images belonging to 2 classes.\n"
     ]
    }
   ],
   "source": [
    "test_datagen = ImageDataGenerator(rescale = 1./255,\n",
    "                                 zoom_range=0.2)\n",
    "\n",
    "test_set=train_datagen.flow_from_directory('D:/Documents/Capstone/Project -2/Dataset/brown_spot_Vs_non-brown_spot/test',\n",
    "                                              target_size=(224,224),\n",
    "                                              class_mode='categorical',\n",
    "                                              batch_size=5)"
   ]
  },
  {
   "cell_type": "code",
   "execution_count": 5,
   "id": "ffce6293",
   "metadata": {},
   "outputs": [],
   "source": [
    "#Mobilenet\n",
    "mobileNet = \"https://tfhub.dev/google/imagenet/mobilenet_v2_050_224/classification/5\""
   ]
  },
  {
   "cell_type": "code",
   "execution_count": 6,
   "id": "76c23a83",
   "metadata": {},
   "outputs": [],
   "source": [
    "# model \n",
    "model = Sequential([\n",
    "    #layer input\n",
    "    hub.KerasLayer(mobileNet, input_shape=(224, 224, 3), trainable=False),\n",
    "    #layer output\n",
    "    Dense(2, activation=\"softmax\")]\n",
    ")"
   ]
  },
  {
   "cell_type": "code",
   "execution_count": 7,
   "id": "e9c6cabe",
   "metadata": {},
   "outputs": [
    {
     "name": "stdout",
     "output_type": "stream",
     "text": [
      "Model: \"sequential\"\n",
      "_________________________________________________________________\n",
      " Layer (type)                Output Shape              Param #   \n",
      "=================================================================\n",
      " keras_layer (KerasLayer)    (None, 1001)              1988505   \n",
      "                                                                 \n",
      " dense (Dense)               (None, 2)                 2004      \n",
      "                                                                 \n",
      "=================================================================\n",
      "Total params: 1,990,509\n",
      "Trainable params: 2,004\n",
      "Non-trainable params: 1,988,505\n",
      "_________________________________________________________________\n"
     ]
    }
   ],
   "source": [
    "model.compile(optimizer=Adam(),\n",
    "              loss=CategoricalCrossentropy(),\n",
    "              metrics=[\"accuracy\"])\n",
    "\n",
    "model.summary()\n",
    "\n",
    "early = tf.keras.callbacks.EarlyStopping(patience=10, min_delta=0.001, restore_best_weights=True)"
   ]
  },
  {
   "cell_type": "code",
   "execution_count": 8,
   "id": "b983f923",
   "metadata": {},
   "outputs": [
    {
     "name": "stdout",
     "output_type": "stream",
     "text": [
      "Epoch 1/7\n",
      "808/808 [==============================] - 2773s 3s/step - loss: 0.4880 - accuracy: 0.7835 - val_loss: 0.3667 - val_accuracy: 0.8294\n",
      "Epoch 2/7\n",
      "808/808 [==============================] - 1702s 2s/step - loss: 0.3810 - accuracy: 0.8353 - val_loss: 0.5017 - val_accuracy: 0.7824\n",
      "Epoch 3/7\n",
      "808/808 [==============================] - 1485s 2s/step - loss: 0.3558 - accuracy: 0.8501 - val_loss: 0.3781 - val_accuracy: 0.8569\n",
      "Epoch 4/7\n",
      "808/808 [==============================] - 1336s 2s/step - loss: 0.3419 - accuracy: 0.8603 - val_loss: 0.5363 - val_accuracy: 0.7902\n",
      "Epoch 5/7\n",
      "808/808 [==============================] - 1238s 2s/step - loss: 0.3474 - accuracy: 0.8593 - val_loss: 0.3960 - val_accuracy: 0.8333\n",
      "Epoch 6/7\n",
      "808/808 [==============================] - 1211s 1s/step - loss: 0.3358 - accuracy: 0.8702 - val_loss: 0.3438 - val_accuracy: 0.8588\n",
      "Epoch 7/7\n",
      "808/808 [==============================] - 1115s 1s/step - loss: 0.3277 - accuracy: 0.8652 - val_loss: 0.3313 - val_accuracy: 0.8529\n"
     ]
    }
   ],
   "source": [
    "batch_size=32\n",
    "STEP_SIZE_TRAIN = training_set.n//training_set.batch_size\n",
    "STEP_SIZE_VALID = test_set.n//test_set.batch_size\n",
    "\n",
    "# fit model\n",
    "history = model.fit(training_set, steps_per_epoch=STEP_SIZE_TRAIN,\n",
    "                    validation_data=test_set,\n",
    "                    validation_steps=STEP_SIZE_VALID,\n",
    "                    epochs=7,\n",
    "                    callbacks=[early])"
   ]
  },
  {
   "cell_type": "code",
   "execution_count": null,
   "id": "319e5c8a",
   "metadata": {},
   "outputs": [],
   "source": []
  },
  {
   "cell_type": "code",
   "execution_count": null,
   "id": "6f4f357b",
   "metadata": {},
   "outputs": [],
   "source": []
  },
  {
   "cell_type": "code",
   "execution_count": null,
   "id": "7e11b8ef",
   "metadata": {},
   "outputs": [],
   "source": []
  },
  {
   "cell_type": "code",
   "execution_count": null,
   "id": "6bdbf2a2",
   "metadata": {},
   "outputs": [],
   "source": []
  },
  {
   "cell_type": "code",
   "execution_count": null,
   "id": "af616a26",
   "metadata": {},
   "outputs": [],
   "source": []
  },
  {
   "cell_type": "code",
   "execution_count": null,
   "id": "d7e69884",
   "metadata": {},
   "outputs": [],
   "source": []
  },
  {
   "cell_type": "code",
   "execution_count": null,
   "id": "2cb90e18",
   "metadata": {},
   "outputs": [],
   "source": []
  }
 ],
 "metadata": {
  "kernelspec": {
   "display_name": "Python 3",
   "language": "python",
   "name": "python3"
  },
  "language_info": {
   "codemirror_mode": {
    "name": "ipython",
    "version": 3
   },
   "file_extension": ".py",
   "mimetype": "text/x-python",
   "name": "python",
   "nbconvert_exporter": "python",
   "pygments_lexer": "ipython3",
   "version": "3.8.13"
  }
 },
 "nbformat": 4,
 "nbformat_minor": 5
}
