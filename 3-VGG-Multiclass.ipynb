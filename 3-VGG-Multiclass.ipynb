{
 "cells": [
  {
   "cell_type": "code",
   "execution_count": 1,
   "id": "5a9a922e",
   "metadata": {},
   "outputs": [],
   "source": [
    "import tensorflow as tf\n",
    "from tensorflow.keras import Input\n",
    "from keras.layers import Input, Lambda, Dense, Flatten\n",
    "from keras.models import Model\n",
    "from keras.applications.vgg16 import VGG16\n",
    "from keras.applications.vgg16 import preprocess_input\n",
    "from keras.preprocessing import image\n",
    "from keras.preprocessing.image import ImageDataGenerator\n",
    "from keras.models import Sequential\n",
    "import numpy as np\n",
    "from glob import glob\n",
    "import matplotlib.pyplot as plt\n",
    "\n",
    "import warnings\n",
    "warnings.filterwarnings(\"ignore\", category=FutureWarning)"
   ]
  },
  {
   "cell_type": "code",
   "execution_count": 2,
   "id": "97853935",
   "metadata": {},
   "outputs": [],
   "source": [
    "IMAGE_SIZE = [224, 224]"
   ]
  },
  {
   "cell_type": "code",
   "execution_count": 3,
   "id": "42573434",
   "metadata": {},
   "outputs": [
    {
     "name": "stdout",
     "output_type": "stream",
     "text": [
      "Found 10554 files belonging to 14 classes.\n"
     ]
    }
   ],
   "source": [
    "training_set = tf.keras.preprocessing.image_dataset_from_directory('D:/Documents/Capstone/Project -2/New Bangladeshi/BangladeshiCrops/BangladeshiCrops/Train',\n",
    "                                                             image_size = (224,224),\n",
    "                                                             batch_size = 64,\n",
    "                                                             label_mode = 'categorical')"
   ]
  },
  {
   "cell_type": "code",
   "execution_count": 4,
   "id": "aca7968b",
   "metadata": {},
   "outputs": [
    {
     "name": "stdout",
     "output_type": "stream",
     "text": [
      "Found 2470 files belonging to 14 classes.\n"
     ]
    }
   ],
   "source": [
    "testing_set = tf.keras.preprocessing.image_dataset_from_directory('D:/Documents/Capstone/Project -2/New Bangladeshi/BangladeshiCrops/BangladeshiCrops/Test',\n",
    "                                                             image_size = (224,224),\n",
    "                                                             batch_size = 16,\n",
    "                                                             label_mode = 'categorical')"
   ]
  },
  {
   "cell_type": "code",
   "execution_count": 5,
   "id": "08a923fc",
   "metadata": {},
   "outputs": [
    {
     "data": {
      "text/plain": [
       "<KerasTensor: shape=(None, 7, 7, 512) dtype=float32 (created by layer 'block5_pool')>"
      ]
     },
     "execution_count": 5,
     "metadata": {},
     "output_type": "execute_result"
    }
   ],
   "source": [
    "vgg = VGG16(input_shape=IMAGE_SIZE + [3], weights = 'imagenet', include_top=False)\n",
    "vgg.output"
   ]
  },
  {
   "cell_type": "code",
   "execution_count": 6,
   "id": "5c9b33c0",
   "metadata": {},
   "outputs": [],
   "source": [
    "for layer in vgg.layers:\n",
    "    layer.trainable = False"
   ]
  },
  {
   "cell_type": "code",
   "execution_count": 7,
   "id": "2fb3880a",
   "metadata": {},
   "outputs": [],
   "source": [
    "x = Flatten()(vgg.output)"
   ]
  },
  {
   "cell_type": "code",
   "execution_count": 8,
   "id": "f4d306d8",
   "metadata": {},
   "outputs": [],
   "source": [
    "prediction = Dense(14, activation='softmax')(x)"
   ]
  },
  {
   "cell_type": "code",
   "execution_count": 9,
   "id": "ad29bf58",
   "metadata": {},
   "outputs": [],
   "source": [
    "model = Model(inputs=vgg.input, outputs=prediction)"
   ]
  },
  {
   "cell_type": "code",
   "execution_count": 10,
   "id": "b79bb116",
   "metadata": {},
   "outputs": [
    {
     "name": "stdout",
     "output_type": "stream",
     "text": [
      "Model: \"model\"\n",
      "_________________________________________________________________\n",
      " Layer (type)                Output Shape              Param #   \n",
      "=================================================================\n",
      " input_1 (InputLayer)        [(None, 224, 224, 3)]     0         \n",
      "                                                                 \n",
      " block1_conv1 (Conv2D)       (None, 224, 224, 64)      1792      \n",
      "                                                                 \n",
      " block1_conv2 (Conv2D)       (None, 224, 224, 64)      36928     \n",
      "                                                                 \n",
      " block1_pool (MaxPooling2D)  (None, 112, 112, 64)      0         \n",
      "                                                                 \n",
      " block2_conv1 (Conv2D)       (None, 112, 112, 128)     73856     \n",
      "                                                                 \n",
      " block2_conv2 (Conv2D)       (None, 112, 112, 128)     147584    \n",
      "                                                                 \n",
      " block2_pool (MaxPooling2D)  (None, 56, 56, 128)       0         \n",
      "                                                                 \n",
      " block3_conv1 (Conv2D)       (None, 56, 56, 256)       295168    \n",
      "                                                                 \n",
      " block3_conv2 (Conv2D)       (None, 56, 56, 256)       590080    \n",
      "                                                                 \n",
      " block3_conv3 (Conv2D)       (None, 56, 56, 256)       590080    \n",
      "                                                                 \n",
      " block3_pool (MaxPooling2D)  (None, 28, 28, 256)       0         \n",
      "                                                                 \n",
      " block4_conv1 (Conv2D)       (None, 28, 28, 512)       1180160   \n",
      "                                                                 \n",
      " block4_conv2 (Conv2D)       (None, 28, 28, 512)       2359808   \n",
      "                                                                 \n",
      " block4_conv3 (Conv2D)       (None, 28, 28, 512)       2359808   \n",
      "                                                                 \n",
      " block4_pool (MaxPooling2D)  (None, 14, 14, 512)       0         \n",
      "                                                                 \n",
      " block5_conv1 (Conv2D)       (None, 14, 14, 512)       2359808   \n",
      "                                                                 \n",
      " block5_conv2 (Conv2D)       (None, 14, 14, 512)       2359808   \n",
      "                                                                 \n",
      " block5_conv3 (Conv2D)       (None, 14, 14, 512)       2359808   \n",
      "                                                                 \n",
      " block5_pool (MaxPooling2D)  (None, 7, 7, 512)         0         \n",
      "                                                                 \n",
      " flatten (Flatten)           (None, 25088)             0         \n",
      "                                                                 \n",
      " dense (Dense)               (None, 14)                351246    \n",
      "                                                                 \n",
      "=================================================================\n",
      "Total params: 15,065,934\n",
      "Trainable params: 351,246\n",
      "Non-trainable params: 14,714,688\n",
      "_________________________________________________________________\n"
     ]
    }
   ],
   "source": [
    "model.summary()"
   ]
  },
  {
   "cell_type": "code",
   "execution_count": 11,
   "id": "0ae2e82a",
   "metadata": {},
   "outputs": [
    {
     "name": "stderr",
     "output_type": "stream",
     "text": [
      "C:\\Users\\karma\\.conda\\envs\\FarmwiseAI\\lib\\site-packages\\keras\\optimizer_v2\\adam.py:105: UserWarning: The `lr` argument is deprecated, use `learning_rate` instead.\n",
      "  super(Adam, self).__init__(name, **kwargs)\n"
     ]
    }
   ],
   "source": [
    "from keras import optimizers\n",
    "from tensorflow.keras.optimizers import Adam\n",
    "\n",
    "model.compile(loss = 'categorical_crossentropy',\n",
    "             optimizer=Adam(lr=0.001),\n",
    "             metrics=['accuracy',  tf.keras.metrics.AUC(), tf.keras.metrics.Precision(), tf.keras.metrics.Recall(), tf.keras.metrics.TruePositives()])"
   ]
  },
  {
   "cell_type": "code",
   "execution_count": 12,
   "id": "19fef9e1",
   "metadata": {},
   "outputs": [
    {
     "name": "stdout",
     "output_type": "stream",
     "text": [
      "Epoch 1/8\n",
      "165/165 [==============================] - 3150s 19s/step - loss: 3.1509 - accuracy: 0.8261 - auc: 0.9259 - precision: 0.8265 - recall: 0.8259 - true_positives: 8717.0000 - val_loss: 5.5603 - val_accuracy: 0.8085 - val_auc: 0.9102 - val_precision: 0.8092 - val_recall: 0.8085 - val_true_positives: 1997.0000\n",
      "Epoch 2/8\n",
      "165/165 [==============================] - 2006s 12s/step - loss: 1.3034 - accuracy: 0.9190 - auc: 0.9681 - precision: 0.9191 - recall: 0.9187 - true_positives: 9696.0000 - val_loss: 6.6501 - val_accuracy: 0.8340 - val_auc: 0.9211 - val_precision: 0.8343 - val_recall: 0.8340 - val_true_positives: 2060.0000\n",
      "Epoch 3/8\n",
      "165/165 [==============================] - 2269s 14s/step - loss: 0.7049 - accuracy: 0.9498 - auc: 0.9812 - precision: 0.9499 - recall: 0.9497 - true_positives: 10023.0000 - val_loss: 6.2271 - val_accuracy: 0.8267 - val_auc: 0.9172 - val_precision: 0.8267 - val_recall: 0.8267 - val_true_positives: 2042.0000\n",
      "Epoch 4/8\n",
      "165/165 [==============================] - 2274s 14s/step - loss: 0.4803 - accuracy: 0.9599 - auc: 0.9863 - precision: 0.9599 - recall: 0.9599 - true_positives: 10131.0000 - val_loss: 6.7669 - val_accuracy: 0.8603 - val_auc: 0.9313 - val_precision: 0.8603 - val_recall: 0.8599 - val_true_positives: 2124.0000\n",
      "Epoch 5/8\n",
      "165/165 [==============================] - 2285s 14s/step - loss: 0.4686 - accuracy: 0.9640 - auc: 0.9863 - precision: 0.9640 - recall: 0.9640 - true_positives: 10174.0000 - val_loss: 8.3941 - val_accuracy: 0.8348 - val_auc: 0.9163 - val_precision: 0.8348 - val_recall: 0.8348 - val_true_positives: 2062.0000\n",
      "Epoch 6/8\n",
      "165/165 [==============================] - 2285s 14s/step - loss: 0.4083 - accuracy: 0.9694 - auc: 0.9890 - precision: 0.9695 - recall: 0.9694 - true_positives: 10231.0000 - val_loss: 7.1514 - val_accuracy: 0.8514 - val_auc: 0.9269 - val_precision: 0.8514 - val_recall: 0.8514 - val_true_positives: 2103.0000\n",
      "Epoch 7/8\n",
      "165/165 [==============================] - 2248s 14s/step - loss: 0.2858 - accuracy: 0.9752 - auc: 0.9913 - precision: 0.9753 - recall: 0.9752 - true_positives: 10292.0000 - val_loss: 9.1631 - val_accuracy: 0.8364 - val_auc: 0.9182 - val_precision: 0.8364 - val_recall: 0.8364 - val_true_positives: 2066.0000\n",
      "Epoch 8/8\n",
      "165/165 [==============================] - 2272s 14s/step - loss: 0.2757 - accuracy: 0.9804 - auc: 0.9932 - precision: 0.9805 - recall: 0.9804 - true_positives: 10347.0000 - val_loss: 9.7732 - val_accuracy: 0.8251 - val_auc: 0.9114 - val_precision: 0.8251 - val_recall: 0.8251 - val_true_positives: 2038.0000\n"
     ]
    }
   ],
   "source": [
    "epochs = 8\n",
    "model_history = model.fit(training_set, \n",
    "                          validation_data=testing_set, \n",
    "                          epochs = epochs)"
   ]
  },
  {
   "cell_type": "code",
   "execution_count": 18,
   "id": "2f126a0a",
   "metadata": {},
   "outputs": [
    {
     "data": {
      "image/png": "[encoded data removed]",
      "text/plain": [
       "<Figure size 432x288 with 1 Axes>"
      ]
     },
     "metadata": {
      "needs_background": "light"
     },
     "output_type": "display_data"
    }
   ],
   "source": [
    "from matplotlib import pyplot\n",
    "pyplot.plot(model_history.history['accuracy'])\n",
    "pyplot.show()"
   ]
  },
  {
   "cell_type": "code",
   "execution_count": null,
   "id": "5c54e1a2",
   "metadata": {},
   "outputs": [],
   "source": []
  }
 ],
 "metadata": {
  "kernelspec": {
   "display_name": "Python 3",
   "language": "python",
   "name": "python3"
  },
  "language_info": {
   "codemirror_mode": {
    "name": "ipython",
    "version": 3
   },
   "file_extension": ".py",
   "mimetype": "text/x-python",
   "name": "python",
   "nbconvert_exporter": "python",
   "pygments_lexer": "ipython3",
   "version": "3.8.13"
  }
 },
 "nbformat": 4,
 "nbformat_minor": 5
}
