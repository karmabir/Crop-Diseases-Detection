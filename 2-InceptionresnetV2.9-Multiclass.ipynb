{
 "cells": [
  {
   "cell_type": "code",
   "execution_count": 1,
   "id": "89fcf667",
   "metadata": {},
   "outputs": [],
   "source": [
    "import numpy as np\n",
    "import pandas as pd\n",
    "import matplotlib.pyplot as plt\n",
    "\n",
    "from sklearn.metrics import classification_report, confusion_matrix\n",
    "\n",
    "import tensorflow as tf\n",
    "import keras\n",
    "from keras.preprocessing.image import ImageDataGenerator\n",
    "from tensorflow.keras import applications\n",
    "from keras.models import Sequential, load_model\n",
    "from keras.layers import Conv2D, MaxPooling2D, GlobalAveragePooling2D, Flatten, Dense, Dropout\n",
    "from keras.preprocessing import image\n",
    "\n",
    "import warnings\n",
    "warnings.filterwarnings('ignore')"
   ]
  },
  {
   "cell_type": "code",
   "execution_count": 2,
   "id": "a47a01a8",
   "metadata": {},
   "outputs": [],
   "source": [
    "train_image='D:/Documents/Capstone/Project -2/New Plant Diseases Dataset(Augmented)/New Plant Diseases Dataset(Augmented)/New Plant Diseases Dataset(Augmented)/train'"
   ]
  },
  {
   "cell_type": "code",
   "execution_count": 3,
   "id": "988a3bc7",
   "metadata": {},
   "outputs": [],
   "source": [
    "train_datagen=ImageDataGenerator(rescale=1./255,\n",
    "                                 zoom_range=0.2,\n",
    "                                 shear_range=0.1,\n",
    "                                vertical_flip=False)"
   ]
  },
  {
   "cell_type": "code",
   "execution_count": 4,
   "id": "1413cd27",
   "metadata": {},
   "outputs": [
    {
     "name": "stdout",
     "output_type": "stream",
     "text": [
      "Found 47454 images belonging to 35 classes.\n"
     ]
    }
   ],
   "source": [
    "training_set=train_datagen.flow_from_directory(train_image,\n",
    "                                              target_size=(224,224),\n",
    "                                              class_mode='categorical',\n",
    "                                              batch_size=5)\n"
   ]
  },
  {
   "cell_type": "code",
   "execution_count": 5,
   "id": "4c7049d2",
   "metadata": {},
   "outputs": [
    {
     "name": "stdout",
     "output_type": "stream",
     "text": [
      "Found 14321 images belonging to 35 classes.\n"
     ]
    }
   ],
   "source": [
    "test_datagen = ImageDataGenerator(rescale = 1./255,\n",
    "                                 zoom_range=0.2)\n",
    "\n",
    "test_set=test_datagen.flow_from_directory('D:/Documents/Capstone/Project -2/New Plant Diseases Dataset(Augmented)/New Plant Diseases Dataset(Augmented)/New Plant Diseases Dataset(Augmented)/valid',\n",
    "                                              target_size=(224,224),\n",
    "                                              class_mode='categorical',\n",
    "                                              batch_size=5)"
   ]
  },
  {
   "cell_type": "code",
   "execution_count": 6,
   "id": "914e9b7b",
   "metadata": {},
   "outputs": [],
   "source": [
    "base_model = tf.keras.applications.InceptionResNetV2(\n",
    "                     include_top=False,\n",
    "                     weights='imagenet',\n",
    "                     input_shape=(224,224,3)\n",
    "                     )\n",
    " \n",
    "base_model.trainable=False\n",
    " \n",
    "model = tf.keras.Sequential([\n",
    "        base_model,  \n",
    "        tf.keras.layers.BatchNormalization(renorm=True),\n",
    "        tf.keras.layers.GlobalAveragePooling2D(),\n",
    "        tf.keras.layers.Dense(512, activation='relu'),\n",
    "        tf.keras.layers.Dense(256, activation='relu'),\n",
    "        tf.keras.layers.Dense(256, activation='relu'),\n",
    "        tf.keras.layers.Dropout(0.5),\n",
    "        tf.keras.layers.Dense(128, activation='relu'),\n",
    "        tf.keras.layers.Dense(128, activation='relu'),\n",
    "        tf.keras.layers.Dense(35, activation='softmax')\n",
    "    ])"
   ]
  },
  {
   "cell_type": "code",
   "execution_count": 7,
   "id": "177b9c20",
   "metadata": {},
   "outputs": [],
   "source": [
    "model.compile(optimizer='Adam',loss='categorical_crossentropy',metrics=['accuracy', tf.keras.metrics.AUC(), tf.keras.metrics.Precision(), tf.keras.metrics.Recall(), tf.keras.metrics.TruePositives()])"
   ]
  },
  {
   "cell_type": "code",
   "execution_count": 8,
   "id": "705abe90",
   "metadata": {},
   "outputs": [
    {
     "name": "stdout",
     "output_type": "stream",
     "text": [
      "Model: \"sequential\"\n",
      "_________________________________________________________________\n",
      " Layer (type)                Output Shape              Param #   \n",
      "=================================================================\n",
      " inception_resnet_v2 (Functi  (None, 5, 5, 1536)       54336736  \n",
      " onal)                                                           \n",
      "                                                                 \n",
      " batch_normalization_203 (Ba  (None, 5, 5, 1536)       10752     \n",
      " tchNormalization)                                               \n",
      "                                                                 \n",
      " global_average_pooling2d (G  (None, 1536)             0         \n",
      " lobalAveragePooling2D)                                          \n",
      "                                                                 \n",
      " dense (Dense)               (None, 512)               786944    \n",
      "                                                                 \n",
      " dense_1 (Dense)             (None, 256)               131328    \n",
      "                                                                 \n",
      " dense_2 (Dense)             (None, 256)               65792     \n",
      "                                                                 \n",
      " dropout (Dropout)           (None, 256)               0         \n",
      "                                                                 \n",
      " dense_3 (Dense)             (None, 128)               32896     \n",
      "                                                                 \n",
      " dense_4 (Dense)             (None, 128)               16512     \n",
      "                                                                 \n",
      " dense_5 (Dense)             (None, 35)                4515      \n",
      "                                                                 \n",
      "=================================================================\n",
      "Total params: 55,385,475\n",
      "Trainable params: 1,041,059\n",
      "Non-trainable params: 54,344,416\n",
      "_________________________________________________________________\n"
     ]
    }
   ],
   "source": [
    "model.summary()"
   ]
  },
  {
   "cell_type": "code",
   "execution_count": 9,
   "id": "ddb41270",
   "metadata": {},
   "outputs": [],
   "source": [
    "early = tf.keras.callbacks.EarlyStopping(patience=10, min_delta=0.001, restore_best_weights=True)"
   ]
  },
  {
   "cell_type": "code",
   "execution_count": 10,
   "id": "94222af0",
   "metadata": {},
   "outputs": [
    {
     "name": "stdout",
     "output_type": "stream",
     "text": [
      "Epoch 1/8\n",
      "9490/9490 [==============================] - 15316s 2s/step - loss: 0.9331 - accuracy: 0.7372 - auc: 0.9781 - precision: 0.8617 - recall: 0.6550 - true_positives: 31081.0000 - val_loss: 4.8012 - val_accuracy: 0.5482 - val_auc: 0.8659 - val_precision: 0.5959 - val_recall: 0.5135 - val_true_positives: 7354.0000\n",
      "Epoch 2/8\n",
      "9490/9490 [==============================] - 16029s 2s/step - loss: 0.5359 - accuracy: 0.8606 - auc: 0.9890 - precision: 0.9121 - recall: 0.8152 - true_positives: 38680.0000 - val_loss: 9.5285 - val_accuracy: 0.5989 - val_auc: 0.8546 - val_precision: 0.6334 - val_recall: 0.5662 - val_true_positives: 8108.0000\n",
      "Epoch 3/8\n",
      "9490/9490 [==============================] - 16112s 2s/step - loss: 0.4542 - accuracy: 0.8850 - auc: 0.9907 - precision: 0.9278 - recall: 0.8482 - true_positives: 40246.0000 - val_loss: 11.3054 - val_accuracy: 0.5983 - val_auc: 0.8607 - val_precision: 0.6294 - val_recall: 0.5673 - val_true_positives: 8124.0000\n",
      "Epoch 4/8\n",
      "9490/9490 [==============================] - 15799s 2s/step - loss: 0.4253 - accuracy: 0.8976 - auc: 0.9912 - precision: 0.9362 - recall: 0.8641 - true_positives: 41001.0000 - val_loss: 10.0592 - val_accuracy: 0.6143 - val_auc: 0.8605 - val_precision: 0.6564 - val_recall: 0.5763 - val_true_positives: 8253.0000\n",
      "Epoch 5/8\n",
      "9490/9490 [==============================] - 7681s 809ms/step - loss: 0.4208 - accuracy: 0.9009 - auc: 0.9915 - precision: 0.9398 - recall: 0.8676 - true_positives: 41169.0000 - val_loss: 14.0973 - val_accuracy: 0.6057 - val_auc: 0.8612 - val_precision: 0.6376 - val_recall: 0.5703 - val_true_positives: 8167.0000\n",
      "Epoch 6/8\n",
      "9490/9490 [==============================] - 7701s 811ms/step - loss: 0.4227 - accuracy: 0.9064 - auc: 0.9918 - precision: 0.9443 - recall: 0.8760 - true_positives: 41564.0000 - val_loss: 19.7612 - val_accuracy: 0.6071 - val_auc: 0.8536 - val_precision: 0.6404 - val_recall: 0.5683 - val_true_positives: 8138.0000\n",
      "Epoch 7/8\n",
      "9490/9490 [==============================] - 7639s 805ms/step - loss: 0.4139 - accuracy: 0.9072 - auc: 0.9916 - precision: 0.9448 - recall: 0.8757 - true_positives: 41551.0000 - val_loss: 27.4300 - val_accuracy: 0.6109 - val_auc: 0.8403 - val_precision: 0.6417 - val_recall: 0.5763 - val_true_positives: 8252.0000\n",
      "Epoch 8/8\n",
      "9490/9490 [==============================] - 7592s 800ms/step - loss: 0.4267 - accuracy: 0.9040 - auc: 0.9918 - precision: 0.9446 - recall: 0.8743 - true_positives: 41483.0000 - val_loss: 19.6626 - val_accuracy: 0.6216 - val_auc: 0.8619 - val_precision: 0.6550 - val_recall: 0.5893 - val_true_positives: 8439.0000\n"
     ]
    }
   ],
   "source": [
    "batch_size=512\n",
    "STEP_SIZE_TRAIN = training_set.n//training_set.batch_size\n",
    "STEP_SIZE_VALID = test_set.n//test_set.batch_size\n",
    "\n",
    "# fit model\n",
    "history = model.fit(training_set, steps_per_epoch=STEP_SIZE_TRAIN,\n",
    "                    validation_data=test_set,\n",
    "                    validation_steps=STEP_SIZE_VALID,\n",
    "                    epochs=8,\n",
    "                    callbacks=[early])"
   ]
  },
  {
   "cell_type": "code",
   "execution_count": 11,
   "id": "d2ffced1",
   "metadata": {},
   "outputs": [
    {
     "data": {
      "image/png": "[encoded data removed]",
      "text/plain": [
       "<Figure size 432x288 with 1 Axes>"
      ]
     },
     "metadata": {
      "needs_background": "light"
     },
     "output_type": "display_data"
    }
   ],
   "source": [
    "from matplotlib import pyplot\n",
    "pyplot.plot(history.history['accuracy'])\n",
    "pyplot.show()"
   ]
  },
  {
   "cell_type": "code",
   "execution_count": null,
   "id": "e6683046",
   "metadata": {},
   "outputs": [],
   "source": []
  },
  {
   "cell_type": "code",
   "execution_count": null,
   "id": "26eb2df1",
   "metadata": {},
   "outputs": [],
   "source": []
  },
  {
   "cell_type": "code",
   "execution_count": null,
   "id": "ec39f2e6",
   "metadata": {},
   "outputs": [],
   "source": []
  },
  {
   "cell_type": "code",
   "execution_count": null,
   "id": "382395ec",
   "metadata": {},
   "outputs": [],
   "source": []
  }
 ],
 "metadata": {
  "kernelspec": {
   "display_name": "Python 3",
   "language": "python",
   "name": "python3"
  },
  "language_info": {
   "codemirror_mode": {
    "name": "ipython",
    "version": 3
   },
   "file_extension": ".py",
   "mimetype": "text/x-python",
   "name": "python",
   "nbconvert_exporter": "python",
   "pygments_lexer": "ipython3",
   "version": "3.8.13"
  }
 },
 "nbformat": 4,
 "nbformat_minor": 5
}
