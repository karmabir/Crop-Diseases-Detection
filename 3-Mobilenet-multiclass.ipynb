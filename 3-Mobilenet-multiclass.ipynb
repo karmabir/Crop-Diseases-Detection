{
 "cells": [
  {
   "cell_type": "code",
   "execution_count": 1,
   "id": "167ce705",
   "metadata": {},
   "outputs": [],
   "source": [
    "import tensorflow as tf\n",
    "from tensorflow.keras.preprocessing.image import ImageDataGenerator\n",
    "import os\n",
    "import tensorflow_hub as hub\n",
    "from tensorflow.keras.models import Sequential\n",
    "from tensorflow.keras.layers import Dense\n",
    "from tensorflow.keras.optimizers import Adam\n",
    "from tensorflow.keras.losses import CategoricalCrossentropy\n",
    "import tensorboard\n",
    "from keras.callbacks import Callback, TensorBoard\n",
    "import time\n",
    "import numpy as np\n",
    "import matplotlib.pyplot as plt"
   ]
  },
  {
   "cell_type": "code",
   "execution_count": 2,
   "id": "ad091d1a",
   "metadata": {},
   "outputs": [],
   "source": [
    "train_image='D:/Documents/Capstone/Project -2/New Bangladeshi/BangladeshiCrops/BangladeshiCrops/Train'"
   ]
  },
  {
   "cell_type": "code",
   "execution_count": 3,
   "id": "80b9282d",
   "metadata": {},
   "outputs": [
    {
     "name": "stdout",
     "output_type": "stream",
     "text": [
      "Found 10554 images belonging to 14 classes.\n"
     ]
    }
   ],
   "source": [
    "train_datagen=ImageDataGenerator(rescale=1./255,\n",
    "                                 zoom_range=0.2,\n",
    "                                 shear_range=0.1,\n",
    "                                vertical_flip=False)\n",
    "training_set=train_datagen.flow_from_directory(train_image,\n",
    "                                              target_size=(224,224),\n",
    "                                              class_mode='categorical',\n",
    "                                              batch_size=512)"
   ]
  },
  {
   "cell_type": "code",
   "execution_count": 4,
   "id": "7c94b49f",
   "metadata": {},
   "outputs": [
    {
     "name": "stdout",
     "output_type": "stream",
     "text": [
      "Found 2470 images belonging to 14 classes.\n"
     ]
    }
   ],
   "source": [
    "test_datagen = ImageDataGenerator(rescale = 1./255,\n",
    "                                 zoom_range=0.2)\n",
    "\n",
    "test_set=test_datagen.flow_from_directory('D:/Documents/Capstone/Project -2/New Bangladeshi/BangladeshiCrops/BangladeshiCrops/Test',\n",
    "                                              target_size=(224,224),\n",
    "                                              class_mode='categorical',\n",
    "                                              batch_size=512)"
   ]
  },
  {
   "cell_type": "code",
   "execution_count": 5,
   "id": "814fc5a7",
   "metadata": {},
   "outputs": [],
   "source": [
    "#Mobilenet\n",
    "mobileNet = \"https://tfhub.dev/google/imagenet/mobilenet_v2_050_224/classification/5\""
   ]
  },
  {
   "cell_type": "code",
   "execution_count": 6,
   "id": "1269c8f7",
   "metadata": {},
   "outputs": [],
   "source": [
    "# model \n",
    "model = Sequential([\n",
    "    #layer input\n",
    "    hub.KerasLayer(mobileNet, input_shape=(224, 224, 3), trainable=False),\n",
    "    #layer output\n",
    "    Dense(14, activation=\"softmax\")]\n",
    ")"
   ]
  },
  {
   "cell_type": "code",
   "execution_count": 7,
   "id": "16ad992a",
   "metadata": {},
   "outputs": [
    {
     "name": "stdout",
     "output_type": "stream",
     "text": [
      "Model: \"sequential\"\n",
      "_________________________________________________________________\n",
      " Layer (type)                Output Shape              Param #   \n",
      "=================================================================\n",
      " keras_layer (KerasLayer)    (None, 1001)              1988505   \n",
      "                                                                 \n",
      " dense (Dense)               (None, 14)                14028     \n",
      "                                                                 \n",
      "=================================================================\n",
      "Total params: 2,002,533\n",
      "Trainable params: 14,028\n",
      "Non-trainable params: 1,988,505\n",
      "_________________________________________________________________\n"
     ]
    }
   ],
   "source": [
    "model.compile(optimizer='Adam',loss='categorical_crossentropy',metrics=['accuracy', tf.keras.metrics.AUC(), tf.keras.metrics.Precision(), tf.keras.metrics.Recall(), tf.keras.metrics.TruePositives()])\n",
    "model.summary()"
   ]
  },
  {
   "cell_type": "code",
   "execution_count": 8,
   "id": "4f6fcef2",
   "metadata": {},
   "outputs": [],
   "source": [
    "early = tf.keras.callbacks.EarlyStopping(patience=10, min_delta=0.001, restore_best_weights=True)"
   ]
  },
  {
   "cell_type": "code",
   "execution_count": 9,
   "id": "294b76bb",
   "metadata": {},
   "outputs": [
    {
     "name": "stdout",
     "output_type": "stream",
     "text": [
      "Epoch 1/8\n",
      "20/20 [==============================] - 555s 28s/step - loss: 1.4904 - accuracy: 0.5485 - auc: 0.9055 - precision: 0.6880 - recall: 0.4405 - true_positives: 4423.0000 - val_loss: 0.6080 - val_accuracy: 0.7803 - val_auc: 0.9845 - val_precision: 0.8328 - val_recall: 0.7417 - val_true_positives: 1519.0000\n",
      "Epoch 2/8\n",
      "20/20 [==============================] - 331s 17s/step - loss: 0.4006 - accuracy: 0.8464 - auc: 0.9936 - precision: 0.8750 - recall: 0.8153 - true_positives: 8187.0000 - val_loss: 0.4401 - val_accuracy: 0.8350 - val_auc: 0.9906 - val_precision: 0.8673 - val_recall: 0.8140 - val_true_positives: 1667.0000\n",
      "Epoch 3/8\n",
      "20/20 [==============================] - 309s 16s/step - loss: 0.3144 - accuracy: 0.8775 - auc: 0.9959 - precision: 0.8963 - recall: 0.8537 - true_positives: 8573.0000 - val_loss: 0.3743 - val_accuracy: 0.8657 - val_auc: 0.9926 - val_precision: 0.8903 - val_recall: 0.8438 - val_true_positives: 1728.0000\n",
      "Epoch 4/8\n",
      "20/20 [==============================] - 299s 15s/step - loss: 0.2828 - accuracy: 0.8926 - auc: 0.9966 - precision: 0.9095 - recall: 0.8721 - true_positives: 8758.0000 - val_loss: 0.3758 - val_accuracy: 0.8604 - val_auc: 0.9929 - val_precision: 0.8843 - val_recall: 0.8398 - val_true_positives: 1720.0000\n",
      "Epoch 5/8\n",
      "20/20 [==============================] - 304s 15s/step - loss: 0.2687 - accuracy: 0.8956 - auc: 0.9970 - precision: 0.9121 - recall: 0.8780 - true_positives: 8991.0000 - val_loss: 0.3576 - val_accuracy: 0.8589 - val_auc: 0.9945 - val_precision: 0.8801 - val_recall: 0.8423 - val_true_positives: 1725.0000\n",
      "Epoch 6/8\n",
      "20/20 [==============================] - 302s 15s/step - loss: 0.2516 - accuracy: 0.9021 - auc: 0.9974 - precision: 0.9187 - recall: 0.8833 - true_positives: 8870.0000 - val_loss: 0.3556 - val_accuracy: 0.8745 - val_auc: 0.9935 - val_precision: 0.8973 - val_recall: 0.8486 - val_true_positives: 1738.0000\n",
      "Epoch 7/8\n",
      "20/20 [==============================] - 298s 15s/step - loss: 0.2394 - accuracy: 0.9079 - auc: 0.9977 - precision: 0.9226 - recall: 0.8921 - true_positives: 8958.0000 - val_loss: 0.3301 - val_accuracy: 0.8799 - val_auc: 0.9941 - val_precision: 0.8994 - val_recall: 0.8599 - val_true_positives: 1761.0000\n",
      "Epoch 8/8\n",
      "20/20 [==============================] - 295s 15s/step - loss: 0.2341 - accuracy: 0.9088 - auc: 0.9976 - precision: 0.9236 - recall: 0.8946 - true_positives: 8984.0000 - val_loss: 0.3487 - val_accuracy: 0.8662 - val_auc: 0.9939 - val_precision: 0.8907 - val_recall: 0.8555 - val_true_positives: 1752.0000\n"
     ]
    }
   ],
   "source": [
    "batch_size=1024\n",
    "STEP_SIZE_TRAIN = training_set.n//training_set.batch_size\n",
    "STEP_SIZE_VALID = test_set.n//test_set.batch_size\n",
    "\n",
    "# fit model\n",
    "history = model.fit(training_set, steps_per_epoch=STEP_SIZE_TRAIN,\n",
    "                    validation_data=test_set,\n",
    "                    validation_steps=STEP_SIZE_VALID,\n",
    "                    epochs=8,\n",
    "                    callbacks=[early])"
   ]
  },
  {
   "cell_type": "code",
   "execution_count": 10,
   "id": "4bdba4c3",
   "metadata": {},
   "outputs": [
    {
     "data": {
      "image/png": "[encoded data removed]",
      "text/plain": [
       "<Figure size 432x288 with 1 Axes>"
      ]
     },
     "metadata": {
      "needs_background": "light"
     },
     "output_type": "display_data"
    }
   ],
   "source": [
    "from matplotlib import pyplot\n",
    "pyplot.plot(history.history['accuracy'])\n",
    "pyplot.show()"
   ]
  },
  {
   "cell_type": "code",
   "execution_count": null,
   "id": "1162a2f4",
   "metadata": {},
   "outputs": [],
   "source": []
  }
 ],
 "metadata": {
  "kernelspec": {
   "display_name": "Python 3",
   "language": "python",
   "name": "python3"
  },
  "language_info": {
   "codemirror_mode": {
    "name": "ipython",
    "version": 3
   },
   "file_extension": ".py",
   "mimetype": "text/x-python",
   "name": "python",
   "nbconvert_exporter": "python",
   "pygments_lexer": "ipython3",
   "version": "3.8.13"
  }
 },
 "nbformat": 4,
 "nbformat_minor": 5
}
