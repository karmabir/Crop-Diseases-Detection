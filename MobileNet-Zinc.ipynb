{
 "cells": [
  {
   "cell_type": "code",
   "execution_count": 1,
   "id": "cb5b18a6",
   "metadata": {},
   "outputs": [],
   "source": [
    "import tensorflow as tf\n",
    "from tensorflow.keras.preprocessing.image import ImageDataGenerator\n",
    "import os\n",
    "import tensorflow_hub as hub\n",
    "from tensorflow.keras.models import Sequential\n",
    "from tensorflow.keras.layers import Dense\n",
    "from tensorflow.keras.optimizers import Adam\n",
    "from tensorflow.keras.losses import CategoricalCrossentropy\n",
    "import tensorboard\n",
    "from keras.callbacks import Callback, TensorBoard\n",
    "import time\n",
    "import numpy as np\n",
    "import matplotlib.pyplot as plt"
   ]
  },
  {
   "cell_type": "code",
   "execution_count": 2,
   "id": "023a0595",
   "metadata": {},
   "outputs": [],
   "source": [
    "train_image='D:/Documents/Capstone/Project -2/Dataset/zinc_Vs_non-Zinc/train'"
   ]
  },
  {
   "cell_type": "code",
   "execution_count": 3,
   "id": "d2b0988f",
   "metadata": {},
   "outputs": [
    {
     "name": "stdout",
     "output_type": "stream",
     "text": [
      "Found 600 images belonging to 2 classes.\n"
     ]
    }
   ],
   "source": [
    "train_datagen=ImageDataGenerator(rescale=1./255,\n",
    "                                 zoom_range=0.2,\n",
    "                                 shear_range=0.1,\n",
    "                                vertical_flip=False)\n",
    "training_set=train_datagen.flow_from_directory(train_image,\n",
    "                                              target_size=(224,224),\n",
    "                                              class_mode='categorical',\n",
    "                                              batch_size=5)"
   ]
  },
  {
   "cell_type": "code",
   "execution_count": 4,
   "id": "7d39a136",
   "metadata": {},
   "outputs": [
    {
     "name": "stdout",
     "output_type": "stream",
     "text": [
      "Found 60 images belonging to 2 classes.\n"
     ]
    }
   ],
   "source": [
    "test_datagen = ImageDataGenerator(rescale = 1./255,\n",
    "                                 zoom_range=0.2)\n",
    "\n",
    "test_set=train_datagen.flow_from_directory('D:/Documents/Capstone/Project -2/Dataset/zinc_Vs_non-Zinc/test',\n",
    "                                              target_size=(224,224),\n",
    "                                              class_mode='categorical',\n",
    "                                              batch_size=5)"
   ]
  },
  {
   "cell_type": "code",
   "execution_count": 5,
   "id": "71c1b5ed",
   "metadata": {},
   "outputs": [],
   "source": [
    "#Mobilenet\n",
    "mobileNet = \"https://tfhub.dev/google/imagenet/mobilenet_v2_050_224/classification/5\""
   ]
  },
  {
   "cell_type": "code",
   "execution_count": 6,
   "id": "95502fd2",
   "metadata": {},
   "outputs": [],
   "source": [
    "# model \n",
    "model = Sequential([\n",
    "    #layer input\n",
    "    hub.KerasLayer(mobileNet, input_shape=(224, 224, 3), trainable=False),\n",
    "    #layer output\n",
    "    Dense(2, activation=\"softmax\")]\n",
    ")"
   ]
  },
  {
   "cell_type": "code",
   "execution_count": 7,
   "id": "d76bf77d",
   "metadata": {},
   "outputs": [
    {
     "name": "stdout",
     "output_type": "stream",
     "text": [
      "Model: \"sequential\"\n",
      "_________________________________________________________________\n",
      " Layer (type)                Output Shape              Param #   \n",
      "=================================================================\n",
      " keras_layer (KerasLayer)    (None, 1001)              1988505   \n",
      "                                                                 \n",
      " dense (Dense)               (None, 2)                 2004      \n",
      "                                                                 \n",
      "=================================================================\n",
      "Total params: 1,990,509\n",
      "Trainable params: 2,004\n",
      "Non-trainable params: 1,988,505\n",
      "_________________________________________________________________\n"
     ]
    }
   ],
   "source": [
    "model.compile(optimizer=Adam(),\n",
    "              loss=CategoricalCrossentropy(),\n",
    "              metrics=[\"accuracy\"])\n",
    "\n",
    "model.summary()\n",
    "\n",
    "early = tf.keras.callbacks.EarlyStopping(patience=10, min_delta=0.001, restore_best_weights=True)"
   ]
  },
  {
   "cell_type": "code",
   "execution_count": 8,
   "id": "63aede38",
   "metadata": {},
   "outputs": [
    {
     "name": "stdout",
     "output_type": "stream",
     "text": [
      "Epoch 1/7\n",
      "120/120 [==============================] - 525s 4s/step - loss: 0.4761 - accuracy: 0.8100 - val_loss: 0.2662 - val_accuracy: 0.8833\n",
      "Epoch 2/7\n",
      "120/120 [==============================] - 298s 2s/step - loss: 0.2982 - accuracy: 0.8883 - val_loss: 0.1271 - val_accuracy: 0.9500\n",
      "Epoch 3/7\n",
      "120/120 [==============================] - 240s 2s/step - loss: 0.2179 - accuracy: 0.9083 - val_loss: 0.0891 - val_accuracy: 0.9833\n",
      "Epoch 4/7\n",
      "120/120 [==============================] - 241s 2s/step - loss: 0.2078 - accuracy: 0.9050 - val_loss: 0.1233 - val_accuracy: 0.9667\n",
      "Epoch 5/7\n",
      "120/120 [==============================] - 243s 2s/step - loss: 0.1554 - accuracy: 0.9383 - val_loss: 0.1493 - val_accuracy: 0.9167\n",
      "Epoch 6/7\n",
      "120/120 [==============================] - 249s 2s/step - loss: 0.1612 - accuracy: 0.9433 - val_loss: 0.0422 - val_accuracy: 1.0000\n",
      "Epoch 7/7\n",
      "120/120 [==============================] - 243s 2s/step - loss: 0.1546 - accuracy: 0.9400 - val_loss: 0.1500 - val_accuracy: 0.9167\n"
     ]
    }
   ],
   "source": [
    "batch_size=32\n",
    "STEP_SIZE_TRAIN = training_set.n//training_set.batch_size\n",
    "STEP_SIZE_VALID = test_set.n//test_set.batch_size\n",
    "\n",
    "# fit model\n",
    "history = model.fit(training_set, steps_per_epoch=STEP_SIZE_TRAIN,\n",
    "                    validation_data=test_set,\n",
    "                    validation_steps=STEP_SIZE_VALID,\n",
    "                    epochs=7,\n",
    "                    callbacks=[early])"
   ]
  },
  {
   "cell_type": "code",
   "execution_count": null,
   "id": "80845dc5",
   "metadata": {},
   "outputs": [],
   "source": []
  },
  {
   "cell_type": "code",
   "execution_count": null,
   "id": "20e1eb51",
   "metadata": {},
   "outputs": [],
   "source": []
  },
  {
   "cell_type": "code",
   "execution_count": null,
   "id": "0974f1e0",
   "metadata": {},
   "outputs": [],
   "source": []
  },
  {
   "cell_type": "code",
   "execution_count": null,
   "id": "9bf40866",
   "metadata": {},
   "outputs": [],
   "source": []
  },
  {
   "cell_type": "code",
   "execution_count": null,
   "id": "54e8f4ff",
   "metadata": {},
   "outputs": [],
   "source": []
  },
  {
   "cell_type": "code",
   "execution_count": null,
   "id": "7dcbaf03",
   "metadata": {},
   "outputs": [],
   "source": []
  }
 ],
 "metadata": {
  "kernelspec": {
   "display_name": "Python 3",
   "language": "python",
   "name": "python3"
  },
  "language_info": {
   "codemirror_mode": {
    "name": "ipython",
    "version": 3
   },
   "file_extension": ".py",
   "mimetype": "text/x-python",
   "name": "python",
   "nbconvert_exporter": "python",
   "pygments_lexer": "ipython3",
   "version": "3.8.13"
  }
 },
 "nbformat": 4,
 "nbformat_minor": 5
}
