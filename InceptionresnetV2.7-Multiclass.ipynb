{
 "cells": [
  {
   "cell_type": "code",
   "execution_count": 1,
   "id": "c1df2f76",
   "metadata": {},
   "outputs": [],
   "source": [
    "import numpy as np\n",
    "import pandas as pd\n",
    "import matplotlib.pyplot as plt\n",
    "\n",
    "from sklearn.metrics import classification_report, confusion_matrix\n",
    "\n",
    "import tensorflow as tf\n",
    "import keras\n",
    "from keras.preprocessing.image import ImageDataGenerator\n",
    "from tensorflow.keras import applications\n",
    "from keras.models import Sequential, load_model\n",
    "from keras.layers import Conv2D, MaxPooling2D, GlobalAveragePooling2D, Flatten, Dense, Dropout\n",
    "from keras.preprocessing import image\n",
    "\n",
    "import warnings\n",
    "warnings.filterwarnings('ignore')"
   ]
  },
  {
   "cell_type": "code",
   "execution_count": 2,
   "id": "0b58afc6",
   "metadata": {},
   "outputs": [],
   "source": [
    "# pip install seaborn"
   ]
  },
  {
   "cell_type": "code",
   "execution_count": 3,
   "id": "4041fd8f",
   "metadata": {},
   "outputs": [],
   "source": [
    "train_image='D:/Documents/Capstone/Project -2/Dataset/Full/train'"
   ]
  },
  {
   "cell_type": "code",
   "execution_count": 4,
   "id": "08da291f",
   "metadata": {},
   "outputs": [],
   "source": [
    "train_datagen=ImageDataGenerator(rescale=1./255,\n",
    "                                 zoom_range=0.2,\n",
    "                                 shear_range=0.1,\n",
    "                                vertical_flip=False)"
   ]
  },
  {
   "cell_type": "code",
   "execution_count": 5,
   "id": "8873babd",
   "metadata": {},
   "outputs": [
    {
     "name": "stdout",
     "output_type": "stream",
     "text": [
      "Found 1852 images belonging to 11 classes.\n"
     ]
    }
   ],
   "source": [
    "training_set=train_datagen.flow_from_directory(train_image,\n",
    "                                              target_size=(224,224),\n",
    "                                              class_mode='categorical',\n",
    "                                              batch_size=5)\n"
   ]
  },
  {
   "cell_type": "code",
   "execution_count": 6,
   "id": "999eacfc",
   "metadata": {},
   "outputs": [
    {
     "name": "stdout",
     "output_type": "stream",
     "text": [
      "Found 910 images belonging to 11 classes.\n"
     ]
    }
   ],
   "source": [
    "test_datagen = ImageDataGenerator(rescale = 1./255,\n",
    "                                 zoom_range=0.2)\n",
    "\n",
    "test_set=train_datagen.flow_from_directory('D:/Documents/Capstone/Project -2/Dataset/Full/test',\n",
    "                                              target_size=(224,224),\n",
    "                                              class_mode='categorical',\n",
    "                                              batch_size=5)"
   ]
  },
  {
   "cell_type": "code",
   "execution_count": 7,
   "id": "e83f23ad",
   "metadata": {},
   "outputs": [],
   "source": [
    "base_model = tf.keras.applications.InceptionResNetV2(\n",
    "                     include_top=False,\n",
    "                     weights='imagenet',\n",
    "                     input_shape=(224,224,3)\n",
    "                     )\n",
    " \n",
    "base_model.trainable=False\n",
    " \n",
    "model = tf.keras.Sequential([\n",
    "        base_model,  \n",
    "        tf.keras.layers.BatchNormalization(renorm=True),\n",
    "        tf.keras.layers.GlobalAveragePooling2D(),\n",
    "        tf.keras.layers.Dense(512, activation='relu'),\n",
    "        tf.keras.layers.Dense(256, activation='relu'),\n",
    "        tf.keras.layers.Dropout(0.5),\n",
    "        tf.keras.layers.Dense(128, activation='relu'),\n",
    "        tf.keras.layers.Dense(11, activation='softmax')\n",
    "    ])"
   ]
  },
  {
   "cell_type": "code",
   "execution_count": 8,
   "id": "d0f5c624",
   "metadata": {},
   "outputs": [],
   "source": [
    "model.compile(optimizer='Adam',loss='categorical_crossentropy',metrics=['accuracy', tf.keras.metrics.AUC(), tf.keras.metrics.Precision(), tf.keras.metrics.Recall(), tf.keras.metrics.TruePositives()])"
   ]
  },
  {
   "cell_type": "code",
   "execution_count": 9,
   "id": "2cb3a572",
   "metadata": {},
   "outputs": [
    {
     "name": "stdout",
     "output_type": "stream",
     "text": [
      "Model: \"sequential\"\n",
      "_________________________________________________________________\n",
      " Layer (type)                Output Shape              Param #   \n",
      "=================================================================\n",
      " inception_resnet_v2 (Functi  (None, 5, 5, 1536)       54336736  \n",
      " onal)                                                           \n",
      "                                                                 \n",
      " batch_normalization_203 (Ba  (None, 5, 5, 1536)       10752     \n",
      " tchNormalization)                                               \n",
      "                                                                 \n",
      " global_average_pooling2d (G  (None, 1536)             0         \n",
      " lobalAveragePooling2D)                                          \n",
      "                                                                 \n",
      " dense (Dense)               (None, 512)               786944    \n",
      "                                                                 \n",
      " dense_1 (Dense)             (None, 256)               131328    \n",
      "                                                                 \n",
      " dropout (Dropout)           (None, 256)               0         \n",
      "                                                                 \n",
      " dense_2 (Dense)             (None, 128)               32896     \n",
      "                                                                 \n",
      " dense_3 (Dense)             (None, 11)                1419      \n",
      "                                                                 \n",
      "=================================================================\n",
      "Total params: 55,300,075\n",
      "Trainable params: 955,659\n",
      "Non-trainable params: 54,344,416\n",
      "_________________________________________________________________\n"
     ]
    }
   ],
   "source": [
    "model.summary()"
   ]
  },
  {
   "cell_type": "code",
   "execution_count": 10,
   "id": "fd77bb5b",
   "metadata": {},
   "outputs": [],
   "source": [
    "early = tf.keras.callbacks.EarlyStopping(patience=10, min_delta=0.001, restore_best_weights=True)"
   ]
  },
  {
   "cell_type": "code",
   "execution_count": 11,
   "id": "0c54cc72",
   "metadata": {},
   "outputs": [
    {
     "name": "stdout",
     "output_type": "stream",
     "text": [
      "Epoch 1/10\n",
      "370/370 [==============================] - 1508s 4s/step - loss: 1.6933 - accuracy: 0.4607 - auc: 0.8559 - precision: 0.6289 - recall: 0.3303 - true_positives: 610.0000 - val_loss: 1.5007 - val_accuracy: 0.4945 - val_auc: 0.8775 - val_precision: 0.7132 - val_recall: 0.3143 - val_true_positives: 286.0000\n",
      "Epoch 2/10\n",
      "370/370 [==============================] - 1506s 4s/step - loss: 1.3561 - accuracy: 0.5847 - auc: 0.9078 - precision: 0.7226 - recall: 0.4640 - true_positives: 857.0000 - val_loss: 1.2030 - val_accuracy: 0.5967 - val_auc: 0.9214 - val_precision: 0.7966 - val_recall: 0.4648 - val_true_positives: 423.0000\n",
      "Epoch 3/10\n",
      "370/370 [==============================] - 1513s 4s/step - loss: 1.0742 - accuracy: 0.6486 - auc: 0.9394 - precision: 0.7736 - recall: 0.5365 - true_positives: 991.0000 - val_loss: 1.1095 - val_accuracy: 0.6824 - val_auc: 0.9342 - val_precision: 0.7900 - val_recall: 0.5209 - val_true_positives: 474.0000\n",
      "Epoch 4/10\n",
      "370/370 [==============================] - 1559s 4s/step - loss: 0.8950 - accuracy: 0.7228 - auc: 0.9566 - precision: 0.8258 - recall: 0.6264 - true_positives: 1157.0000 - val_loss: 0.9926 - val_accuracy: 0.6967 - val_auc: 0.9462 - val_precision: 0.8097 - val_recall: 0.5846 - val_true_positives: 532.0000\n",
      "Epoch 5/10\n",
      "370/370 [==============================] - 1551s 4s/step - loss: 0.8273 - accuracy: 0.7374 - auc: 0.9617 - precision: 0.8408 - recall: 0.6519 - true_positives: 1204.0000 - val_loss: 0.9762 - val_accuracy: 0.6945 - val_auc: 0.9494 - val_precision: 0.7776 - val_recall: 0.6264 - val_true_positives: 570.0000\n",
      "Epoch 6/10\n",
      "370/370 [==============================] - 1474s 4s/step - loss: 0.7722 - accuracy: 0.7596 - auc: 0.9667 - precision: 0.8386 - recall: 0.6838 - true_positives: 1263.0000 - val_loss: 0.9174 - val_accuracy: 0.7264 - val_auc: 0.9528 - val_precision: 0.8145 - val_recall: 0.6659 - val_true_positives: 606.0000\n",
      "Epoch 7/10\n",
      "370/370 [==============================] - 1503s 4s/step - loss: 0.6978 - accuracy: 0.7856 - auc: 0.9724 - precision: 0.8636 - recall: 0.7201 - true_positives: 1330.0000 - val_loss: 0.9359 - val_accuracy: 0.7066 - val_auc: 0.9507 - val_precision: 0.8115 - val_recall: 0.6527 - val_true_positives: 594.0000\n",
      "Epoch 8/10\n",
      "370/370 [==============================] - 1538s 4s/step - loss: 0.6539 - accuracy: 0.7888 - auc: 0.9755 - precision: 0.8545 - recall: 0.7282 - true_positives: 1345.0000 - val_loss: 0.9463 - val_accuracy: 0.7231 - val_auc: 0.9512 - val_precision: 0.8043 - val_recall: 0.6593 - val_true_positives: 600.0000\n",
      "Epoch 9/10\n",
      "370/370 [==============================] - 1508s 4s/step - loss: 0.6107 - accuracy: 0.8018 - auc: 0.9786 - precision: 0.8736 - recall: 0.7445 - true_positives: 1375.0000 - val_loss: 0.9572 - val_accuracy: 0.7374 - val_auc: 0.9511 - val_precision: 0.8233 - val_recall: 0.6758 - val_true_positives: 615.0000\n",
      "Epoch 10/10\n",
      "370/370 [==============================] - 1464s 4s/step - loss: 0.5655 - accuracy: 0.8213 - auc: 0.9798 - precision: 0.8873 - recall: 0.7759 - true_positives: 1433.0000 - val_loss: 0.8682 - val_accuracy: 0.7352 - val_auc: 0.9583 - val_precision: 0.8338 - val_recall: 0.6725 - val_true_positives: 612.0000\n"
     ]
    }
   ],
   "source": [
    "batch_size=512\n",
    "STEP_SIZE_TRAIN = training_set.n//training_set.batch_size\n",
    "STEP_SIZE_VALID = test_set.n//test_set.batch_size\n",
    "\n",
    "# fit model\n",
    "history = model.fit(training_set, steps_per_epoch=STEP_SIZE_TRAIN,\n",
    "                    validation_data=test_set,\n",
    "                    validation_steps=STEP_SIZE_VALID,\n",
    "                    epochs=10,\n",
    "                    callbacks=[early])"
   ]
  },
  {
   "cell_type": "code",
   "execution_count": 12,
   "id": "17a06aae",
   "metadata": {},
   "outputs": [
    {
     "data": {
      "image/png": "[encoded data removed]",
      "text/plain": [
       "<Figure size 432x288 with 1 Axes>"
      ]
     },
     "metadata": {
      "needs_background": "light"
     },
     "output_type": "display_data"
    }
   ],
   "source": [
    "from matplotlib import pyplot\n",
    "pyplot.plot(history.history['accuracy'])\n",
    "pyplot.show()"
   ]
  },
  {
   "cell_type": "code",
   "execution_count": null,
   "id": "daf538b2-ef9d-40a8-9b96-0180ab8b5309",
   "metadata": {},
   "outputs": [],
   "source": []
  }
 ],
 "metadata": {
  "kernelspec": {
   "display_name": "Python 3",
   "language": "python",
   "name": "python3"
  },
  "language_info": {
   "codemirror_mode": {
    "name": "ipython",
    "version": 3
   },
   "file_extension": ".py",
   "mimetype": "text/x-python",
   "name": "python",
   "nbconvert_exporter": "python",
   "pygments_lexer": "ipython3",
   "version": "3.8.13"
  }
 },
 "nbformat": 4,
 "nbformat_minor": 5
}
