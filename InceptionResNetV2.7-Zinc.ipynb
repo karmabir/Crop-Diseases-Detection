{
 "cells": [
  {
   "cell_type": "code",
   "execution_count": 1,
   "id": "b851425f",
   "metadata": {},
   "outputs": [],
   "source": [
    "import numpy as np\n",
    "import pandas as pd\n",
    "import matplotlib.pyplot as plt\n",
    "\n",
    "from sklearn.metrics import classification_report, confusion_matrix\n",
    "\n",
    "import tensorflow as tf\n",
    "import keras\n",
    "from keras.preprocessing.image import ImageDataGenerator\n",
    "from tensorflow.keras import applications\n",
    "from keras.models import Sequential, load_model\n",
    "from keras.layers import Conv2D, MaxPooling2D, GlobalAveragePooling2D, Flatten, Dense, Dropout\n",
    "from keras.preprocessing import image\n",
    "\n",
    "import warnings\n",
    "warnings.filterwarnings('ignore')"
   ]
  },
  {
   "cell_type": "code",
   "execution_count": 2,
   "id": "520c39e9",
   "metadata": {},
   "outputs": [],
   "source": [
    "train_image='D:/Documents/Capstone/Project -2/Dataset/zinc_Vs_non-Zinc/train'"
   ]
  },
  {
   "cell_type": "code",
   "execution_count": 3,
   "id": "1a2c6ad5",
   "metadata": {},
   "outputs": [],
   "source": [
    "train_datagen=ImageDataGenerator(rescale=1./255,\n",
    "                                 zoom_range=0.2,\n",
    "                                 shear_range=0.1,\n",
    "                                vertical_flip=False)"
   ]
  },
  {
   "cell_type": "code",
   "execution_count": 4,
   "id": "6adca7af",
   "metadata": {},
   "outputs": [
    {
     "name": "stdout",
     "output_type": "stream",
     "text": [
      "Found 600 images belonging to 2 classes.\n"
     ]
    }
   ],
   "source": [
    "training_set=train_datagen.flow_from_directory(train_image,\n",
    "                                              target_size=(224,224),\n",
    "                                              class_mode='categorical',\n",
    "                                              batch_size=5)\n"
   ]
  },
  {
   "cell_type": "code",
   "execution_count": 5,
   "id": "353ad03f",
   "metadata": {},
   "outputs": [
    {
     "name": "stdout",
     "output_type": "stream",
     "text": [
      "Found 60 images belonging to 2 classes.\n"
     ]
    }
   ],
   "source": [
    "test_datagen = ImageDataGenerator(rescale = 1./255,\n",
    "                                 zoom_range=0.2)\n",
    "\n",
    "test_set=train_datagen.flow_from_directory('D:/Documents/Capstone/Project -2/Dataset/zinc_Vs_non-Zinc/test',\n",
    "                                              target_size=(224,224),\n",
    "                                              class_mode='categorical',\n",
    "                                              batch_size=5)"
   ]
  },
  {
   "cell_type": "code",
   "execution_count": 6,
   "id": "7e9ae3ac",
   "metadata": {},
   "outputs": [],
   "source": [
    "base_model = tf.keras.applications.InceptionResNetV2(\n",
    "                     include_top=False,\n",
    "                     weights='imagenet',\n",
    "                     input_shape=(224,224,3)\n",
    "                     )\n",
    " \n",
    "base_model.trainable=False\n",
    " \n",
    "model = tf.keras.Sequential([\n",
    "        base_model,  \n",
    "        tf.keras.layers.BatchNormalization(renorm=True),\n",
    "        tf.keras.layers.GlobalAveragePooling2D(),\n",
    "        tf.keras.layers.Dense(512, activation='relu'),\n",
    "        tf.keras.layers.Dense(256, activation='relu'),\n",
    "        tf.keras.layers.Dropout(0.5),\n",
    "        tf.keras.layers.Dense(128, activation='relu'),\n",
    "        tf.keras.layers.Dense(2, activation='softmax')\n",
    "    ])"
   ]
  },
  {
   "cell_type": "code",
   "execution_count": 7,
   "id": "f8dcc202",
   "metadata": {},
   "outputs": [],
   "source": [
    "model.compile(optimizer='Adam',loss='categorical_crossentropy',metrics=['accuracy'])"
   ]
  },
  {
   "cell_type": "code",
   "execution_count": 8,
   "id": "80ec9e48",
   "metadata": {},
   "outputs": [
    {
     "name": "stdout",
     "output_type": "stream",
     "text": [
      "Model: \"sequential\"\n",
      "_________________________________________________________________\n",
      " Layer (type)                Output Shape              Param #   \n",
      "=================================================================\n",
      " inception_resnet_v2 (Functi  (None, 5, 5, 1536)       54336736  \n",
      " onal)                                                           \n",
      "                                                                 \n",
      " batch_normalization_203 (Ba  (None, 5, 5, 1536)       10752     \n",
      " tchNormalization)                                               \n",
      "                                                                 \n",
      " global_average_pooling2d (G  (None, 1536)             0         \n",
      " lobalAveragePooling2D)                                          \n",
      "                                                                 \n",
      " dense (Dense)               (None, 512)               786944    \n",
      "                                                                 \n",
      " dense_1 (Dense)             (None, 256)               131328    \n",
      "                                                                 \n",
      " dropout (Dropout)           (None, 256)               0         \n",
      "                                                                 \n",
      " dense_2 (Dense)             (None, 128)               32896     \n",
      "                                                                 \n",
      " dense_3 (Dense)             (None, 2)                 258       \n",
      "                                                                 \n",
      "=================================================================\n",
      "Total params: 55,298,914\n",
      "Trainable params: 954,498\n",
      "Non-trainable params: 54,344,416\n",
      "_________________________________________________________________\n"
     ]
    }
   ],
   "source": [
    "model.summary()"
   ]
  },
  {
   "cell_type": "code",
   "execution_count": 9,
   "id": "2d7036ed",
   "metadata": {},
   "outputs": [],
   "source": [
    "early = tf.keras.callbacks.EarlyStopping(patience=10, min_delta=0.001, restore_best_weights=True)"
   ]
  },
  {
   "cell_type": "code",
   "execution_count": 10,
   "id": "8f1c0447",
   "metadata": {},
   "outputs": [
    {
     "name": "stdout",
     "output_type": "stream",
     "text": [
      "Epoch 1/10\n",
      "120/120 [==============================] - 172s 1s/step - loss: 0.6797 - accuracy: 0.7150 - val_loss: 0.5557 - val_accuracy: 0.8000\n",
      "Epoch 2/10\n",
      "120/120 [==============================] - 159s 1s/step - loss: 0.5007 - accuracy: 0.8300 - val_loss: 0.3315 - val_accuracy: 0.9000\n",
      "Epoch 3/10\n",
      "120/120 [==============================] - 152s 1s/step - loss: 0.4130 - accuracy: 0.8800 - val_loss: 0.6015 - val_accuracy: 0.8667\n",
      "Epoch 4/10\n",
      "120/120 [==============================] - 149s 1s/step - loss: 0.3133 - accuracy: 0.9083 - val_loss: 0.1656 - val_accuracy: 0.9500\n",
      "Epoch 5/10\n",
      "120/120 [==============================] - 158s 1s/step - loss: 0.2129 - accuracy: 0.9450 - val_loss: 0.1847 - val_accuracy: 0.9333\n",
      "Epoch 6/10\n",
      "120/120 [==============================] - 157s 1s/step - loss: 0.1527 - accuracy: 0.9450 - val_loss: 0.0767 - val_accuracy: 0.9833\n",
      "Epoch 7/10\n",
      "120/120 [==============================] - 159s 1s/step - loss: 0.1260 - accuracy: 0.9517 - val_loss: 0.0759 - val_accuracy: 0.9833\n",
      "Epoch 8/10\n",
      "120/120 [==============================] - 158s 1s/step - loss: 0.1199 - accuracy: 0.9550 - val_loss: 0.1052 - val_accuracy: 0.9667\n",
      "Epoch 9/10\n",
      "120/120 [==============================] - 158s 1s/step - loss: 0.1004 - accuracy: 0.9583 - val_loss: 0.1136 - val_accuracy: 0.9333\n",
      "Epoch 10/10\n",
      "120/120 [==============================] - 161s 1s/step - loss: 0.1129 - accuracy: 0.9517 - val_loss: 0.0138 - val_accuracy: 1.0000\n"
     ]
    }
   ],
   "source": [
    "batch_size=32\n",
    "STEP_SIZE_TRAIN = training_set.n//training_set.batch_size\n",
    "STEP_SIZE_VALID = test_set.n//test_set.batch_size\n",
    "\n",
    "# fit model\n",
    "history = model.fit(training_set, steps_per_epoch=STEP_SIZE_TRAIN,\n",
    "                    validation_data=test_set,\n",
    "                    validation_steps=STEP_SIZE_VALID,\n",
    "                    epochs=10,\n",
    "                    callbacks=[early])"
   ]
  },
  {
   "cell_type": "code",
   "execution_count": null,
   "id": "b905ec8a",
   "metadata": {},
   "outputs": [],
   "source": []
  }
 ],
 "metadata": {
  "kernelspec": {
   "display_name": "Python 3 (ipykernel)",
   "language": "python",
   "name": "python3"
  },
  "language_info": {
   "codemirror_mode": {
    "name": "ipython",
    "version": 3
   },
   "file_extension": ".py",
   "mimetype": "text/x-python",
   "name": "python",
   "nbconvert_exporter": "python",
   "pygments_lexer": "ipython3",
   "version": "3.8.13"
  }
 },
 "nbformat": 4,
 "nbformat_minor": 5
}
