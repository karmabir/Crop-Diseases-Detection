{
 "cells": [
  {
   "cell_type": "code",
   "execution_count": 1,
   "id": "bbd7351f",
   "metadata": {},
   "outputs": [],
   "source": [
    "import numpy as np\n",
    "import pandas as pd\n",
    "import matplotlib.pyplot as plt\n",
    "\n",
    "from sklearn.metrics import classification_report, confusion_matrix\n",
    "\n",
    "import tensorflow as tf\n",
    "import keras\n",
    "from keras.preprocessing.image import ImageDataGenerator\n",
    "from tensorflow.keras import applications\n",
    "from keras.models import Sequential, load_model\n",
    "from keras.layers import Conv2D, MaxPooling2D, GlobalAveragePooling2D, Flatten, Dense, Dropout\n",
    "from keras.preprocessing import image\n",
    "\n",
    "import warnings\n",
    "warnings.filterwarnings('ignore')"
   ]
  },
  {
   "cell_type": "code",
   "execution_count": 2,
   "id": "7fec1e9c",
   "metadata": {},
   "outputs": [],
   "source": [
    "train_image='D:/Documents/Capstone/Project -2/New Bangladeshi/BangladeshiCrops/BangladeshiCrops/Train'"
   ]
  },
  {
   "cell_type": "code",
   "execution_count": 3,
   "id": "516c1309",
   "metadata": {},
   "outputs": [
    {
     "name": "stdout",
     "output_type": "stream",
     "text": [
      "Found 10554 images belonging to 14 classes.\n"
     ]
    }
   ],
   "source": [
    "train_datagen=ImageDataGenerator(rescale=1./255,\n",
    "                                 zoom_range=0.2,\n",
    "                                 shear_range=0.1,\n",
    "                                vertical_flip=False)\n",
    "training_set=train_datagen.flow_from_directory(train_image,\n",
    "                                              target_size=(224,224),\n",
    "                                              class_mode='categorical',\n",
    "                                              batch_size=256)"
   ]
  },
  {
   "cell_type": "code",
   "execution_count": 4,
   "id": "aceb2573",
   "metadata": {},
   "outputs": [
    {
     "name": "stdout",
     "output_type": "stream",
     "text": [
      "Found 2470 images belonging to 14 classes.\n"
     ]
    }
   ],
   "source": [
    "test_datagen = ImageDataGenerator(rescale = 1./255,\n",
    "                                 zoom_range=0.2)\n",
    "\n",
    "test_set=test_datagen.flow_from_directory('D:/Documents/Capstone/Project -2/New Bangladeshi/BangladeshiCrops/BangladeshiCrops/Test',\n",
    "                                              target_size=(224,224),\n",
    "                                              class_mode='categorical',\n",
    "                                              batch_size=256)"
   ]
  },
  {
   "cell_type": "code",
   "execution_count": 5,
   "id": "bf4819ae",
   "metadata": {},
   "outputs": [],
   "source": [
    "base_model = tf.keras.applications.InceptionResNetV2(\n",
    "                     include_top=False,\n",
    "                     weights='imagenet',\n",
    "                     input_shape=(224,224,3)\n",
    "                     )\n",
    " \n",
    "base_model.trainable=False\n",
    " \n",
    "model = tf.keras.Sequential([\n",
    "        base_model,  \n",
    "        tf.keras.layers.BatchNormalization(renorm=True),\n",
    "        tf.keras.layers.GlobalAveragePooling2D(),\n",
    "        tf.keras.layers.Dense(512, activation='relu'),\n",
    "        tf.keras.layers.Dense(256, activation='relu'),\n",
    "        tf.keras.layers.Dense(256, activation='relu'),\n",
    "        tf.keras.layers.Dropout(0.5),\n",
    "        tf.keras.layers.Dense(128, activation='relu'),\n",
    "        tf.keras.layers.Dense(128, activation='relu'),\n",
    "        tf.keras.layers.Dense(14, activation='softmax')\n",
    "    ])"
   ]
  },
  {
   "cell_type": "code",
   "execution_count": 12,
   "id": "36a1447c",
   "metadata": {},
   "outputs": [],
   "source": [
    "model.compile(optimizer='Adam',loss='categorical_crossentropy',metrics=['accuracy', tf.keras.metrics.AUC(), tf.keras.metrics.Precision(), tf.keras.metrics.Recall(), tf.keras.metrics.TruePositives()])"
   ]
  },
  {
   "cell_type": "code",
   "execution_count": 7,
   "id": "3399b790",
   "metadata": {},
   "outputs": [
    {
     "name": "stdout",
     "output_type": "stream",
     "text": [
      "Model: \"sequential\"\n",
      "_________________________________________________________________\n",
      " Layer (type)                Output Shape              Param #   \n",
      "=================================================================\n",
      " inception_resnet_v2 (Functi  (None, 5, 5, 1536)       54336736  \n",
      " onal)                                                           \n",
      "                                                                 \n",
      " batch_normalization_203 (Ba  (None, 5, 5, 1536)       10752     \n",
      " tchNormalization)                                               \n",
      "                                                                 \n",
      " global_average_pooling2d (G  (None, 1536)             0         \n",
      " lobalAveragePooling2D)                                          \n",
      "                                                                 \n",
      " dense (Dense)               (None, 512)               786944    \n",
      "                                                                 \n",
      " dense_1 (Dense)             (None, 256)               131328    \n",
      "                                                                 \n",
      " dense_2 (Dense)             (None, 256)               65792     \n",
      "                                                                 \n",
      " dropout (Dropout)           (None, 256)               0         \n",
      "                                                                 \n",
      " dense_3 (Dense)             (None, 128)               32896     \n",
      "                                                                 \n",
      " dense_4 (Dense)             (None, 128)               16512     \n",
      "                                                                 \n",
      " dense_5 (Dense)             (None, 14)                1806      \n",
      "                                                                 \n",
      "=================================================================\n",
      "Total params: 55,382,766\n",
      "Trainable params: 1,038,350\n",
      "Non-trainable params: 54,344,416\n",
      "_________________________________________________________________\n"
     ]
    }
   ],
   "source": [
    "model.summary()"
   ]
  },
  {
   "cell_type": "code",
   "execution_count": 8,
   "id": "cf7abea5",
   "metadata": {},
   "outputs": [],
   "source": [
    "# model.compile(optimizer='Adam',loss='categorical_crossentropy',metrics=['accuracy'])"
   ]
  },
  {
   "cell_type": "code",
   "execution_count": 13,
   "id": "70e50e2c",
   "metadata": {},
   "outputs": [],
   "source": [
    "early = tf.keras.callbacks.EarlyStopping(patience=10, min_delta=0.001, restore_best_weights=True)"
   ]
  },
  {
   "cell_type": "code",
   "execution_count": 14,
   "id": "8c5d37b6",
   "metadata": {},
   "outputs": [
    {
     "name": "stdout",
     "output_type": "stream",
     "text": [
      "Epoch 1/8\n",
      "41/41 [==============================] - 1259s 31s/step - loss: 0.2385 - accuracy: 0.9116 - auc_1: 0.9968 - precision_1: 0.9215 - recall_1: 0.9044 - true_positives_1: 9314.0000 - val_loss: 0.4902 - val_accuracy: 0.8659 - val_auc_1: 0.9806 - val_precision_1: 0.8708 - val_recall_1: 0.8598 - val_true_positives_1: 1981.0000\n",
      "Epoch 2/8\n",
      "41/41 [==============================] - 1265s 31s/step - loss: 0.2124 - accuracy: 0.9233 - auc_1: 0.9974 - precision_1: 0.9297 - recall_1: 0.9167 - true_positives_1: 9440.0000 - val_loss: 0.5044 - val_accuracy: 0.8537 - val_auc_1: 0.9824 - val_precision_1: 0.8611 - val_recall_1: 0.8451 - val_true_positives_1: 1947.0000\n",
      "Epoch 3/8\n",
      "41/41 [==============================] - 1035s 25s/step - loss: 0.1968 - accuracy: 0.9271 - auc_1: 0.9978 - precision_1: 0.9336 - recall_1: 0.9198 - true_positives_1: 9472.0000 - val_loss: 0.5252 - val_accuracy: 0.8511 - val_auc_1: 0.9809 - val_precision_1: 0.8586 - val_recall_1: 0.8485 - val_true_positives_1: 1955.0000\n",
      "Epoch 4/8\n",
      "41/41 [==============================] - 1031s 25s/step - loss: 0.1926 - accuracy: 0.9289 - auc_1: 0.9978 - precision_1: 0.9355 - recall_1: 0.9234 - true_positives_1: 9509.0000 - val_loss: 0.5363 - val_accuracy: 0.8481 - val_auc_1: 0.9816 - val_precision_1: 0.8535 - val_recall_1: 0.8420 - val_true_positives_1: 1940.0000\n",
      "Epoch 5/8\n",
      "41/41 [==============================] - 1033s 25s/step - loss: 0.1888 - accuracy: 0.9301 - auc_1: 0.9981 - precision_1: 0.9355 - recall_1: 0.9228 - true_positives_1: 9503.0000 - val_loss: 0.6641 - val_accuracy: 0.8411 - val_auc_1: 0.9699 - val_precision_1: 0.8487 - val_recall_1: 0.8329 - val_true_positives_1: 1919.0000\n",
      "Epoch 6/8\n",
      "41/41 [==============================] - 1037s 25s/step - loss: 0.1741 - accuracy: 0.9360 - auc_1: 0.9980 - precision_1: 0.9407 - recall_1: 0.9304 - true_positives_1: 9581.0000 - val_loss: 0.5551 - val_accuracy: 0.8533 - val_auc_1: 0.9794 - val_precision_1: 0.8570 - val_recall_1: 0.8455 - val_true_positives_1: 1948.0000\n",
      "Epoch 7/8\n",
      "41/41 [==============================] - 1030s 25s/step - loss: 0.1671 - accuracy: 0.9384 - auc_1: 0.9985 - precision_1: 0.9439 - recall_1: 0.9324 - true_positives_1: 9602.0000 - val_loss: 0.5915 - val_accuracy: 0.8546 - val_auc_1: 0.9743 - val_precision_1: 0.8630 - val_recall_1: 0.8503 - val_true_positives_1: 1959.0000\n",
      "Epoch 8/8\n",
      "41/41 [==============================] - 1032s 25s/step - loss: 0.1745 - accuracy: 0.9338 - auc_1: 0.9983 - precision_1: 0.9403 - recall_1: 0.9279 - true_positives_1: 9556.0000 - val_loss: 0.5704 - val_accuracy: 0.8524 - val_auc_1: 0.9770 - val_precision_1: 0.8606 - val_recall_1: 0.8468 - val_true_positives_1: 1951.0000\n"
     ]
    }
   ],
   "source": [
    "batch_size=512\n",
    "STEP_SIZE_TRAIN = training_set.n//training_set.batch_size\n",
    "STEP_SIZE_VALID = test_set.n//test_set.batch_size\n",
    "\n",
    "# fit model\n",
    "history = model.fit(training_set, steps_per_epoch=STEP_SIZE_TRAIN,\n",
    "                    validation_data=test_set,\n",
    "                    validation_steps=STEP_SIZE_VALID,\n",
    "                    epochs=8,\n",
    "                    callbacks=[early])"
   ]
  },
  {
   "cell_type": "code",
   "execution_count": 11,
   "id": "433a1f30",
   "metadata": {},
   "outputs": [
    {
     "data": {
      "image/png": "[encoded data removed]",
      "text/plain": [
       "<Figure size 432x288 with 1 Axes>"
      ]
     },
     "metadata": {
      "needs_background": "light"
     },
     "output_type": "display_data"
    }
   ],
   "source": [
    "from matplotlib import pyplot\n",
    "pyplot.plot(history.history['accuracy'])\n",
    "pyplot.show()"
   ]
  }
 ],
 "metadata": {
  "kernelspec": {
   "display_name": "Python 3",
   "language": "python",
   "name": "python3"
  },
  "language_info": {
   "codemirror_mode": {
    "name": "ipython",
    "version": 3
   },
   "file_extension": ".py",
   "mimetype": "text/x-python",
   "name": "python",
   "nbconvert_exporter": "python",
   "pygments_lexer": "ipython3",
   "version": "3.8.13"
  }
 },
 "nbformat": 4,
 "nbformat_minor": 5
}
