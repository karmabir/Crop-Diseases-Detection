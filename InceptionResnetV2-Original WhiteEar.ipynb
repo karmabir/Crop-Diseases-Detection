{
 "cells": [
  {
   "cell_type": "code",
   "execution_count": 1,
   "id": "7b7a2ecd",
   "metadata": {},
   "outputs": [],
   "source": [
    "import numpy as np\n",
    "import pandas as pd\n",
    "import matplotlib.pyplot as plt\n",
    "\n",
    "from sklearn.metrics import classification_report, confusion_matrix\n",
    "\n",
    "import tensorflow as tf\n",
    "import keras\n",
    "from keras.preprocessing.image import ImageDataGenerator\n",
    "from tensorflow.keras import applications\n",
    "from keras.models import Sequential, load_model\n",
    "from keras.layers import Conv2D, MaxPooling2D, GlobalAveragePooling2D, Flatten, Dense, Dropout\n",
    "from keras.preprocessing import image\n",
    "\n",
    "import warnings\n",
    "warnings.filterwarnings('ignore')"
   ]
  },
  {
   "cell_type": "code",
   "execution_count": 2,
   "id": "34bd2130",
   "metadata": {},
   "outputs": [],
   "source": [
    "train_image='D:/Documents/Capstone/Project -2/Dataset/white_ear_Vs_non-white_ear/train'"
   ]
  },
  {
   "cell_type": "code",
   "execution_count": 3,
   "id": "0dd60561",
   "metadata": {},
   "outputs": [],
   "source": [
    "train_datagen=ImageDataGenerator(rescale=1./255,\n",
    "                                 zoom_range=0.2,\n",
    "                                 shear_range=0.1,\n",
    "                                vertical_flip=False)"
   ]
  },
  {
   "cell_type": "code",
   "execution_count": 4,
   "id": "b31e6323",
   "metadata": {},
   "outputs": [
    {
     "name": "stdout",
     "output_type": "stream",
     "text": [
      "Found 4958 images belonging to 2 classes.\n"
     ]
    }
   ],
   "source": [
    "training_set=train_datagen.flow_from_directory(train_image,\n",
    "                                              target_size=(224,224),\n",
    "                                              class_mode='categorical',\n",
    "                                              batch_size=5)"
   ]
  },
  {
   "cell_type": "code",
   "execution_count": 5,
   "id": "12d2db9f",
   "metadata": {},
   "outputs": [
    {
     "name": "stdout",
     "output_type": "stream",
     "text": [
      "Found 508 images belonging to 2 classes.\n"
     ]
    }
   ],
   "source": [
    "test_datagen = ImageDataGenerator(rescale = 1./255,\n",
    "                                 zoom_range=0.2)\n",
    "\n",
    "test_set=train_datagen.flow_from_directory('D:/Documents/Capstone/Project -2/Dataset/white_ear_Vs_non-white_ear/test',\n",
    "                                              target_size=(224,224),\n",
    "                                              class_mode='categorical',\n",
    "                                              batch_size=5)"
   ]
  },
  {
   "cell_type": "code",
   "execution_count": 6,
   "id": "6de8b6a2",
   "metadata": {},
   "outputs": [
    {
     "name": "stdout",
     "output_type": "stream",
     "text": [
      "Model: \"sequential\"\n",
      "_________________________________________________________________\n",
      " Layer (type)                Output Shape              Param #   \n",
      "=================================================================\n",
      " inception_resnet_v2 (Functi  (None, 5, 5, 1536)       54336736  \n",
      " onal)                                                           \n",
      "                                                                 \n",
      " batch_normalization_203 (Ba  (None, 5, 5, 1536)       10752     \n",
      " tchNormalization)                                               \n",
      "                                                                 \n",
      " global_average_pooling2d (G  (None, 1536)             0         \n",
      " lobalAveragePooling2D)                                          \n",
      "                                                                 \n",
      " dense (Dense)               (None, 2)                 3074      \n",
      "                                                                 \n",
      "=================================================================\n",
      "Total params: 54,350,562\n",
      "Trainable params: 6,146\n",
      "Non-trainable params: 54,344,416\n",
      "_________________________________________________________________\n",
      "Epoch 1/10\n",
      "991/991 [==============================] - 5995s 6s/step - loss: 0.3225 - accuracy: 0.8631 - val_loss: 0.2110 - val_accuracy: 0.9188\n",
      "Epoch 2/10\n",
      "991/991 [==============================] - 4538s 5s/step - loss: 0.2186 - accuracy: 0.9122 - val_loss: 0.2468 - val_accuracy: 0.9248\n",
      "Epoch 3/10\n",
      "991/991 [==============================] - 4216s 4s/step - loss: 0.2146 - accuracy: 0.9186 - val_loss: 0.2361 - val_accuracy: 0.9248\n",
      "Epoch 4/10\n",
      "991/991 [==============================] - 3453s 3s/step - loss: 0.1930 - accuracy: 0.9205 - val_loss: 0.2160 - val_accuracy: 0.9208\n",
      "Epoch 5/10\n",
      "991/991 [==============================] - 2671s 3s/step - loss: 0.1800 - accuracy: 0.9336 - val_loss: 0.1514 - val_accuracy: 0.9426\n",
      "Epoch 6/10\n",
      "991/991 [==============================] - 2288s 2s/step - loss: 0.1683 - accuracy: 0.9382 - val_loss: 0.1748 - val_accuracy: 0.9307\n",
      "Epoch 7/10\n",
      "991/991 [==============================] - 2136s 2s/step - loss: 0.1669 - accuracy: 0.9368 - val_loss: 0.1908 - val_accuracy: 0.9386\n",
      "Epoch 8/10\n",
      "991/991 [==============================] - 2121s 2s/step - loss: 0.1764 - accuracy: 0.9334 - val_loss: 0.2077 - val_accuracy: 0.9267\n",
      "Epoch 9/10\n",
      "991/991 [==============================] - 1658s 2s/step - loss: 0.1682 - accuracy: 0.9364 - val_loss: 0.1850 - val_accuracy: 0.9366\n",
      "Epoch 10/10\n",
      "991/991 [==============================] - 1574s 2s/step - loss: 0.1525 - accuracy: 0.9429 - val_loss: 0.2110 - val_accuracy: 0.9307\n"
     ]
    }
   ],
   "source": [
    "base_model = tf.keras.applications.InceptionResNetV2(\n",
    "                     include_top=False,\n",
    "                     weights='imagenet',\n",
    "                     input_shape=(224,224,3)\n",
    "                     )\n",
    " \n",
    "base_model.trainable=False\n",
    " \n",
    "model = tf.keras.Sequential([\n",
    "        base_model,  \n",
    "        tf.keras.layers.BatchNormalization(renorm=True),\n",
    "        tf.keras.layers.GlobalAveragePooling2D(),\n",
    "        tf.keras.layers.Dense(2, activation='softmax')\n",
    "    ])\n",
    "model.compile(optimizer='Adam',loss='categorical_crossentropy',metrics=['accuracy'])\n",
    "model.summary()\n",
    "early = tf.keras.callbacks.EarlyStopping(patience=10, min_delta=0.001, restore_best_weights=True)\n",
    "batch_size=32\n",
    "STEP_SIZE_TRAIN = training_set.n//training_set.batch_size\n",
    "STEP_SIZE_VALID = test_set.n//test_set.batch_size\n",
    "\n",
    "# fit model\n",
    "history = model.fit(training_set, steps_per_epoch=STEP_SIZE_TRAIN,\n",
    "                    validation_data=test_set,\n",
    "                    validation_steps=STEP_SIZE_VALID,\n",
    "                    epochs=10,\n",
    "                    callbacks=[early])"
   ]
  },
  {
   "cell_type": "code",
   "execution_count": null,
   "id": "c7a742d9",
   "metadata": {},
   "outputs": [],
   "source": []
  }
 ],
 "metadata": {
  "kernelspec": {
   "display_name": "Python 3 (ipykernel)",
   "language": "python",
   "name": "python3"
  },
  "language_info": {
   "codemirror_mode": {
    "name": "ipython",
    "version": 3
   },
   "file_extension": ".py",
   "mimetype": "text/x-python",
   "name": "python",
   "nbconvert_exporter": "python",
   "pygments_lexer": "ipython3",
   "version": "3.8.13"
  }
 },
 "nbformat": 4,
 "nbformat_minor": 5
}
