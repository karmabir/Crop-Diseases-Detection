{
 "cells": [
  {
   "cell_type": "code",
   "execution_count": 1,
   "id": "fb57e4c1",
   "metadata": {},
   "outputs": [],
   "source": [
    "import numpy as np\n",
    "import pandas as pd\n",
    "import matplotlib.pyplot as plt\n",
    "\n",
    "from sklearn.metrics import classification_report, confusion_matrix\n",
    "\n",
    "import tensorflow as tf\n",
    "import keras\n",
    "from keras.preprocessing.image import ImageDataGenerator\n",
    "from tensorflow.keras import applications\n",
    "from keras.models import Sequential, load_model\n",
    "from keras.layers import Conv2D, MaxPooling2D, GlobalAveragePooling2D, Flatten, Dense, Dropout\n",
    "from keras.preprocessing import image\n",
    "\n",
    "import warnings\n",
    "warnings.filterwarnings('ignore')"
   ]
  },
  {
   "cell_type": "code",
   "execution_count": 2,
   "id": "f92db55b",
   "metadata": {},
   "outputs": [],
   "source": [
    "train_image='D:/Documents/Capstone/Project -2/New Plant Diseases Dataset(Augmented)/New Plant Diseases Dataset(Augmented)/New Plant Diseases Dataset(Augmented)/train'"
   ]
  },
  {
   "cell_type": "code",
   "execution_count": 3,
   "id": "ca0e7518",
   "metadata": {},
   "outputs": [],
   "source": [
    "train_datagen=ImageDataGenerator(rescale=1./255,\n",
    "                                 zoom_range=0.2,\n",
    "                                 shear_range=0.1,\n",
    "                                vertical_flip=False)"
   ]
  },
  {
   "cell_type": "code",
   "execution_count": 4,
   "id": "3a469bf6",
   "metadata": {},
   "outputs": [
    {
     "name": "stdout",
     "output_type": "stream",
     "text": [
      "Found 47454 images belonging to 35 classes.\n"
     ]
    }
   ],
   "source": [
    "training_set=train_datagen.flow_from_directory(train_image,\n",
    "                                              target_size=(224,224),\n",
    "                                              class_mode='categorical',\n",
    "                                              batch_size=5)"
   ]
  },
  {
   "cell_type": "code",
   "execution_count": 5,
   "id": "e56478a0",
   "metadata": {},
   "outputs": [
    {
     "name": "stdout",
     "output_type": "stream",
     "text": [
      "Found 14321 images belonging to 35 classes.\n"
     ]
    }
   ],
   "source": [
    "test_datagen = ImageDataGenerator(rescale = 1./255,\n",
    "                                 zoom_range=0.2)\n",
    "\n",
    "test_set=test_datagen.flow_from_directory('D:/Documents/Capstone/Project -2/New Plant Diseases Dataset(Augmented)/New Plant Diseases Dataset(Augmented)/New Plant Diseases Dataset(Augmented)/valid',\n",
    "                                              target_size=(224,224),\n",
    "                                              class_mode='categorical',\n",
    "                                              batch_size=5)"
   ]
  },
  {
   "cell_type": "code",
   "execution_count": 6,
   "id": "bcef6f55",
   "metadata": {},
   "outputs": [],
   "source": [
    "base_model = tf.keras.applications.InceptionResNetV2(\n",
    "                     include_top=False,\n",
    "                     weights='imagenet',\n",
    "                     input_shape=(224,224,3)\n",
    "                     )\n",
    " \n",
    "base_model.trainable=False\n",
    " \n",
    "model = tf.keras.Sequential([\n",
    "        base_model,  \n",
    "        tf.keras.layers.BatchNormalization(renorm=True),\n",
    "        tf.keras.layers.GlobalAveragePooling2D(),\n",
    "        tf.keras.layers.Dense(256, activation='relu'),\n",
    "        tf.keras.layers.Dense(128, activation='relu'),\n",
    "        tf.keras.layers.Dense(35, activation='softmax')\n",
    "    ])"
   ]
  },
  {
   "cell_type": "code",
   "execution_count": 7,
   "id": "908f6528",
   "metadata": {},
   "outputs": [],
   "source": [
    "model.compile(optimizer='Adam',loss='categorical_crossentropy',metrics=['accuracy', tf.keras.metrics.AUC(), tf.keras.metrics.Precision(), tf.keras.metrics.Recall(), tf.keras.metrics.TruePositives()])"
   ]
  },
  {
   "cell_type": "code",
   "execution_count": 8,
   "id": "5511e523",
   "metadata": {},
   "outputs": [
    {
     "name": "stdout",
     "output_type": "stream",
     "text": [
      "Model: \"sequential\"\n",
      "_________________________________________________________________\n",
      " Layer (type)                Output Shape              Param #   \n",
      "=================================================================\n",
      " inception_resnet_v2 (Functi  (None, 5, 5, 1536)       54336736  \n",
      " onal)                                                           \n",
      "                                                                 \n",
      " batch_normalization_203 (Ba  (None, 5, 5, 1536)       10752     \n",
      " tchNormalization)                                               \n",
      "                                                                 \n",
      " global_average_pooling2d (G  (None, 1536)             0         \n",
      " lobalAveragePooling2D)                                          \n",
      "                                                                 \n",
      " dense (Dense)               (None, 256)               393472    \n",
      "                                                                 \n",
      " dense_1 (Dense)             (None, 128)               32896     \n",
      "                                                                 \n",
      " dense_2 (Dense)             (None, 35)                4515      \n",
      "                                                                 \n",
      "=================================================================\n",
      "Total params: 54,778,371\n",
      "Trainable params: 433,955\n",
      "Non-trainable params: 54,344,416\n",
      "_________________________________________________________________\n"
     ]
    }
   ],
   "source": [
    "model.summary()"
   ]
  },
  {
   "cell_type": "code",
   "execution_count": 9,
   "id": "7fa0483d",
   "metadata": {},
   "outputs": [],
   "source": [
    "early = tf.keras.callbacks.EarlyStopping(patience=10, min_delta=0.001, restore_best_weights=True)"
   ]
  },
  {
   "cell_type": "code",
   "execution_count": 10,
   "id": "3e2e1f38",
   "metadata": {},
   "outputs": [
    {
     "name": "stdout",
     "output_type": "stream",
     "text": [
      "Epoch 1/8\n",
      "9490/9490 [==============================] - 12731s 1s/step - loss: 0.5677 - accuracy: 0.8266 - auc: 0.9891 - precision: 0.8799 - recall: 0.7898 - true_positives: 37477.0000 - val_loss: 5.6723 - val_accuracy: 0.5986 - val_auc: 0.8547 - val_precision: 0.6151 - val_recall: 0.5784 - val_true_positives: 8283.0000\n",
      "Epoch 2/8\n",
      "9490/9490 [==============================] - 6735s 710ms/step - loss: 0.3217 - accuracy: 0.9001 - auc: 0.9946 - precision: 0.9209 - recall: 0.8833 - true_positives: 41910.0000 - val_loss: 6.6897 - val_accuracy: 0.6146 - val_auc: 0.8531 - val_precision: 0.6293 - val_recall: 0.5990 - val_true_positives: 8578.0000\n",
      "Epoch 3/8\n",
      "9490/9490 [==============================] - 8385s 884ms/step - loss: 0.2705 - accuracy: 0.9179 - auc: 0.9953 - precision: 0.9333 - recall: 0.9062 - true_positives: 42998.0000 - val_loss: 8.3463 - val_accuracy: 0.6257 - val_auc: 0.8493 - val_precision: 0.6370 - val_recall: 0.6168 - val_true_positives: 8832.0000\n",
      "Epoch 4/8\n",
      "9490/9490 [==============================] - 11910s 1s/step - loss: 0.2393 - accuracy: 0.9278 - auc: 0.9956 - precision: 0.9411 - recall: 0.9181 - true_positives: 43564.0000 - val_loss: 9.5501 - val_accuracy: 0.6413 - val_auc: 0.8509 - val_precision: 0.6522 - val_recall: 0.6284 - val_true_positives: 8999.0000\n",
      "Epoch 5/8\n",
      "9490/9490 [==============================] - 6923s 729ms/step - loss: 0.2248 - accuracy: 0.9330 - auc: 0.9959 - precision: 0.9454 - recall: 0.9241 - true_positives: 43848.0000 - val_loss: 10.9723 - val_accuracy: 0.6393 - val_auc: 0.8502 - val_precision: 0.6470 - val_recall: 0.6314 - val_true_positives: 9042.0000\n",
      "Epoch 6/8\n",
      "9490/9490 [==============================] - 6920s 729ms/step - loss: 0.2117 - accuracy: 0.9366 - auc: 0.9960 - precision: 0.9480 - recall: 0.9282 - true_positives: 44044.0000 - val_loss: 11.9286 - val_accuracy: 0.6456 - val_auc: 0.8503 - val_precision: 0.6545 - val_recall: 0.6388 - val_true_positives: 9147.0000\n",
      "Epoch 7/8\n",
      "9490/9490 [==============================] - 6836s 720ms/step - loss: 0.2028 - accuracy: 0.9407 - auc: 0.9962 - precision: 0.9512 - recall: 0.9325 - true_positives: 44247.0000 - val_loss: 13.5681 - val_accuracy: 0.6357 - val_auc: 0.8452 - val_precision: 0.6436 - val_recall: 0.6274 - val_true_positives: 8984.0000\n",
      "Epoch 8/8\n",
      "9490/9490 [==============================] - 6884s 725ms/step - loss: 0.1900 - accuracy: 0.9446 - auc: 0.9964 - precision: 0.9539 - recall: 0.9373 - true_positives: 44473.0000 - val_loss: 14.1940 - val_accuracy: 0.6480 - val_auc: 0.8482 - val_precision: 0.6570 - val_recall: 0.6425 - val_true_positives: 9201.0000\n"
     ]
    }
   ],
   "source": [
    "batch_size=512\n",
    "STEP_SIZE_TRAIN = training_set.n//training_set.batch_size\n",
    "STEP_SIZE_VALID = test_set.n//test_set.batch_size\n",
    "\n",
    "# fit model\n",
    "history = model.fit(training_set, steps_per_epoch=STEP_SIZE_TRAIN,\n",
    "                    validation_data=test_set,\n",
    "                    validation_steps=STEP_SIZE_VALID,\n",
    "                    epochs=8,\n",
    "                    callbacks=[early])"
   ]
  },
  {
   "cell_type": "code",
   "execution_count": 11,
   "id": "8372a7ce",
   "metadata": {},
   "outputs": [
    {
     "data": {
      "image/png": "[encoded data removed]",
      "text/plain": [
       "<Figure size 432x288 with 1 Axes>"
      ]
     },
     "metadata": {
      "needs_background": "light"
     },
     "output_type": "display_data"
    }
   ],
   "source": [
    "from matplotlib import pyplot\n",
    "pyplot.plot(history.history['accuracy'])\n",
    "pyplot.show()"
   ]
  },
  {
   "cell_type": "code",
   "execution_count": null,
   "id": "90d473fa",
   "metadata": {},
   "outputs": [],
   "source": []
  },
  {
   "cell_type": "code",
   "execution_count": null,
   "id": "30fd9311",
   "metadata": {},
   "outputs": [],
   "source": []
  }
 ],
 "metadata": {
  "kernelspec": {
   "display_name": "Python 3",
   "language": "python",
   "name": "python3"
  },
  "language_info": {
   "codemirror_mode": {
    "name": "ipython",
    "version": 3
   },
   "file_extension": ".py",
   "mimetype": "text/x-python",
   "name": "python",
   "nbconvert_exporter": "python",
   "pygments_lexer": "ipython3",
   "version": "3.8.13"
  }
 },
 "nbformat": 4,
 "nbformat_minor": 5
}
