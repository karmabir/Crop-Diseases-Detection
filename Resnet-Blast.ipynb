{
 "cells": [
  {
   "cell_type": "code",
   "execution_count": 1,
   "id": "888dc355",
   "metadata": {},
   "outputs": [],
   "source": [
    "import matplotlib.pyplot as plt\n",
    "import numpy as np\n",
    "import os\n",
    "import PIL\n",
    "import tensorflow as tf\n",
    "from tensorflow import keras \n",
    "from tensorflow.keras import layers\n",
    "from keras.layers import Dense, Flatten, Input, Lambda\n",
    "from tensorflow.keras.models import Sequential \n",
    "from tensorflow.keras.optimizers import Adam\n",
    "from tensorflow.keras.preprocessing import image\n",
    "from tensorflow.keras.preprocessing.image import ImageDataGenerator,load_img\n",
    "from glob import glob"
   ]
  },
  {
   "cell_type": "code",
   "execution_count": 2,
   "id": "c17968c5",
   "metadata": {},
   "outputs": [],
   "source": [
    "img_height, img_width = 180,180"
   ]
  },
  {
   "cell_type": "code",
   "execution_count": 3,
   "id": "453be942",
   "metadata": {},
   "outputs": [
    {
     "name": "stdout",
     "output_type": "stream",
     "text": [
      "Found 2366 images belonging to 2 classes.\n"
     ]
    }
   ],
   "source": [
    "train_datagen=ImageDataGenerator(rescale=1./255,\n",
    "                                 zoom_range=0.2,\n",
    "                                 shear_range=0.1,\n",
    "                                vertical_flip=False)\n",
    "training_set=train_datagen.flow_from_directory('D:/Documents/Capstone/Project -2/Dataset/blast_VS_non-blast/train',\n",
    "                                              target_size = (img_height,img_width),\n",
    "                                              class_mode = 'categorical',\n",
    "                                              batch_size=16)"
   ]
  },
  {
   "cell_type": "code",
   "execution_count": 4,
   "id": "fb22750b",
   "metadata": {},
   "outputs": [
    {
     "name": "stdout",
     "output_type": "stream",
     "text": [
      "Found 488 images belonging to 2 classes.\n"
     ]
    }
   ],
   "source": [
    "test_datagen = ImageDataGenerator(rescale = 1./255,\n",
    "                                 zoom_range=0.2)\n",
    "\n",
    "test_set=train_datagen.flow_from_directory('D:/Documents/Capstone/Project -2/Dataset/blast_VS_non-blast/test',\n",
    "                                              target_size=(img_height,img_width),\n",
    "                                              class_mode='categorical',\n",
    "                                              batch_size=16)"
   ]
  },
  {
   "cell_type": "code",
   "execution_count": 5,
   "id": "5d039a91",
   "metadata": {},
   "outputs": [],
   "source": [
    "resnet_model = Sequential()\n",
    "\n",
    "pretrained_model = tf.keras.applications.ResNet50(include_top = False,\n",
    "                                                 input_shape=(180,180,3),\n",
    "                                                 pooling='avg', classes=2,\n",
    "                                                 weights='imagenet')\n",
    "for layer in pretrained_model.layers:\n",
    "    layer.trainable=False\n",
    "\n",
    "resnet_model.add(pretrained_model)\n",
    "resnet_model.add(Flatten())\n",
    "resnet_model.add(Dense(512, activation='relu'))\n",
    "resnet_model.add(Dense(2, activation='softmax'))"
   ]
  },
  {
   "cell_type": "code",
   "execution_count": 6,
   "id": "47d6b0a8",
   "metadata": {},
   "outputs": [
    {
     "name": "stdout",
     "output_type": "stream",
     "text": [
      "Model: \"sequential\"\n",
      "_________________________________________________________________\n",
      " Layer (type)                Output Shape              Param #   \n",
      "=================================================================\n",
      " resnet50 (Functional)       (None, 2048)              23587712  \n",
      "                                                                 \n",
      " flatten (Flatten)           (None, 2048)              0         \n",
      "                                                                 \n",
      " dense (Dense)               (None, 512)               1049088   \n",
      "                                                                 \n",
      " dense_1 (Dense)             (None, 2)                 1026      \n",
      "                                                                 \n",
      "=================================================================\n",
      "Total params: 24,637,826\n",
      "Trainable params: 1,050,114\n",
      "Non-trainable params: 23,587,712\n",
      "_________________________________________________________________\n"
     ]
    }
   ],
   "source": [
    "resnet_model.summary()"
   ]
  },
  {
   "cell_type": "code",
   "execution_count": 7,
   "id": "36a1df83",
   "metadata": {},
   "outputs": [
    {
     "name": "stderr",
     "output_type": "stream",
     "text": [
      "C:\\Users\\karma\\.conda\\envs\\FarmwiseAI\\lib\\site-packages\\keras\\optimizer_v2\\adam.py:105: UserWarning: The `lr` argument is deprecated, use `learning_rate` instead.\n",
      "  super(Adam, self).__init__(name, **kwargs)\n"
     ]
    }
   ],
   "source": [
    "resnet_model.compile(optimizer=Adam(lr=0.001), loss='binary_crossentropy',metrics=['accuracy'])"
   ]
  },
  {
   "cell_type": "code",
   "execution_count": 8,
   "id": "fb697200",
   "metadata": {},
   "outputs": [
    {
     "name": "stdout",
     "output_type": "stream",
     "text": [
      "Epoch 1/10\n",
      "148/148 [==============================] - 657s 4s/step - loss: 0.6668 - accuracy: 0.6251 - val_loss: 0.5473 - val_accuracy: 0.7520\n",
      "Epoch 2/10\n",
      "148/148 [==============================] - 508s 3s/step - loss: 0.6027 - accuracy: 0.6885 - val_loss: 0.5634 - val_accuracy: 0.7193\n",
      "Epoch 3/10\n",
      "148/148 [==============================] - 476s 3s/step - loss: 0.6085 - accuracy: 0.6864 - val_loss: 0.5541 - val_accuracy: 0.7254\n",
      "Epoch 4/10\n",
      "148/148 [==============================] - 606s 4s/step - loss: 0.5869 - accuracy: 0.6999 - val_loss: 0.5289 - val_accuracy: 0.7377\n",
      "Epoch 5/10\n",
      "148/148 [==============================] - 562s 4s/step - loss: 0.5768 - accuracy: 0.6974 - val_loss: 0.6382 - val_accuracy: 0.6230\n",
      "Epoch 6/10\n",
      "148/148 [==============================] - 506s 3s/step - loss: 0.5686 - accuracy: 0.7122 - val_loss: 0.4755 - val_accuracy: 0.7971\n",
      "Epoch 7/10\n",
      "148/148 [==============================] - 476s 3s/step - loss: 0.5653 - accuracy: 0.7101 - val_loss: 0.4774 - val_accuracy: 0.7848\n",
      "Epoch 8/10\n",
      "148/148 [==============================] - 559s 4s/step - loss: 0.5407 - accuracy: 0.7401 - val_loss: 0.4997 - val_accuracy: 0.7643\n",
      "Epoch 9/10\n",
      "148/148 [==============================] - 547s 4s/step - loss: 0.5397 - accuracy: 0.7299 - val_loss: 0.5043 - val_accuracy: 0.7643\n",
      "Epoch 10/10\n",
      "148/148 [==============================] - 439s 3s/step - loss: 0.5419 - accuracy: 0.7384 - val_loss: 0.4930 - val_accuracy: 0.7746\n"
     ]
    }
   ],
   "source": [
    "epochs=10\n",
    "history = resnet_model.fit(training_set, validation_data=test_set, epochs=epochs)"
   ]
  },
  {
   "cell_type": "code",
   "execution_count": null,
   "id": "d367aecd",
   "metadata": {},
   "outputs": [],
   "source": []
  }
 ],
 "metadata": {
  "kernelspec": {
   "display_name": "Python 3 (ipykernel)",
   "language": "python",
   "name": "python3"
  },
  "language_info": {
   "codemirror_mode": {
    "name": "ipython",
    "version": 3
   },
   "file_extension": ".py",
   "mimetype": "text/x-python",
   "name": "python",
   "nbconvert_exporter": "python",
   "pygments_lexer": "ipython3",
   "version": "3.8.13"
  }
 },
 "nbformat": 4,
 "nbformat_minor": 5
}
