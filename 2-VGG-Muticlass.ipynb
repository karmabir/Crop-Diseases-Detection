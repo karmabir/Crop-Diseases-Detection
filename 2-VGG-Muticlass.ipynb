{
 "cells": [
  {
   "cell_type": "code",
   "execution_count": 12,
   "id": "6010774f",
   "metadata": {},
   "outputs": [],
   "source": [
    "import tensorflow as tf\n",
    "from tensorflow.keras import Input\n",
    "from keras.layers import Input, Lambda, Dense, Flatten\n",
    "from keras.models import Model\n",
    "from keras.applications.vgg16 import VGG16\n",
    "from keras.applications.vgg16 import preprocess_input\n",
    "from keras.preprocessing import image\n",
    "from keras.preprocessing.image import ImageDataGenerator\n",
    "from keras.models import Sequential\n",
    "import numpy as np\n",
    "from glob import glob\n",
    "import matplotlib.pyplot as plt\n",
    "\n",
    "import warnings\n",
    "warnings.filterwarnings(\"ignore\", category=FutureWarning)"
   ]
  },
  {
   "cell_type": "code",
   "execution_count": 13,
   "id": "6d856b2b",
   "metadata": {},
   "outputs": [],
   "source": [
    "IMAGE_SIZE = [224, 224]"
   ]
  },
  {
   "cell_type": "code",
   "execution_count": 14,
   "id": "bdc69ef3",
   "metadata": {},
   "outputs": [
    {
     "name": "stdout",
     "output_type": "stream",
     "text": [
      "Found 47454 files belonging to 35 classes.\n"
     ]
    }
   ],
   "source": [
    "training_set = tf.keras.preprocessing.image_dataset_from_directory('D:/Documents/Capstone/Project -2/New Plant Diseases Dataset(Augmented)/New Plant Diseases Dataset(Augmented)/New Plant Diseases Dataset(Augmented)/train',\n",
    "                                                             image_size = (224,224),\n",
    "                                                             batch_size = 16,\n",
    "                                                             label_mode = 'categorical')"
   ]
  },
  {
   "cell_type": "code",
   "execution_count": 15,
   "id": "ef1686ec",
   "metadata": {},
   "outputs": [
    {
     "name": "stdout",
     "output_type": "stream",
     "text": [
      "Found 14321 files belonging to 35 classes.\n"
     ]
    }
   ],
   "source": [
    "testing_set = tf.keras.preprocessing.image_dataset_from_directory('D:/Documents/Capstone/Project -2/New Plant Diseases Dataset(Augmented)/New Plant Diseases Dataset(Augmented)/New Plant Diseases Dataset(Augmented)/valid',\n",
    "                                                             image_size = (224,224),\n",
    "                                                             batch_size = 16,\n",
    "                                                             label_mode = 'categorical')"
   ]
  },
  {
   "cell_type": "code",
   "execution_count": 16,
   "id": "017e8e77",
   "metadata": {},
   "outputs": [
    {
     "data": {
      "text/plain": [
       "<KerasTensor: shape=(None, 7, 7, 512) dtype=float32 (created by layer 'block5_pool')>"
      ]
     },
     "execution_count": 16,
     "metadata": {},
     "output_type": "execute_result"
    }
   ],
   "source": [
    "vgg = VGG16(input_shape=IMAGE_SIZE + [3], weights = 'imagenet', include_top=False)\n",
    "vgg.output"
   ]
  },
  {
   "cell_type": "code",
   "execution_count": 17,
   "id": "a6094480",
   "metadata": {},
   "outputs": [],
   "source": [
    "for layer in vgg.layers:\n",
    "    layer.trainable = False"
   ]
  },
  {
   "cell_type": "code",
   "execution_count": 18,
   "id": "f2a81397",
   "metadata": {},
   "outputs": [],
   "source": [
    "x = Flatten()(vgg.output)"
   ]
  },
  {
   "cell_type": "code",
   "execution_count": 19,
   "id": "f05a9d26",
   "metadata": {},
   "outputs": [],
   "source": [
    "prediction = Dense(35, activation='softmax')(x)"
   ]
  },
  {
   "cell_type": "code",
   "execution_count": 20,
   "id": "a50ba1b8",
   "metadata": {},
   "outputs": [],
   "source": [
    "model = Model(inputs=vgg.input, outputs=prediction)"
   ]
  },
  {
   "cell_type": "code",
   "execution_count": 21,
   "id": "523522d5",
   "metadata": {},
   "outputs": [
    {
     "name": "stdout",
     "output_type": "stream",
     "text": [
      "Model: \"model_1\"\n",
      "_________________________________________________________________\n",
      " Layer (type)                Output Shape              Param #   \n",
      "=================================================================\n",
      " input_2 (InputLayer)        [(None, 224, 224, 3)]     0         \n",
      "                                                                 \n",
      " block1_conv1 (Conv2D)       (None, 224, 224, 64)      1792      \n",
      "                                                                 \n",
      " block1_conv2 (Conv2D)       (None, 224, 224, 64)      36928     \n",
      "                                                                 \n",
      " block1_pool (MaxPooling2D)  (None, 112, 112, 64)      0         \n",
      "                                                                 \n",
      " block2_conv1 (Conv2D)       (None, 112, 112, 128)     73856     \n",
      "                                                                 \n",
      " block2_conv2 (Conv2D)       (None, 112, 112, 128)     147584    \n",
      "                                                                 \n",
      " block2_pool (MaxPooling2D)  (None, 56, 56, 128)       0         \n",
      "                                                                 \n",
      " block3_conv1 (Conv2D)       (None, 56, 56, 256)       295168    \n",
      "                                                                 \n",
      " block3_conv2 (Conv2D)       (None, 56, 56, 256)       590080    \n",
      "                                                                 \n",
      " block3_conv3 (Conv2D)       (None, 56, 56, 256)       590080    \n",
      "                                                                 \n",
      " block3_pool (MaxPooling2D)  (None, 28, 28, 256)       0         \n",
      "                                                                 \n",
      " block4_conv1 (Conv2D)       (None, 28, 28, 512)       1180160   \n",
      "                                                                 \n",
      " block4_conv2 (Conv2D)       (None, 28, 28, 512)       2359808   \n",
      "                                                                 \n",
      " block4_conv3 (Conv2D)       (None, 28, 28, 512)       2359808   \n",
      "                                                                 \n",
      " block4_pool (MaxPooling2D)  (None, 14, 14, 512)       0         \n",
      "                                                                 \n",
      " block5_conv1 (Conv2D)       (None, 14, 14, 512)       2359808   \n",
      "                                                                 \n",
      " block5_conv2 (Conv2D)       (None, 14, 14, 512)       2359808   \n",
      "                                                                 \n",
      " block5_conv3 (Conv2D)       (None, 14, 14, 512)       2359808   \n",
      "                                                                 \n",
      " block5_pool (MaxPooling2D)  (None, 7, 7, 512)         0         \n",
      "                                                                 \n",
      " flatten_1 (Flatten)         (None, 25088)             0         \n",
      "                                                                 \n",
      " dense_1 (Dense)             (None, 35)                878115    \n",
      "                                                                 \n",
      "=================================================================\n",
      "Total params: 15,592,803\n",
      "Trainable params: 878,115\n",
      "Non-trainable params: 14,714,688\n",
      "_________________________________________________________________\n"
     ]
    }
   ],
   "source": [
    "model.summary()"
   ]
  },
  {
   "cell_type": "code",
   "execution_count": 23,
   "id": "12c561d5",
   "metadata": {},
   "outputs": [
    {
     "name": "stderr",
     "output_type": "stream",
     "text": [
      "C:\\Users\\karma\\.conda\\envs\\FarmwiseAI\\lib\\site-packages\\keras\\optimizer_v2\\adam.py:105: UserWarning: The `lr` argument is deprecated, use `learning_rate` instead.\n",
      "  super(Adam, self).__init__(name, **kwargs)\n"
     ]
    }
   ],
   "source": [
    "from keras import optimizers\n",
    "from tensorflow.keras.optimizers import Adam\n",
    "\n",
    "model.compile(loss = 'categorical_crossentropy',\n",
    "             optimizer=Adam(lr=0.001),\n",
    "             metrics=['accuracy', tf.keras.metrics.AUC(), tf.keras.metrics.Precision(), tf.keras.metrics.Recall(), tf.keras.metrics.TruePositives()])"
   ]
  },
  {
   "cell_type": "code",
   "execution_count": 24,
   "id": "f5317fbe",
   "metadata": {},
   "outputs": [
    {
     "name": "stdout",
     "output_type": "stream",
     "text": [
      "Epoch 1/8\n",
      "2966/2966 [==============================] - 15892s 5s/step - loss: 6.2670 - accuracy: 0.8791 - auc: 0.9435 - precision: 0.8793 - recall: 0.8791 - true_positives: 41718.0000 - val_loss: 163.0537 - val_accuracy: 0.6414 - val_auc: 0.8173 - val_precision: 0.6414 - val_recall: 0.6414 - val_true_positives: 9185.0000\n",
      "Epoch 2/8\n",
      "2966/2966 [==============================] - 15225s 5s/step - loss: 2.8038 - accuracy: 0.9585 - auc: 0.9801 - precision: 0.9585 - recall: 0.9585 - true_positives: 45487.0000 - val_loss: 220.4487 - val_accuracy: 0.6560 - val_auc: 0.8244 - val_precision: 0.6560 - val_recall: 0.6560 - val_true_positives: 9395.0000\n",
      "Epoch 3/8\n",
      "2966/2966 [==============================] - 15949s 5s/step - loss: 1.9746 - accuracy: 0.9727 - auc: 0.9870 - precision: 0.9727 - recall: 0.9727 - true_positives: 46158.0000 - val_loss: 282.1921 - val_accuracy: 0.6512 - val_auc: 0.8216 - val_precision: 0.6512 - val_recall: 0.6512 - val_true_positives: 9326.0000\n",
      "Epoch 4/8\n",
      "2966/2966 [==============================] - 18177s 6s/step - loss: 1.6577 - accuracy: 0.9797 - auc: 0.9903 - precision: 0.9797 - recall: 0.9797 - true_positives: 46491.0000 - val_loss: 314.6493 - val_accuracy: 0.6623 - val_auc: 0.8270 - val_precision: 0.6623 - val_recall: 0.6623 - val_true_positives: 9485.0000\n",
      "Epoch 5/8\n",
      "2966/2966 [==============================] - 18675s 6s/step - loss: 1.2228 - accuracy: 0.9846 - auc: 0.9926 - precision: 0.9846 - recall: 0.9846 - true_positives: 46723.0000 - val_loss: 352.4051 - val_accuracy: 0.6590 - val_auc: 0.8255 - val_precision: 0.6590 - val_recall: 0.6590 - val_true_positives: 9438.0000\n",
      "Epoch 6/8\n",
      "2966/2966 [==============================] - 15606s 5s/step - loss: 1.0726 - accuracy: 0.9869 - auc: 0.9937 - precision: 0.9869 - recall: 0.9869 - true_positives: 46832.0000 - val_loss: 378.8362 - val_accuracy: 0.6608 - val_auc: 0.8258 - val_precision: 0.6608 - val_recall: 0.6608 - val_true_positives: 9464.0000\n",
      "Epoch 7/8\n",
      "2966/2966 [==============================] - 15335s 5s/step - loss: 0.8701 - accuracy: 0.9894 - auc: 0.9949 - precision: 0.9894 - recall: 0.9894 - true_positives: 46950.0000 - val_loss: 407.9608 - val_accuracy: 0.6636 - val_auc: 0.8274 - val_precision: 0.6636 - val_recall: 0.6636 - val_true_positives: 9503.0000\n",
      "Epoch 8/8\n",
      "2966/2966 [==============================] - 15334s 5s/step - loss: 0.8549 - accuracy: 0.9903 - auc: 0.9953 - precision: 0.9903 - recall: 0.9903 - true_positives: 46994.0000 - val_loss: 434.2354 - val_accuracy: 0.6606 - val_auc: 0.8259 - val_precision: 0.6606 - val_recall: 0.6606 - val_true_positives: 9461.0000\n"
     ]
    }
   ],
   "source": [
    "epochs = 8\n",
    "model_history = model.fit(training_set, \n",
    "                          validation_data=testing_set, \n",
    "                          epochs = epochs)"
   ]
  },
  {
   "cell_type": "code",
   "execution_count": 26,
   "id": "6e840b36",
   "metadata": {},
   "outputs": [
    {
     "data": {
      "image/png": "[encoded data removed]",
      "text/plain": [
       "<Figure size 432x288 with 1 Axes>"
      ]
     },
     "metadata": {
      "needs_background": "light"
     },
     "output_type": "display_data"
    }
   ],
   "source": [
    "from matplotlib import pyplot\n",
    "pyplot.plot(model_history.history['accuracy'])\n",
    "pyplot.show()"
   ]
  },
  {
   "cell_type": "code",
   "execution_count": null,
   "id": "c46c0886",
   "metadata": {},
   "outputs": [],
   "source": []
  }
 ],
 "metadata": {
  "kernelspec": {
   "display_name": "Python 3",
   "language": "python",
   "name": "python3"
  },
  "language_info": {
   "codemirror_mode": {
    "name": "ipython",
    "version": 3
   },
   "file_extension": ".py",
   "mimetype": "text/x-python",
   "name": "python",
   "nbconvert_exporter": "python",
   "pygments_lexer": "ipython3",
   "version": "3.8.13"
  }
 },
 "nbformat": 4,
 "nbformat_minor": 5
}
